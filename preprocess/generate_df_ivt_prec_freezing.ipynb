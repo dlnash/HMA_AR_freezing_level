{
 "cells": [
  {
   "cell_type": "markdown",
   "metadata": {},
   "source": [
    "This preprocessing notebook takes 6-hourly AR data from tARget v3, and selects only the times where an AR crosses the 1 km threshold in HMA.\n",
    "\n",
    "Using the trackID from "
   ]
  },
  {
   "cell_type": "markdown",
   "metadata": {},
   "source": [
    "### Import"
   ]
  },
  {
   "cell_type": "code",
   "execution_count": 1,
   "metadata": {},
   "outputs": [],
   "source": [
    "# Standard Python modules\n",
    "import os, sys\n",
    "import numpy as np\n",
    "import pandas as pd\n",
    "import xarray as xr\n",
    "from datetime import datetime, timedelta\n",
    "import metpy.calc as mpcalc\n",
    "from metpy.units import units\n",
    "\n",
    "# import personal modules\n",
    "\n",
    "# Path to modules\n",
    "sys.path.append('../modules')\n",
    "\n",
    "# Import my modules\n",
    "from ar_funcs import get_topo_mask\n",
    "from timeseries import select_months_ds, select_months_df"
   ]
  },
  {
   "cell_type": "code",
   "execution_count": 2,
   "metadata": {},
   "outputs": [],
   "source": [
    "# Set up paths\n",
    "server = 'great'\n",
    "path_to_data = '/home/nash/DATA/data/'                                      # project data -- read only\n",
    "path_to_out  = '../out/'       # output files (numerical results, intermediate datafiles) -- read & write\n",
    "path_to_figs = '../figs/'      # figures"
   ]
  },
  {
   "cell_type": "markdown",
   "metadata": {},
   "source": [
    "### Get list of AR dates and trackIDs when an AR crosses 1000 m elevation threshold in HMA"
   ]
  },
  {
   "cell_type": "code",
   "execution_count": 3,
   "metadata": {},
   "outputs": [],
   "source": [
    "# identify ARs using single bound box with elevation mask during DJF\n",
    "bbox = [20, 40, 65, 97] # HMA region\n",
    "start_date = '1979-12-01 0:00'\n",
    "end_date = '2015-02-28 18:00'\n",
    "elev_thres = 1000.\n",
    "start_mon = 12\n",
    "end_mon = 2\n",
    "\n",
    "# open ds\n",
    "filename =  path_to_data + 'ar_catalog/globalARcatalog_ERA-Interim_1979-2019_v3.0.nc'\n",
    "ds = xr.open_dataset(filename, chunks={'time': 1460}, engine='netcdf4')\n",
    "ds = ds.squeeze()\n",
    "# remove lev and ens coords\n",
    "ds = ds.reset_coords(names=['lev', 'ens'], drop=True)\n",
    "\n",
    "# select lats, lons, and dates within start_date, end_date and months\n",
    "lat1, lat2, lon1, lon2 = bbox\n",
    "ds = ds.sel(time=slice(start_date, end_date), lat=slice(lat1,lat2), lon=slice(lon1,lon2))\n",
    "ds = select_months_ds(ds, start_mon, end_mon)\n",
    "\n",
    "# add topo mask\n",
    "mask = get_topo_mask(ds.lat, ds.lon) # create a elevation dataset with same grid spacing as ds\n",
    "ds = ds.where(mask.bedrock >= elev_thres) # mask ds where elevation is less than 1000 m\n",
    "\n",
    "# convert dataset to dataframe\n",
    "df = ds.kidmap.to_dataframe(dim_order=['time', 'lat', 'lon'])\n",
    "df = df.dropna(axis='rows')\n",
    "# keep only rows that have trackID\n",
    "trackID = df.groupby('time').kidmap.unique()\n",
    "# trackID # this is all trackIDs that crossed the 1000 m threshold\n"
   ]
  },
  {
   "cell_type": "code",
   "execution_count": 4,
   "metadata": {},
   "outputs": [],
   "source": [
    "id_df = trackID.to_frame() # converts to a pandas dataframe\n",
    "id_df = id_df.reset_index() # reset the index\n",
    "id_df = id_df.rename(columns={'time': 'date'}) # rename time column into date\n",
    "id_df = id_df.set_index(pd.to_datetime(id_df['date'])) # reset the index as \"date\"\n",
    "id_df.index = id_df.index.strftime(\"%Y-%m-%d\") # make it so the index date is normalized to daily\n",
    "id_df = id_df.rename(columns={'date': 'time'}) # rename the date column back to time\n",
    "id_df = id_df.reset_index() # remove the index\n",
    "id_df = id_df.explode('kidmap') # explode the dataframe based on trackID\n",
    "# id_df"
   ]
  },
  {
   "cell_type": "code",
   "execution_count": 5,
   "metadata": {
    "tags": []
   },
   "outputs": [],
   "source": [
    "# load AR CAT (from Nash et al. 2021)\n",
    "filepath = path_to_out + 'AR-types_ALLDAYS.csv'\n",
    "ar_cat = pd.read_csv(filepath)\n",
    "ar_cat = ar_cat.rename(columns={'Unnamed: 0': 'date'})\n",
    "ar_cat = ar_cat.set_index(pd.to_datetime(ar_cat['date']))\n",
    "ar_cat = select_months_df(ar_cat, start_mon, end_mon)\n",
    "ar_cat.index = ar_cat.index.strftime(\"%Y-%m-%d\")\n",
    "ar_cat = ar_cat.drop(columns=['date'])\n",
    "ar_cat = ar_cat.reset_index()\n",
    "idx = ar_cat['AR_CAT'] > 0\n",
    "ar_cat = ar_cat.loc[idx]\n",
    "\n",
    "# ar_cat"
   ]
  },
  {
   "cell_type": "code",
   "execution_count": 6,
   "metadata": {
    "tags": []
   },
   "outputs": [],
   "source": [
    "# merge id_df with ar_cat\n",
    "merge_ar = pd.merge(id_df, ar_cat, how='outer', on='date')\n",
    "track_ids = merge_ar.kidmap.unique() # get unique list of AR track IDs\n",
    "ar_dates = merge_ar.time.unique() # get unique list of AR date/times (for later)\n",
    "# merge_ar"
   ]
  },
  {
   "cell_type": "code",
   "execution_count": 7,
   "metadata": {},
   "outputs": [
    {
     "data": {
      "text/html": [
       "<div>\n",
       "<style scoped>\n",
       "    .dataframe tbody tr th:only-of-type {\n",
       "        vertical-align: middle;\n",
       "    }\n",
       "\n",
       "    .dataframe tbody tr th {\n",
       "        vertical-align: top;\n",
       "    }\n",
       "\n",
       "    .dataframe thead th {\n",
       "        text-align: right;\n",
       "    }\n",
       "</style>\n",
       "<table border=\"1\" class=\"dataframe\">\n",
       "  <thead>\n",
       "    <tr style=\"text-align: right;\">\n",
       "      <th></th>\n",
       "      <th>trackID</th>\n",
       "      <th>ar_cat</th>\n",
       "      <th>start_date</th>\n",
       "      <th>end_date</th>\n",
       "      <th>duration</th>\n",
       "    </tr>\n",
       "  </thead>\n",
       "  <tbody>\n",
       "    <tr>\n",
       "      <th>1</th>\n",
       "      <td>2861.0</td>\n",
       "      <td>1</td>\n",
       "      <td>1979-12-02 00:00:00</td>\n",
       "      <td>1979-12-02 18:00:00</td>\n",
       "      <td>18.0</td>\n",
       "    </tr>\n",
       "    <tr>\n",
       "      <th>2</th>\n",
       "      <td>2871.0</td>\n",
       "      <td>1</td>\n",
       "      <td>1979-12-09 06:00:00</td>\n",
       "      <td>1979-12-09 18:00:00</td>\n",
       "      <td>12.0</td>\n",
       "    </tr>\n",
       "    <tr>\n",
       "      <th>3</th>\n",
       "      <td>2975.0</td>\n",
       "      <td>1</td>\n",
       "      <td>1979-12-16 12:00:00</td>\n",
       "      <td>1979-12-17 00:00:00</td>\n",
       "      <td>12.0</td>\n",
       "    </tr>\n",
       "    <tr>\n",
       "      <th>4</th>\n",
       "      <td>2988.0</td>\n",
       "      <td>1</td>\n",
       "      <td>1979-12-21 00:00:00</td>\n",
       "      <td>1979-12-22 12:00:00</td>\n",
       "      <td>36.0</td>\n",
       "    </tr>\n",
       "    <tr>\n",
       "      <th>5</th>\n",
       "      <td>3026.0</td>\n",
       "      <td>1</td>\n",
       "      <td>1979-12-24 06:00:00</td>\n",
       "      <td>1979-12-24 12:00:00</td>\n",
       "      <td>6.0</td>\n",
       "    </tr>\n",
       "    <tr>\n",
       "      <th>...</th>\n",
       "      <td>...</td>\n",
       "      <td>...</td>\n",
       "      <td>...</td>\n",
       "      <td>...</td>\n",
       "      <td>...</td>\n",
       "    </tr>\n",
       "    <tr>\n",
       "      <th>2367</th>\n",
       "      <td>114217.0</td>\n",
       "      <td>3</td>\n",
       "      <td>2015-01-03 18:00:00</td>\n",
       "      <td>2015-01-04 00:00:00</td>\n",
       "      <td>6.0</td>\n",
       "    </tr>\n",
       "    <tr>\n",
       "      <th>2373</th>\n",
       "      <td>114363.0</td>\n",
       "      <td>3</td>\n",
       "      <td>2015-01-21 06:00:00</td>\n",
       "      <td>2015-01-22 06:00:00</td>\n",
       "      <td>24.0</td>\n",
       "    </tr>\n",
       "    <tr>\n",
       "      <th>2374</th>\n",
       "      <td>114402.0</td>\n",
       "      <td>3</td>\n",
       "      <td>2015-01-29 12:00:00</td>\n",
       "      <td>2015-01-30 18:00:00</td>\n",
       "      <td>30.0</td>\n",
       "    </tr>\n",
       "    <tr>\n",
       "      <th>2379</th>\n",
       "      <td>114602.0</td>\n",
       "      <td>3</td>\n",
       "      <td>2015-02-24 00:00:00</td>\n",
       "      <td>2015-02-27 06:00:00</td>\n",
       "      <td>78.0</td>\n",
       "    </tr>\n",
       "    <tr>\n",
       "      <th>2380</th>\n",
       "      <td>114668.0</td>\n",
       "      <td>3</td>\n",
       "      <td>2015-02-27 12:00:00</td>\n",
       "      <td>2015-02-27 18:00:00</td>\n",
       "      <td>6.0</td>\n",
       "    </tr>\n",
       "  </tbody>\n",
       "</table>\n",
       "<p>972 rows × 5 columns</p>\n",
       "</div>"
      ],
      "text/plain": [
       "       trackID  ar_cat          start_date            end_date  duration\n",
       "1       2861.0       1 1979-12-02 00:00:00 1979-12-02 18:00:00      18.0\n",
       "2       2871.0       1 1979-12-09 06:00:00 1979-12-09 18:00:00      12.0\n",
       "3       2975.0       1 1979-12-16 12:00:00 1979-12-17 00:00:00      12.0\n",
       "4       2988.0       1 1979-12-21 00:00:00 1979-12-22 12:00:00      36.0\n",
       "5       3026.0       1 1979-12-24 06:00:00 1979-12-24 12:00:00       6.0\n",
       "...        ...     ...                 ...                 ...       ...\n",
       "2367  114217.0       3 2015-01-03 18:00:00 2015-01-04 00:00:00       6.0\n",
       "2373  114363.0       3 2015-01-21 06:00:00 2015-01-22 06:00:00      24.0\n",
       "2374  114402.0       3 2015-01-29 12:00:00 2015-01-30 18:00:00      30.0\n",
       "2379  114602.0       3 2015-02-24 00:00:00 2015-02-27 06:00:00      78.0\n",
       "2380  114668.0       3 2015-02-27 12:00:00 2015-02-27 18:00:00       6.0\n",
       "\n",
       "[972 rows x 5 columns]"
      ]
     },
     "execution_count": 7,
     "metadata": {},
     "output_type": "execute_result"
    }
   ],
   "source": [
    "# create df with trackID, ar_cat, start date, end date, and duration of AR (how long it is within HMA region)\n",
    "ar = []\n",
    "data = []\n",
    "for i in [1, 2, 3]:\n",
    "    idx = (merge_ar.AR_CAT == i)\n",
    "    ar = merge_ar.loc[idx]\n",
    "\n",
    "    for j, ids in enumerate(track_ids):\n",
    "        idx = (ar.kidmap == ids)\n",
    "        tmp = ar.loc[idx]\n",
    "        start = pd.to_datetime(tmp.time.min())\n",
    "        stop = pd.to_datetime(tmp.time.max()) + timedelta(hours=6)\n",
    "        tmp = (stop - start)\n",
    "        duration = tmp.total_seconds()/(3600) # convert to number of hours\n",
    "\n",
    "        data.append([ids, i, start, stop, duration])\n",
    "    \n",
    "duration_df = pd.DataFrame(data, columns=['trackID', 'ar_cat', 'start_date', 'end_date', 'duration'])\n",
    "duration_df = duration_df.dropna()\n",
    "duration_df"
   ]
  },
  {
   "cell_type": "markdown",
   "metadata": {},
   "source": [
    "### Landslide DF"
   ]
  },
  {
   "cell_type": "code",
   "execution_count": 8,
   "metadata": {
    "tags": []
   },
   "outputs": [],
   "source": [
    "def expand_grid(lat,lon):\n",
    "    '''list all combinations of lats and lons using expand_grid(lat,lon)'''\n",
    "    test = [(A,B) for A in lat for B in lon]\n",
    "    test = np.array(test)\n",
    "    test_lat = test[:,0]\n",
    "    test_lon = test[:,1]\n",
    "    full_grid = pd.DataFrame({'lat': test_lat, 'lon': test_lon})\n",
    "    full_grid = full_grid.sort_values(by=['lat','lon'])\n",
    "    full_grid = full_grid.reset_index(drop=True)\n",
    "    return full_grid"
   ]
  },
  {
   "cell_type": "code",
   "execution_count": 9,
   "metadata": {
    "tags": []
   },
   "outputs": [],
   "source": [
    "fname = path_to_data + 'CH2_generated_data/Global_Landslide_Catalog_Export.csv' #TODO check this - is it the raw downloaded data?\n",
    "landslide = pd.read_csv(fname)\n",
    "\n",
    "# Select lat/lon grid\n",
    "lonmin = 65\n",
    "lonmax = 100\n",
    "latmin = 20\n",
    "latmax = 42\n",
    "\n",
    "## Select Landslides within Southern Asia region\n",
    "idx = (landslide.latitude >= latmin) & (landslide.latitude <= latmax) & (landslide.longitude >= lonmin) & (landslide.longitude <= lonmax)\n",
    "landslide = landslide.loc[idx]\n",
    "# set event time as index\n",
    "landslide = landslide.set_index(pd.to_datetime(landslide.event_date))\n",
    "# landslide.index = landslide.index.normalize()\n",
    "\n",
    "# select only landslide dates that are between december and may\n",
    "idx = (landslide.index.month >= 12) | (landslide.index.month <= 5)\n",
    "landslide = landslide[idx]\n",
    "\n",
    "# rename and reindex\n",
    "landslide = landslide.rename(columns={\"latitude\": \"lat\", \"longitude\": \"lon\", \"event_date\": \"event_time\"})\n",
    "landslide = landslide.reset_index()\n",
    "\n",
    "# round event time to the nearest 6 hours\n",
    "landslide['time'] = landslide['event_date'].dt.round('6H')\n",
    "landslide = landslide.set_index(pd.to_datetime(landslide.time))\n",
    "\n",
    "# select only landslide dates that are between december and may\n",
    "idx = (landslide.index.month >= 12) | (landslide.index.month <= 5)\n",
    "landslide = landslide[idx]\n",
    "\n",
    "# landslide"
   ]
  },
  {
   "cell_type": "code",
   "execution_count": 10,
   "metadata": {
    "tags": []
   },
   "outputs": [],
   "source": [
    "# now we want to see if there is an AR present at the same time and location as the landslides\n",
    "# open the trackID for ARs\n",
    "filename =  path_to_data + 'ar_catalog/globalARcatalog_ERA-Interim_1979-2019_v3.0.nc'\n",
    "ar = xr.open_dataset(filename, engine='netcdf4')\n",
    "ar = ar.squeeze()\n",
    "\n",
    "# Select months\n",
    "idx = (ar.time.dt.month >= 12) | (ar.time.dt.month <= 5)\n",
    "kid = ar.kidmap.sel(time=idx) # trackID for indexing\n",
    "\n",
    "# slice the dates so both ds match\n",
    "kid = kid.sel(time=slice('1979-12-01 00', '2019-05-31 00:00'))\n",
    "# kid"
   ]
  },
  {
   "cell_type": "code",
   "execution_count": 11,
   "metadata": {
    "tags": []
   },
   "outputs": [],
   "source": [
    "## for each landslide_id, if the lat/lon falls within an AR, keep that AR ID and landslide ID\n",
    "landslideID = []\n",
    "arID = []\n",
    "landslide_lat = []\n",
    "landslide_lon = []\n",
    "for i, row in landslide.T.iteritems():\n",
    "    t = kid.sel(lat=row['lat'], lon=row['lon'], time=row['time'], method='nearest').values\n",
    "    # print(t)\n",
    "    if t > 0:\n",
    "        landslideID.append(row['event_id'])\n",
    "        arID.append(t)\n",
    "        landslide_lat.append(row['lat'])\n",
    "        landslide_lon.append(row['lon'])\n",
    "        \n",
    "d = {'landslideID': landslideID, 'trackID': arID, \n",
    "     'landslide_lat': landslide_lat, 'landslide_lon': landslide_lon}\n",
    "landslide_df = pd.DataFrame(data=d)\n",
    "# convert the dtype for the trackID column\n",
    "landslide_df = landslide_df.astype({'trackID': 'float64'})\n",
    "\n",
    "# landslide_df"
   ]
  },
  {
   "cell_type": "code",
   "execution_count": 12,
   "metadata": {
    "tags": []
   },
   "outputs": [],
   "source": [
    "# merge AR duration df and landslide DF\n",
    "merged_data = pd.merge(duration_df, landslide_df, how='outer', on='trackID')\n",
    "# merged_data \n",
    "# note the rows that do not have a date or time \n",
    "# are landslides that are associated with a specific AR that was not considered a \"HMA AR\""
   ]
  },
  {
   "cell_type": "code",
   "execution_count": 13,
   "metadata": {
    "tags": []
   },
   "outputs": [],
   "source": [
    "## test to make sure merged correctly\n",
    "# idx = merged_data.landslideID > 0\n",
    "# test = merged_data[idx]\n",
    "# test"
   ]
  },
  {
   "cell_type": "code",
   "execution_count": 14,
   "metadata": {},
   "outputs": [
    {
     "data": {
      "text/html": [
       "<div>\n",
       "<style scoped>\n",
       "    .dataframe tbody tr th:only-of-type {\n",
       "        vertical-align: middle;\n",
       "    }\n",
       "\n",
       "    .dataframe tbody tr th {\n",
       "        vertical-align: top;\n",
       "    }\n",
       "\n",
       "    .dataframe thead th {\n",
       "        text-align: right;\n",
       "    }\n",
       "</style>\n",
       "<table border=\"1\" class=\"dataframe\">\n",
       "  <thead>\n",
       "    <tr style=\"text-align: right;\">\n",
       "      <th></th>\n",
       "      <th>trackID</th>\n",
       "      <th>ar_cat</th>\n",
       "      <th>start_date</th>\n",
       "      <th>end_date</th>\n",
       "      <th>duration</th>\n",
       "      <th>landslideID</th>\n",
       "      <th>landslide_lat</th>\n",
       "      <th>landslide_lon</th>\n",
       "    </tr>\n",
       "  </thead>\n",
       "  <tbody>\n",
       "    <tr>\n",
       "      <th>0</th>\n",
       "      <td>2861.0</td>\n",
       "      <td>1.0</td>\n",
       "      <td>1979-12-02 00:00:00</td>\n",
       "      <td>1979-12-02 18:00:00</td>\n",
       "      <td>18.0</td>\n",
       "      <td>NaN</td>\n",
       "      <td>NaN</td>\n",
       "      <td>NaN</td>\n",
       "    </tr>\n",
       "    <tr>\n",
       "      <th>1</th>\n",
       "      <td>2861.0</td>\n",
       "      <td>2.0</td>\n",
       "      <td>1979-12-01 00:00:00</td>\n",
       "      <td>1979-12-02 00:00:00</td>\n",
       "      <td>24.0</td>\n",
       "      <td>NaN</td>\n",
       "      <td>NaN</td>\n",
       "      <td>NaN</td>\n",
       "    </tr>\n",
       "    <tr>\n",
       "      <th>2</th>\n",
       "      <td>2871.0</td>\n",
       "      <td>1.0</td>\n",
       "      <td>1979-12-09 06:00:00</td>\n",
       "      <td>1979-12-09 18:00:00</td>\n",
       "      <td>12.0</td>\n",
       "      <td>NaN</td>\n",
       "      <td>NaN</td>\n",
       "      <td>NaN</td>\n",
       "    </tr>\n",
       "    <tr>\n",
       "      <th>3</th>\n",
       "      <td>2871.0</td>\n",
       "      <td>2.0</td>\n",
       "      <td>1979-12-08 06:00:00</td>\n",
       "      <td>1979-12-09 00:00:00</td>\n",
       "      <td>18.0</td>\n",
       "      <td>NaN</td>\n",
       "      <td>NaN</td>\n",
       "      <td>NaN</td>\n",
       "    </tr>\n",
       "    <tr>\n",
       "      <th>4</th>\n",
       "      <td>2975.0</td>\n",
       "      <td>1.0</td>\n",
       "      <td>1979-12-16 12:00:00</td>\n",
       "      <td>1979-12-17 00:00:00</td>\n",
       "      <td>12.0</td>\n",
       "      <td>NaN</td>\n",
       "      <td>NaN</td>\n",
       "      <td>NaN</td>\n",
       "    </tr>\n",
       "    <tr>\n",
       "      <th>...</th>\n",
       "      <td>...</td>\n",
       "      <td>...</td>\n",
       "      <td>...</td>\n",
       "      <td>...</td>\n",
       "      <td>...</td>\n",
       "      <td>...</td>\n",
       "      <td>...</td>\n",
       "      <td>...</td>\n",
       "    </tr>\n",
       "    <tr>\n",
       "      <th>983</th>\n",
       "      <td>114196.0</td>\n",
       "      <td>3.0</td>\n",
       "      <td>2014-12-31 18:00:00</td>\n",
       "      <td>2015-01-03 12:00:00</td>\n",
       "      <td>66.0</td>\n",
       "      <td>NaN</td>\n",
       "      <td>NaN</td>\n",
       "      <td>NaN</td>\n",
       "    </tr>\n",
       "    <tr>\n",
       "      <th>984</th>\n",
       "      <td>114217.0</td>\n",
       "      <td>3.0</td>\n",
       "      <td>2015-01-03 18:00:00</td>\n",
       "      <td>2015-01-04 00:00:00</td>\n",
       "      <td>6.0</td>\n",
       "      <td>NaN</td>\n",
       "      <td>NaN</td>\n",
       "      <td>NaN</td>\n",
       "    </tr>\n",
       "    <tr>\n",
       "      <th>985</th>\n",
       "      <td>114363.0</td>\n",
       "      <td>3.0</td>\n",
       "      <td>2015-01-21 06:00:00</td>\n",
       "      <td>2015-01-22 06:00:00</td>\n",
       "      <td>24.0</td>\n",
       "      <td>NaN</td>\n",
       "      <td>NaN</td>\n",
       "      <td>NaN</td>\n",
       "    </tr>\n",
       "    <tr>\n",
       "      <th>986</th>\n",
       "      <td>114402.0</td>\n",
       "      <td>3.0</td>\n",
       "      <td>2015-01-29 12:00:00</td>\n",
       "      <td>2015-01-30 18:00:00</td>\n",
       "      <td>30.0</td>\n",
       "      <td>NaN</td>\n",
       "      <td>NaN</td>\n",
       "      <td>NaN</td>\n",
       "    </tr>\n",
       "    <tr>\n",
       "      <th>987</th>\n",
       "      <td>114668.0</td>\n",
       "      <td>3.0</td>\n",
       "      <td>2015-02-27 12:00:00</td>\n",
       "      <td>2015-02-27 18:00:00</td>\n",
       "      <td>6.0</td>\n",
       "      <td>NaN</td>\n",
       "      <td>NaN</td>\n",
       "      <td>NaN</td>\n",
       "    </tr>\n",
       "  </tbody>\n",
       "</table>\n",
       "<p>988 rows × 8 columns</p>\n",
       "</div>"
      ],
      "text/plain": [
       "      trackID  ar_cat          start_date            end_date  duration  \\\n",
       "0      2861.0     1.0 1979-12-02 00:00:00 1979-12-02 18:00:00      18.0   \n",
       "1      2861.0     2.0 1979-12-01 00:00:00 1979-12-02 00:00:00      24.0   \n",
       "2      2871.0     1.0 1979-12-09 06:00:00 1979-12-09 18:00:00      12.0   \n",
       "3      2871.0     2.0 1979-12-08 06:00:00 1979-12-09 00:00:00      18.0   \n",
       "4      2975.0     1.0 1979-12-16 12:00:00 1979-12-17 00:00:00      12.0   \n",
       "..        ...     ...                 ...                 ...       ...   \n",
       "983  114196.0     3.0 2014-12-31 18:00:00 2015-01-03 12:00:00      66.0   \n",
       "984  114217.0     3.0 2015-01-03 18:00:00 2015-01-04 00:00:00       6.0   \n",
       "985  114363.0     3.0 2015-01-21 06:00:00 2015-01-22 06:00:00      24.0   \n",
       "986  114402.0     3.0 2015-01-29 12:00:00 2015-01-30 18:00:00      30.0   \n",
       "987  114668.0     3.0 2015-02-27 12:00:00 2015-02-27 18:00:00       6.0   \n",
       "\n",
       "     landslideID  landslide_lat  landslide_lon  \n",
       "0            NaN            NaN            NaN  \n",
       "1            NaN            NaN            NaN  \n",
       "2            NaN            NaN            NaN  \n",
       "3            NaN            NaN            NaN  \n",
       "4            NaN            NaN            NaN  \n",
       "..           ...            ...            ...  \n",
       "983          NaN            NaN            NaN  \n",
       "984          NaN            NaN            NaN  \n",
       "985          NaN            NaN            NaN  \n",
       "986          NaN            NaN            NaN  \n",
       "987          NaN            NaN            NaN  \n",
       "\n",
       "[988 rows x 8 columns]"
      ]
     },
     "execution_count": 14,
     "metadata": {},
     "output_type": "execute_result"
    }
   ],
   "source": [
    "# drop the rows that are not a HMA AR\n",
    "idx = merged_data['ar_cat'] > 0\n",
    "merged_data = merged_data.loc[idx]\n",
    "merged_data"
   ]
  },
  {
   "cell_type": "markdown",
   "metadata": {},
   "source": [
    "## load 2D WRF data"
   ]
  },
  {
   "cell_type": "code",
   "execution_count": 15,
   "metadata": {},
   "outputs": [],
   "source": [
    "## pull wrflats and wrflons from first file\n",
    "fname = path_to_data + 'wrf_hasia/d01/ivt/3hr/tmp_2015.nc'\n",
    "tmp = xr.open_dataset(fname)\n",
    "# print(tmp.time[:100])\n",
    "# print(tmp.time[-100:])\n",
    "\n",
    "## assign those lats to the other ds when you loop\n",
    "wrflats = tmp.lat.values\n",
    "wrflons = tmp.lon.values\n",
    "\n",
    "fname = path_to_data + 'wrf_hasia/d02/prec/3hr/tmp_2014.nc'\n",
    "tmp = xr.open_dataset(fname)\n",
    "# print(tmp.time[:100])\n",
    "# print(tmp.time[-100:])\n",
    "\n",
    "## assign those lats to the other ds when you loop\n",
    "wrflats2 = tmp.lat.values\n",
    "wrflons2 = tmp.lon.values\n"
   ]
  },
  {
   "cell_type": "code",
   "execution_count": 16,
   "metadata": {},
   "outputs": [
    {
     "name": "stdout",
     "output_type": "stream",
     "text": [
      "ivt\n",
      "prec\n",
      "CPU times: user 1.9 s, sys: 114 ms, total: 2.02 s\n",
      "Wall time: 2.11 s\n"
     ]
    }
   ],
   "source": [
    "%%time\n",
    "def preprocess_ivt(ds):\n",
    "    '''keep only the current year'''\n",
    "    year = ds.time.dt.year.max().values\n",
    "    ds = ds.assign_coords({\"lon\": wrflons, \"lat\": wrflats})\n",
    "    if year == 1980:\n",
    "        ds = ds\n",
    "    else:\n",
    "        ds = ds.sel(time=slice('{0}-01-01 00:00'.format(year), '{0}-12-31 21:00'.format(year)))\n",
    "    return ds\n",
    "\n",
    "def preprocess_prec(ds):\n",
    "    '''keep only the current year'''\n",
    "    year = ds.time.dt.year.max().values\n",
    "    ds = ds.assign_coords({\"lon\": wrflons2, \"lat\": wrflats2})\n",
    "    if year == 1980:\n",
    "        ds = ds\n",
    "    else:\n",
    "        ds = ds.sel(time=slice('{0}-01-01 00:00'.format(year), '{0}-12-31 21:00'.format(year)))\n",
    "    return ds\n",
    "\n",
    "domains = ['d01', 'd02']\n",
    "varname_lst = ['ivt', 'prec']\n",
    "\n",
    "## loop through each ds\n",
    "ds_lst = []\n",
    "for i, (dom, varname) in enumerate(zip(domains, varname_lst)):\n",
    "    print(varname)\n",
    "    if server == 'great':\n",
    "        data_path = path_to_data + 'wrf_hasia/'\n",
    "    else:\n",
    "        data_path = path_to_data + 'wrf_preprocessed_data/wrf_6km/'\n",
    "        \n",
    "    filename_pattern = '{0}/{1}/3hr/tmp_*.nc'.format(dom, varname)\n",
    "    fname = data_path + filename_pattern\n",
    "    \n",
    "    if varname == 'ivt':\n",
    "        ds = xr.open_mfdataset(fname, preprocess=preprocess_ivt)\n",
    "        ds = ds.assign(ivt=lambda ds: np.sqrt(ds.ivtu**2 + ds.ivtv**2))\n",
    "    elif varname == 'prec':\n",
    "        ds = xr.open_mfdataset(fname, preprocess=preprocess_prec)\n",
    "        ## shift subtraction to get mm per hour \n",
    "        # # rain at next time step - rain at current time step\n",
    "        ds = ds.shift(time=-1) - ds # if in xarray\n",
    "    elif varname == 'geopotential':\n",
    "        ds = ds.sel(lev=250.)\n",
    "    \n",
    "    # subset to just ar days\n",
    "    # ds = ds.sel(time = slice(start_date, end_date))\n",
    "    # ds = select_months_ds(ds, start_mon, end_mon)\n",
    "    ds = ds.sel(time = ar_dates[:-1])\n",
    "    \n",
    "    ds_lst.append(ds)\n",
    "    \n",
    "ivt = ds_lst[0]\n",
    "prec = ds_lst[1]\n"
   ]
  },
  {
   "cell_type": "code",
   "execution_count": 17,
   "metadata": {},
   "outputs": [],
   "source": [
    "# ## Having trouble with wrf ds not having all the dates in the ar_dates list \n",
    "# ## use this to find out which dates are having a problem\n",
    "# # make a pandas dataframe of AR Dates\n",
    "# d = {'dates': ar_dates[:-1]}\n",
    "# df_A = pd.DataFrame(data=d)\n",
    "# df_A = df_A.set_index(pd.to_datetime(df_A['dates'])) # reset the index as \"dates\"\n",
    "\n",
    "\n",
    "# # make a pandas dataframe of WRF dates\n",
    "# d = {'dates': ivt.time}\n",
    "# df_B = pd.DataFrame(data=d)\n",
    "# df_B = df_B.set_index(pd.to_datetime(df_B['dates'])) # reset the index as \"dates\"\n",
    "\n",
    "# # test = df_A.isin(df_B)\n",
    "\n",
    "# x = df_A.index\n",
    "# y = df_B.index\n",
    "# test = x.isin(y)\n",
    "\n",
    "# idx = (test== False)\n",
    "# df_A.loc[idx]\n"
   ]
  },
  {
   "cell_type": "code",
   "execution_count": 36,
   "metadata": {},
   "outputs": [],
   "source": [
    "# latmin, latmax, lonmin, lonmax\n",
    "ext1 = [71, 79, 32, 37] # Western precip anomalies\n",
    "ext2 = [69, 74, 37, 40] # Northwestern precip anomalies\n",
    "ext3 = [90, 99, 24, 30] # Eastern precip anomalies\n",
    "\n",
    "region_name = ['western', 'northwestern', 'eastern']\n",
    "domains = [ext1, ext2, ext3]"
   ]
  },
  {
   "cell_type": "code",
   "execution_count": 37,
   "metadata": {
    "jupyter": {
     "source_hidden": true
    },
    "tags": []
   },
   "outputs": [],
   "source": [
    "# %%time\n",
    "# # make a ds for each subregion\n",
    "# ds_lst = []\n",
    "# for i, bnds in enumerate(domains):\n",
    "#     tmp = ivt.sel(lat=slice(bnds[2], bnds[3]), lon=slice(bnds[0], bnds[1])) \n",
    "#     ds_lst.append(tmp)\n",
    "# ds_lst"
   ]
  },
  {
   "cell_type": "code",
   "execution_count": 44,
   "metadata": {},
   "outputs": [],
   "source": [
    "def ar_ivt(df, ds, domains):\n",
    "    '''Calculate maximum IVT for a subregion in a ds and append to dataframe.\n",
    "     For each range of AR event dates, we find the maximum IVT for the duration of the AR for every grid cell. \n",
    "    '''\n",
    "    # the final IVT statistic to retain\n",
    "    ivtdir_vals = []\n",
    "    ivt_vals = []\n",
    "    # loop through each AR track\n",
    "    for i, (arcat, track) in enumerate(zip(df.ar_cat.values, df.trackID.values)):\n",
    "        start = df.start_date.values[i]\n",
    "        end = df.end_date.values[i]\n",
    "        # print('Getting maximum between', start, end)\n",
    "        print(i)\n",
    "        # get bbox based on ar_cat\n",
    "        bnds = domains[int(arcat)-1]\n",
    "        # select only the time steps for AR event and specified domain\n",
    "        tmp = ds.sel(time=slice(start, end), lat=slice(bnds[2], bnds[3]), lon=slice(bnds[0], bnds[1]))\n",
    "\n",
    "        ### localized IVT maxima during event\n",
    "        # event_max = tmp.where(tmp.ivt==tmp.ivt.max(), drop=True).squeeze()\n",
    "        event_max = tmp.where(tmp.ivt==tmp.ivt.max(), drop=True).squeeze().load() # this was taking too long, decided to load earlier\n",
    "        ## pull IVT and IVTDIR where ivt is max\n",
    "        uvec = event_max.ivtu.values\n",
    "        uvec = units.Quantity(uvec, \"m/s\")\n",
    "        vvec = event_max.ivtv.values\n",
    "        vvec = units.Quantity(vvec, \"m/s\")\n",
    "        ivtdir = mpcalc.wind_direction(uvec, vvec)\n",
    "        ivtdir_vals.append(ivtdir.item())\n",
    "        ivt_vals.append(event_max.ivt.values.tolist())\n",
    "        \n",
    "    final = [ivtdir_vals, ivt_vals]\n",
    "        \n",
    "    return final"
   ]
  },
  {
   "cell_type": "code",
   "execution_count": null,
   "metadata": {
    "collapsed": true,
    "jupyter": {
     "outputs_hidden": true
    },
    "tags": []
   },
   "outputs": [
    {
     "name": "stdout",
     "output_type": "stream",
     "text": [
      "0\n",
      "1\n",
      "2\n",
      "3\n",
      "4\n",
      "5\n",
      "6\n",
      "7\n",
      "8\n",
      "9\n",
      "10\n",
      "11\n",
      "12\n",
      "13\n",
      "14\n",
      "15\n",
      "16\n",
      "17\n",
      "18\n",
      "19\n",
      "20\n",
      "21\n",
      "22\n",
      "23\n",
      "24\n",
      "25\n",
      "26\n",
      "27\n",
      "28\n",
      "29\n",
      "30\n",
      "31\n",
      "32\n",
      "33\n",
      "34\n",
      "35\n",
      "36\n",
      "37\n",
      "38\n",
      "39\n",
      "40\n",
      "41\n",
      "42\n",
      "43\n",
      "44\n",
      "45\n",
      "46\n",
      "47\n",
      "48\n",
      "49\n",
      "50\n",
      "51\n",
      "52\n",
      "53\n",
      "54\n",
      "55\n",
      "56\n",
      "57\n",
      "58\n",
      "59\n",
      "60\n",
      "61\n",
      "62\n",
      "63\n",
      "64\n",
      "65\n",
      "66\n",
      "67\n",
      "68\n",
      "69\n",
      "70\n",
      "71\n",
      "72\n",
      "73\n",
      "74\n",
      "75\n",
      "76\n",
      "77\n",
      "78\n",
      "79\n",
      "80\n",
      "81\n",
      "82\n",
      "83\n",
      "84\n",
      "85\n",
      "86\n",
      "87\n",
      "88\n",
      "89\n",
      "90\n",
      "91\n",
      "92\n",
      "93\n",
      "94\n",
      "95\n",
      "96\n",
      "97\n",
      "98\n",
      "99\n",
      "100\n",
      "101\n",
      "102\n",
      "103\n",
      "104\n",
      "105\n",
      "106\n",
      "107\n",
      "108\n",
      "109\n",
      "110\n",
      "111\n",
      "112\n",
      "113\n",
      "114\n",
      "115\n",
      "116\n",
      "117\n",
      "118\n",
      "119\n",
      "120\n",
      "121\n",
      "122\n",
      "123\n",
      "124\n",
      "125\n",
      "126\n",
      "127\n",
      "128\n",
      "129\n",
      "130\n",
      "131\n",
      "132\n",
      "133\n",
      "134\n",
      "135\n",
      "136\n",
      "137\n",
      "138\n",
      "139\n",
      "140\n",
      "141\n",
      "142\n",
      "143\n",
      "144\n",
      "145\n",
      "146\n",
      "147\n",
      "148\n",
      "149\n",
      "150\n",
      "151\n",
      "152\n",
      "153\n",
      "154\n",
      "155\n",
      "156\n",
      "157\n",
      "158\n",
      "159\n",
      "160\n",
      "161\n",
      "162\n",
      "163\n",
      "164\n",
      "165\n",
      "166\n",
      "167\n",
      "168\n",
      "169\n",
      "170\n",
      "171\n",
      "172\n",
      "173\n",
      "174\n",
      "175\n",
      "176\n",
      "177\n",
      "178\n",
      "179\n",
      "180\n",
      "181\n",
      "182\n",
      "183\n",
      "184\n",
      "185\n",
      "186\n",
      "187\n",
      "188\n",
      "189\n",
      "190\n",
      "191\n",
      "192\n",
      "193\n",
      "194\n",
      "195\n",
      "196\n",
      "197\n",
      "198\n",
      "199\n",
      "200\n",
      "201\n",
      "202\n",
      "203\n",
      "204\n",
      "205\n",
      "206\n",
      "207\n",
      "208\n",
      "209\n",
      "210\n",
      "211\n",
      "212\n",
      "213\n",
      "214\n",
      "215\n",
      "216\n",
      "217\n",
      "218\n",
      "219\n",
      "220\n",
      "221\n",
      "222\n",
      "223\n",
      "224\n",
      "225\n",
      "226\n",
      "227\n",
      "228\n",
      "229\n",
      "230\n",
      "231\n",
      "232\n",
      "233\n",
      "234\n",
      "235\n",
      "236\n",
      "237\n",
      "238\n",
      "239\n",
      "240\n",
      "241\n",
      "242\n",
      "243\n",
      "244\n",
      "245\n",
      "246\n",
      "247\n",
      "248\n",
      "249\n",
      "250\n",
      "251\n",
      "252\n",
      "253\n",
      "254\n",
      "255\n",
      "256\n",
      "257\n",
      "258\n",
      "259\n",
      "260\n",
      "261\n",
      "262\n",
      "263\n",
      "264\n",
      "265\n",
      "266\n",
      "267\n",
      "268\n",
      "269\n",
      "270\n",
      "271\n",
      "272\n",
      "273\n",
      "274\n",
      "275\n",
      "276\n",
      "277\n",
      "278\n",
      "279\n",
      "280\n",
      "281\n",
      "282\n",
      "283\n",
      "284\n",
      "285\n",
      "286\n",
      "287\n",
      "288\n",
      "289\n",
      "290\n",
      "291\n",
      "292\n",
      "293\n",
      "294\n",
      "295\n",
      "296\n",
      "297\n",
      "298\n",
      "299\n",
      "300\n",
      "301\n",
      "302\n",
      "303\n",
      "304\n",
      "305\n",
      "306\n",
      "307\n",
      "308\n",
      "309\n",
      "310\n",
      "311\n",
      "312\n",
      "313\n",
      "314\n",
      "315\n",
      "316\n",
      "317\n",
      "318\n",
      "319\n",
      "320\n",
      "321\n",
      "322\n",
      "323\n",
      "324\n",
      "325\n",
      "326\n",
      "327\n",
      "328\n",
      "329\n",
      "330\n",
      "331\n",
      "332\n",
      "333\n",
      "334\n",
      "335\n",
      "336\n",
      "337\n",
      "338\n",
      "339\n",
      "340\n",
      "341\n",
      "342\n",
      "343\n",
      "344\n",
      "345\n",
      "346\n",
      "347\n",
      "348\n",
      "349\n",
      "350\n",
      "351\n",
      "352\n",
      "353\n",
      "354\n",
      "355\n",
      "356\n",
      "357\n",
      "358\n",
      "359\n",
      "360\n",
      "361\n",
      "362\n",
      "363\n",
      "364\n",
      "365\n",
      "366\n",
      "367\n",
      "368\n",
      "369\n",
      "370\n",
      "371\n",
      "372\n",
      "373\n",
      "374\n",
      "375\n",
      "376\n",
      "377\n",
      "378\n",
      "379\n",
      "380\n",
      "381\n",
      "382\n",
      "383\n",
      "384\n",
      "385\n",
      "386\n",
      "387\n",
      "388\n",
      "389\n",
      "390\n",
      "391\n",
      "392\n",
      "393\n",
      "394\n",
      "395\n",
      "396\n",
      "397\n",
      "398\n",
      "399\n",
      "400\n",
      "401\n",
      "402\n",
      "403\n",
      "404\n",
      "405\n",
      "406\n",
      "407\n",
      "408\n",
      "409\n",
      "410\n",
      "411\n",
      "412\n",
      "413\n",
      "414\n",
      "415\n",
      "416\n",
      "417\n",
      "418\n",
      "419\n",
      "420\n",
      "421\n",
      "422\n",
      "423\n",
      "424\n",
      "425\n",
      "426\n",
      "427\n",
      "428\n",
      "429\n",
      "430\n",
      "431\n",
      "432\n",
      "433\n",
      "434\n",
      "435\n",
      "436\n",
      "437\n",
      "438\n",
      "439\n",
      "440\n",
      "441\n",
      "442\n",
      "443\n",
      "444\n",
      "445\n",
      "446\n",
      "447\n",
      "448\n",
      "449\n",
      "450\n",
      "451\n",
      "452\n",
      "453\n",
      "454\n",
      "455\n",
      "456\n",
      "457\n",
      "458\n",
      "459\n",
      "460\n",
      "461\n",
      "462\n",
      "463\n",
      "464\n",
      "465\n",
      "466\n",
      "467\n",
      "468\n",
      "469\n",
      "470\n",
      "471\n",
      "472\n",
      "473\n",
      "474\n",
      "475\n",
      "476\n",
      "477\n",
      "478\n",
      "479\n",
      "480\n",
      "481\n",
      "482\n",
      "483\n",
      "484\n",
      "485\n",
      "486\n",
      "487\n",
      "488\n",
      "489\n",
      "490\n",
      "491\n",
      "492\n",
      "493\n",
      "494\n",
      "495\n",
      "496\n",
      "497\n",
      "498\n",
      "499\n",
      "500\n",
      "501\n",
      "502\n",
      "503\n",
      "504\n",
      "505\n",
      "506\n",
      "507\n",
      "508\n",
      "509\n",
      "510\n",
      "511\n",
      "512\n",
      "513\n",
      "514\n",
      "515\n",
      "516\n",
      "517\n",
      "518\n",
      "519\n",
      "520\n",
      "521\n",
      "522\n",
      "523\n",
      "524\n",
      "525\n",
      "526\n",
      "527\n",
      "528\n",
      "529\n",
      "530\n",
      "531\n",
      "532\n",
      "533\n",
      "534\n",
      "535\n",
      "536\n",
      "537\n",
      "538\n",
      "539\n",
      "540\n",
      "541\n",
      "542\n",
      "543\n",
      "544\n",
      "545\n",
      "546\n",
      "547\n",
      "548\n",
      "549\n",
      "550\n",
      "551\n",
      "552\n",
      "553\n",
      "554\n",
      "555\n",
      "556\n",
      "557\n",
      "558\n",
      "559\n",
      "560\n",
      "561\n",
      "562\n",
      "563\n",
      "564\n",
      "565\n",
      "566\n",
      "567\n",
      "568\n",
      "569\n",
      "570\n",
      "571\n",
      "572\n",
      "573\n",
      "574\n",
      "575\n",
      "576\n",
      "577\n",
      "578\n",
      "579\n",
      "580\n",
      "581\n",
      "582\n",
      "583\n",
      "584\n",
      "585\n",
      "586\n",
      "587\n",
      "588\n",
      "589\n",
      "590\n",
      "591\n",
      "592\n",
      "593\n",
      "594\n",
      "595\n",
      "596\n",
      "597\n",
      "598\n",
      "599\n",
      "600\n",
      "601\n",
      "602\n",
      "603\n",
      "604\n",
      "605\n",
      "606\n",
      "607\n",
      "608\n",
      "609\n",
      "610\n",
      "611\n",
      "612\n",
      "613\n",
      "614\n",
      "615\n",
      "616\n",
      "617\n",
      "618\n",
      "619\n",
      "620\n",
      "621\n",
      "622\n",
      "623\n",
      "624\n",
      "625\n",
      "626\n",
      "627\n",
      "628\n",
      "629\n",
      "630\n",
      "631\n",
      "632\n",
      "633\n",
      "634\n",
      "635\n",
      "636\n",
      "637\n",
      "638\n",
      "639\n",
      "640\n",
      "641\n",
      "642\n",
      "643\n",
      "644\n",
      "645\n",
      "646\n",
      "647\n",
      "648\n",
      "649\n",
      "650\n",
      "651\n",
      "652\n",
      "653\n",
      "654\n",
      "655\n",
      "656\n",
      "657\n",
      "658\n",
      "659\n",
      "660\n",
      "661\n",
      "662\n",
      "663\n",
      "664\n",
      "665\n",
      "666\n",
      "667\n",
      "668\n",
      "669\n",
      "670\n",
      "671\n",
      "672\n",
      "673\n",
      "674\n",
      "675\n",
      "676\n",
      "677\n",
      "678\n",
      "679\n",
      "680\n",
      "681\n",
      "682\n",
      "683\n",
      "684\n",
      "685\n",
      "686\n",
      "687\n",
      "688\n",
      "689\n",
      "690\n",
      "691\n",
      "692\n",
      "693\n",
      "694\n",
      "695\n",
      "696\n",
      "697\n",
      "698\n",
      "699\n",
      "700\n",
      "701\n",
      "702\n",
      "703\n",
      "704\n",
      "705\n",
      "706\n",
      "707\n",
      "708\n",
      "709\n",
      "710\n",
      "711\n",
      "712\n",
      "713\n",
      "714\n",
      "715\n",
      "716\n",
      "717\n",
      "718\n",
      "719\n",
      "720\n",
      "721\n",
      "722\n",
      "723\n",
      "724\n",
      "725\n",
      "726\n",
      "727\n",
      "728\n",
      "729\n",
      "730\n",
      "731\n",
      "732\n",
      "733\n",
      "734\n",
      "735\n",
      "736\n",
      "737\n",
      "738\n",
      "739\n",
      "740\n",
      "741\n",
      "742\n",
      "743\n",
      "744\n",
      "745\n",
      "746\n",
      "747\n",
      "748\n",
      "749\n",
      "750\n",
      "751\n",
      "752\n",
      "753\n",
      "754\n",
      "755\n",
      "756\n",
      "757\n",
      "758\n",
      "759\n",
      "760\n",
      "761\n",
      "762\n",
      "763\n",
      "764\n",
      "765\n",
      "766\n",
      "767\n",
      "768\n",
      "769\n",
      "770\n",
      "771\n",
      "772\n",
      "773\n",
      "774\n",
      "775\n",
      "776\n",
      "777\n",
      "778\n",
      "779\n",
      "780\n",
      "781\n",
      "782\n",
      "783\n",
      "784\n",
      "785\n",
      "786\n",
      "787\n",
      "788\n",
      "789\n",
      "790\n",
      "791\n",
      "792\n",
      "793\n",
      "794\n",
      "795\n",
      "796\n",
      "797\n",
      "798\n",
      "799\n",
      "800\n",
      "801\n",
      "802\n",
      "803\n",
      "804\n",
      "805\n",
      "806\n",
      "807\n",
      "808\n",
      "809\n",
      "810\n",
      "811\n",
      "812\n",
      "813\n",
      "814\n",
      "815\n",
      "816\n",
      "817\n",
      "818\n",
      "819\n",
      "820\n",
      "821\n",
      "822\n",
      "823\n",
      "824\n",
      "825\n",
      "826\n",
      "827\n",
      "828\n",
      "829\n",
      "830\n",
      "831\n",
      "832\n",
      "833\n",
      "834\n",
      "835\n",
      "836\n",
      "837\n",
      "838\n",
      "839\n",
      "840\n",
      "841\n",
      "842\n",
      "843\n",
      "844\n",
      "845\n",
      "846\n",
      "847\n",
      "848\n",
      "849\n",
      "850\n",
      "851\n",
      "852\n",
      "853\n",
      "854\n",
      "855\n",
      "856\n",
      "857\n",
      "858\n",
      "859\n",
      "860\n",
      "861\n",
      "862\n",
      "863\n",
      "864\n",
      "865\n",
      "866\n",
      "867\n",
      "868\n",
      "869\n",
      "870\n",
      "871\n",
      "872\n",
      "873\n",
      "874\n",
      "875\n",
      "876\n",
      "877\n",
      "878\n",
      "879\n",
      "880\n",
      "881\n",
      "882\n",
      "883\n",
      "884\n",
      "885\n",
      "886\n",
      "887\n",
      "888\n",
      "889\n",
      "890\n",
      "891\n",
      "892\n",
      "893\n",
      "894\n",
      "895\n",
      "896\n",
      "897\n",
      "898\n",
      "899\n",
      "900\n",
      "901\n",
      "902\n",
      "903\n",
      "904\n",
      "905\n",
      "906\n",
      "907\n",
      "908\n",
      "909\n",
      "910\n",
      "911\n",
      "912\n",
      "913\n",
      "914\n",
      "915\n",
      "916\n",
      "917\n",
      "918\n",
      "919\n",
      "920\n",
      "921\n",
      "922\n",
      "923\n",
      "924\n",
      "925\n",
      "926\n"
     ]
    }
   ],
   "source": [
    "%%time\n",
    "## For each row, calculate the maximum IVT within the region between start and end\n",
    "ivt_final = ar_ivt(merged_data, ivt, domains)"
   ]
  },
  {
   "cell_type": "code",
   "execution_count": 48,
   "metadata": {
    "collapsed": true,
    "jupyter": {
     "outputs_hidden": true
    },
    "tags": []
   },
   "outputs": [
    {
     "data": {
      "text/html": [
       "<div>\n",
       "<style scoped>\n",
       "    .dataframe tbody tr th:only-of-type {\n",
       "        vertical-align: middle;\n",
       "    }\n",
       "\n",
       "    .dataframe tbody tr th {\n",
       "        vertical-align: top;\n",
       "    }\n",
       "\n",
       "    .dataframe thead th {\n",
       "        text-align: right;\n",
       "    }\n",
       "</style>\n",
       "<table border=\"1\" class=\"dataframe\">\n",
       "  <thead>\n",
       "    <tr style=\"text-align: right;\">\n",
       "      <th></th>\n",
       "      <th>ivt</th>\n",
       "      <th>ivtdir</th>\n",
       "      <th>trackID</th>\n",
       "    </tr>\n",
       "  </thead>\n",
       "  <tbody>\n",
       "    <tr>\n",
       "      <th>0</th>\n",
       "      <td>152.087860</td>\n",
       "      <td>224.91021331187994 degree</td>\n",
       "      <td>2861.0</td>\n",
       "    </tr>\n",
       "    <tr>\n",
       "      <th>1</th>\n",
       "      <td>245.002441</td>\n",
       "      <td>220.23760859065467 degree</td>\n",
       "      <td>2861.0</td>\n",
       "    </tr>\n",
       "    <tr>\n",
       "      <th>2</th>\n",
       "      <td>108.576300</td>\n",
       "      <td>231.68037841051355 degree</td>\n",
       "      <td>2871.0</td>\n",
       "    </tr>\n",
       "    <tr>\n",
       "      <th>3</th>\n",
       "      <td>149.770879</td>\n",
       "      <td>237.0652245325259 degree</td>\n",
       "      <td>2871.0</td>\n",
       "    </tr>\n",
       "    <tr>\n",
       "      <th>4</th>\n",
       "      <td>69.228194</td>\n",
       "      <td>270.4320425315212 degree</td>\n",
       "      <td>2975.0</td>\n",
       "    </tr>\n",
       "    <tr>\n",
       "      <th>...</th>\n",
       "      <td>...</td>\n",
       "      <td>...</td>\n",
       "      <td>...</td>\n",
       "    </tr>\n",
       "    <tr>\n",
       "      <th>983</th>\n",
       "      <td>340.884138</td>\n",
       "      <td>240.43672607892813 degree</td>\n",
       "      <td>114196.0</td>\n",
       "    </tr>\n",
       "    <tr>\n",
       "      <th>984</th>\n",
       "      <td>375.217412</td>\n",
       "      <td>250.3772879757895 degree</td>\n",
       "      <td>114217.0</td>\n",
       "    </tr>\n",
       "    <tr>\n",
       "      <th>985</th>\n",
       "      <td>61.715181</td>\n",
       "      <td>188.15285286031184 degree</td>\n",
       "      <td>114363.0</td>\n",
       "    </tr>\n",
       "    <tr>\n",
       "      <th>986</th>\n",
       "      <td>265.416884</td>\n",
       "      <td>277.25970342681023 degree</td>\n",
       "      <td>114402.0</td>\n",
       "    </tr>\n",
       "    <tr>\n",
       "      <th>987</th>\n",
       "      <td>261.823649</td>\n",
       "      <td>250.22261957816355 degree</td>\n",
       "      <td>114668.0</td>\n",
       "    </tr>\n",
       "  </tbody>\n",
       "</table>\n",
       "<p>988 rows × 3 columns</p>\n",
       "</div>"
      ],
      "text/plain": [
       "            ivt                     ivtdir   trackID\n",
       "0    152.087860  224.91021331187994 degree    2861.0\n",
       "1    245.002441  220.23760859065467 degree    2861.0\n",
       "2    108.576300  231.68037841051355 degree    2871.0\n",
       "3    149.770879   237.0652245325259 degree    2871.0\n",
       "4     69.228194   270.4320425315212 degree    2975.0\n",
       "..          ...                        ...       ...\n",
       "983  340.884138  240.43672607892813 degree  114196.0\n",
       "984  375.217412   250.3772879757895 degree  114217.0\n",
       "985   61.715181  188.15285286031184 degree  114363.0\n",
       "986  265.416884  277.25970342681023 degree  114402.0\n",
       "987  261.823649  250.22261957816355 degree  114668.0\n",
       "\n",
       "[988 rows x 3 columns]"
      ]
     },
     "execution_count": 48,
     "metadata": {},
     "output_type": "execute_result"
    }
   ],
   "source": [
    "## attach data to existing df\n",
    "merged_data['ivt'] = ivt_final[1]\n",
    "merged_data['ivtdir'] = ivt_final[0]\n",
    "\n",
    "# # Export dataframe as csv\n",
    "# outfile = path_to_out + 'IVTDIR_IVT_new.csv'     \n",
    "# merged_data.to_csv(outfile)"
   ]
  },
  {
   "cell_type": "code",
   "execution_count": 54,
   "metadata": {},
   "outputs": [],
   "source": [
    "def ar_precip(df, ds, domains, mode):\n",
    "    '''Calculate precipitation statistics for a subregion in a ds and append to dataframe.\n",
    "     Mode is chosen based on calculation. For each range of AR event dates, we calculate the total accumulated precip for every grid cell. \n",
    "     Then we remove all gridcells that had less than 1 mm of rain per event (these are not included in any calc)\n",
    "     Then we weight the gridcells by the cosine of the latitude.\n",
    "     Then based on mode selected, different statistics are retained:\n",
    "         'mean-total' averages all viable gridcells within the subregion and retains this number\n",
    "         'max-total' selects the maximum gridcell value to append\n",
    "         'percentile-total' calcuates the 95th percentile and then averages all the grid cells that exceed this threshold\n",
    "    '''\n",
    "    # the final precip statistic to retain\n",
    "    m1_vals = []\n",
    "\n",
    "    for i, (arcat, track) in enumerate(zip(df.ar_cat.values, df.trackID.values)):\n",
    "        start = df.start_date.values[i]\n",
    "        end = df.end_date.values[i]\n",
    "        # print('Getting maximum between', start, end)\n",
    "        print(i)\n",
    "        # get bbox based on ar_cat\n",
    "        bnds = domains[int(arcat)-1]\n",
    "        # select only the time steps for AR event and specified domain\n",
    "        tmp = ds.sel(time=slice(start, end), lat=slice(bnds[2], bnds[3]), lon=slice(bnds[0], bnds[1]))\n",
    "\n",
    "        ### event-total precipitation per event for every grid cell\n",
    "        tmp = tmp.sum('time')\n",
    "        ### mask out grid cells with less than 1 mm per event\n",
    "        tmp2 = xr.where(cond=(tmp.prec > 1), x=tmp.prec, y=np.nan)\n",
    "\n",
    "        ### area weighted\n",
    "        # tmp = tmp2.weighted(tmp.weights)\n",
    "\n",
    "        if mode == 'mean-total':\n",
    "            ## mode 1: mean-total\n",
    "            # average over gridcells in weighted subregion\n",
    "            mean_tot = tmp.mean(['lat', 'lon'], skipna=True)\n",
    "            # append to list\n",
    "            m1_vals.append(mean_tot.values.tolist())\n",
    "        elif mode == 'max-total':\n",
    "            ## mode 2: max-total\n",
    "            ### localized precip maxima during event\n",
    "            event_max = tmp2.max(['lat', 'lon'])\n",
    "            m1_vals.append(event_max.values.tolist())\n",
    "        elif mode == 'percentile-total':\n",
    "            ## mode 3: percentile-total\n",
    "            ###  get 95th percentile thres\n",
    "            q_thres = tmp2.quantile(0.95, dim=['lat', 'lon'], interpolation='linear')\n",
    "            ## mask out grid cells below threshold\n",
    "            perc_prec = xr.where(cond=(tmp2 > q_thres), x=tmp2, y=np.nan)\n",
    "            # average over all grid cells skipping nans\n",
    "            mean = perc_prec.mean(['lat', 'lon'], skipna=True)\n",
    "            m1_vals.append(mean.values.tolist())\n",
    "\n",
    "        \n",
    "    return m1_vals"
   ]
  },
  {
   "cell_type": "code",
   "execution_count": 55,
   "metadata": {
    "collapsed": true,
    "jupyter": {
     "outputs_hidden": true
    },
    "tags": []
   },
   "outputs": [
    {
     "name": "stdout",
     "output_type": "stream",
     "text": [
      "0\n",
      "1\n",
      "2\n",
      "3\n",
      "4\n"
     ]
    },
    {
     "name": "stderr",
     "output_type": "stream",
     "text": [
      "/home/sbarc/students/nash/miniconda3/envs/hasia2/lib/python3.7/site-packages/dask/utils.py:35: RuntimeWarning: All-NaN slice encountered\n",
      "  return func(*args, **kwargs)\n",
      "/home/sbarc/students/nash/miniconda3/envs/hasia2/lib/python3.7/site-packages/dask/core.py:121: RuntimeWarning: All-NaN slice encountered\n",
      "  return func(*(_execute_task(a, cache) for a in args))\n"
     ]
    },
    {
     "name": "stdout",
     "output_type": "stream",
     "text": [
      "5\n",
      "6\n",
      "7\n",
      "8\n",
      "9\n"
     ]
    },
    {
     "name": "stderr",
     "output_type": "stream",
     "text": [
      "/home/sbarc/students/nash/miniconda3/envs/hasia2/lib/python3.7/site-packages/dask/utils.py:35: RuntimeWarning: All-NaN slice encountered\n",
      "  return func(*args, **kwargs)\n",
      "/home/sbarc/students/nash/miniconda3/envs/hasia2/lib/python3.7/site-packages/dask/core.py:121: RuntimeWarning: All-NaN slice encountered\n",
      "  return func(*(_execute_task(a, cache) for a in args))\n"
     ]
    },
    {
     "name": "stdout",
     "output_type": "stream",
     "text": [
      "10\n",
      "11\n",
      "12\n",
      "13\n",
      "14\n",
      "15\n",
      "16\n",
      "17\n",
      "18\n",
      "19\n",
      "20\n",
      "21\n"
     ]
    },
    {
     "name": "stderr",
     "output_type": "stream",
     "text": [
      "/home/sbarc/students/nash/miniconda3/envs/hasia2/lib/python3.7/site-packages/dask/utils.py:35: RuntimeWarning: All-NaN slice encountered\n",
      "  return func(*args, **kwargs)\n",
      "/home/sbarc/students/nash/miniconda3/envs/hasia2/lib/python3.7/site-packages/dask/core.py:121: RuntimeWarning: All-NaN slice encountered\n",
      "  return func(*(_execute_task(a, cache) for a in args))\n"
     ]
    },
    {
     "name": "stdout",
     "output_type": "stream",
     "text": [
      "22\n",
      "23\n",
      "24\n",
      "25\n",
      "26\n",
      "27\n",
      "28\n",
      "29\n",
      "30\n",
      "31\n",
      "32\n",
      "33\n",
      "34\n",
      "35\n",
      "36\n",
      "37\n",
      "38\n",
      "39\n",
      "40\n",
      "41\n",
      "42\n",
      "43\n",
      "44\n",
      "45\n"
     ]
    },
    {
     "name": "stderr",
     "output_type": "stream",
     "text": [
      "/home/sbarc/students/nash/miniconda3/envs/hasia2/lib/python3.7/site-packages/dask/utils.py:35: RuntimeWarning: All-NaN slice encountered\n",
      "  return func(*args, **kwargs)\n",
      "/home/sbarc/students/nash/miniconda3/envs/hasia2/lib/python3.7/site-packages/dask/core.py:121: RuntimeWarning: All-NaN slice encountered\n",
      "  return func(*(_execute_task(a, cache) for a in args))\n"
     ]
    },
    {
     "name": "stdout",
     "output_type": "stream",
     "text": [
      "46\n",
      "47\n",
      "48\n",
      "49\n"
     ]
    },
    {
     "name": "stderr",
     "output_type": "stream",
     "text": [
      "/home/sbarc/students/nash/miniconda3/envs/hasia2/lib/python3.7/site-packages/dask/utils.py:35: RuntimeWarning: All-NaN slice encountered\n",
      "  return func(*args, **kwargs)\n",
      "/home/sbarc/students/nash/miniconda3/envs/hasia2/lib/python3.7/site-packages/dask/core.py:121: RuntimeWarning: All-NaN slice encountered\n",
      "  return func(*(_execute_task(a, cache) for a in args))\n"
     ]
    },
    {
     "name": "stdout",
     "output_type": "stream",
     "text": [
      "50\n",
      "51\n",
      "52\n",
      "53\n",
      "54\n",
      "55\n",
      "56\n",
      "57\n",
      "58\n",
      "59\n",
      "60\n",
      "61\n",
      "62\n",
      "63\n",
      "64\n",
      "65\n",
      "66\n",
      "67\n",
      "68\n",
      "69\n",
      "70\n"
     ]
    },
    {
     "name": "stderr",
     "output_type": "stream",
     "text": [
      "/home/sbarc/students/nash/miniconda3/envs/hasia2/lib/python3.7/site-packages/dask/utils.py:35: RuntimeWarning: All-NaN slice encountered\n",
      "  return func(*args, **kwargs)\n",
      "/home/sbarc/students/nash/miniconda3/envs/hasia2/lib/python3.7/site-packages/dask/core.py:121: RuntimeWarning: All-NaN slice encountered\n",
      "  return func(*(_execute_task(a, cache) for a in args))\n"
     ]
    },
    {
     "name": "stdout",
     "output_type": "stream",
     "text": [
      "71\n"
     ]
    },
    {
     "name": "stderr",
     "output_type": "stream",
     "text": [
      "/home/sbarc/students/nash/miniconda3/envs/hasia2/lib/python3.7/site-packages/dask/utils.py:35: RuntimeWarning: All-NaN slice encountered\n",
      "  return func(*args, **kwargs)\n",
      "/home/sbarc/students/nash/miniconda3/envs/hasia2/lib/python3.7/site-packages/dask/core.py:121: RuntimeWarning: All-NaN slice encountered\n",
      "  return func(*(_execute_task(a, cache) for a in args))\n"
     ]
    },
    {
     "name": "stdout",
     "output_type": "stream",
     "text": [
      "72\n",
      "73\n",
      "74\n",
      "75\n",
      "76\n",
      "77\n",
      "78\n",
      "79\n",
      "80\n",
      "81\n",
      "82\n",
      "83\n",
      "84\n",
      "85\n",
      "86\n",
      "87\n",
      "88\n",
      "89\n",
      "90\n",
      "91\n",
      "92\n",
      "93\n",
      "94\n",
      "95\n",
      "96\n",
      "97\n"
     ]
    },
    {
     "name": "stderr",
     "output_type": "stream",
     "text": [
      "/home/sbarc/students/nash/miniconda3/envs/hasia2/lib/python3.7/site-packages/dask/utils.py:35: RuntimeWarning: All-NaN slice encountered\n",
      "  return func(*args, **kwargs)\n",
      "/home/sbarc/students/nash/miniconda3/envs/hasia2/lib/python3.7/site-packages/dask/core.py:121: RuntimeWarning: All-NaN slice encountered\n",
      "  return func(*(_execute_task(a, cache) for a in args))\n"
     ]
    },
    {
     "name": "stdout",
     "output_type": "stream",
     "text": [
      "98\n"
     ]
    },
    {
     "name": "stderr",
     "output_type": "stream",
     "text": [
      "/home/sbarc/students/nash/miniconda3/envs/hasia2/lib/python3.7/site-packages/dask/utils.py:35: RuntimeWarning: All-NaN slice encountered\n",
      "  return func(*args, **kwargs)\n",
      "/home/sbarc/students/nash/miniconda3/envs/hasia2/lib/python3.7/site-packages/dask/core.py:121: RuntimeWarning: All-NaN slice encountered\n",
      "  return func(*(_execute_task(a, cache) for a in args))\n"
     ]
    },
    {
     "name": "stdout",
     "output_type": "stream",
     "text": [
      "99\n",
      "100\n",
      "101\n",
      "102\n",
      "103\n",
      "104\n",
      "105\n",
      "106\n",
      "107\n",
      "108\n"
     ]
    },
    {
     "name": "stderr",
     "output_type": "stream",
     "text": [
      "/home/sbarc/students/nash/miniconda3/envs/hasia2/lib/python3.7/site-packages/dask/utils.py:35: RuntimeWarning: All-NaN slice encountered\n",
      "  return func(*args, **kwargs)\n",
      "/home/sbarc/students/nash/miniconda3/envs/hasia2/lib/python3.7/site-packages/dask/core.py:121: RuntimeWarning: All-NaN slice encountered\n",
      "  return func(*(_execute_task(a, cache) for a in args))\n"
     ]
    },
    {
     "name": "stdout",
     "output_type": "stream",
     "text": [
      "109\n",
      "110\n",
      "111\n",
      "112\n",
      "113\n",
      "114\n",
      "115\n",
      "116\n",
      "117\n",
      "118\n",
      "119\n",
      "120\n",
      "121\n",
      "122\n",
      "123\n",
      "124\n",
      "125\n",
      "126\n",
      "127\n",
      "128\n",
      "129\n",
      "130\n",
      "131\n",
      "132\n"
     ]
    },
    {
     "name": "stderr",
     "output_type": "stream",
     "text": [
      "/home/sbarc/students/nash/miniconda3/envs/hasia2/lib/python3.7/site-packages/dask/utils.py:35: RuntimeWarning: All-NaN slice encountered\n",
      "  return func(*args, **kwargs)\n",
      "/home/sbarc/students/nash/miniconda3/envs/hasia2/lib/python3.7/site-packages/dask/core.py:121: RuntimeWarning: All-NaN slice encountered\n",
      "  return func(*(_execute_task(a, cache) for a in args))\n"
     ]
    },
    {
     "name": "stdout",
     "output_type": "stream",
     "text": [
      "133\n",
      "134\n",
      "135\n",
      "136\n",
      "137\n",
      "138\n"
     ]
    },
    {
     "name": "stderr",
     "output_type": "stream",
     "text": [
      "/home/sbarc/students/nash/miniconda3/envs/hasia2/lib/python3.7/site-packages/dask/utils.py:35: RuntimeWarning: All-NaN slice encountered\n",
      "  return func(*args, **kwargs)\n",
      "/home/sbarc/students/nash/miniconda3/envs/hasia2/lib/python3.7/site-packages/dask/core.py:121: RuntimeWarning: All-NaN slice encountered\n",
      "  return func(*(_execute_task(a, cache) for a in args))\n"
     ]
    },
    {
     "name": "stdout",
     "output_type": "stream",
     "text": [
      "139\n",
      "140\n"
     ]
    },
    {
     "name": "stderr",
     "output_type": "stream",
     "text": [
      "/home/sbarc/students/nash/miniconda3/envs/hasia2/lib/python3.7/site-packages/dask/utils.py:35: RuntimeWarning: All-NaN slice encountered\n",
      "  return func(*args, **kwargs)\n",
      "/home/sbarc/students/nash/miniconda3/envs/hasia2/lib/python3.7/site-packages/dask/core.py:121: RuntimeWarning: All-NaN slice encountered\n",
      "  return func(*(_execute_task(a, cache) for a in args))\n"
     ]
    },
    {
     "name": "stdout",
     "output_type": "stream",
     "text": [
      "141\n",
      "142\n"
     ]
    },
    {
     "name": "stderr",
     "output_type": "stream",
     "text": [
      "/home/sbarc/students/nash/miniconda3/envs/hasia2/lib/python3.7/site-packages/dask/utils.py:35: RuntimeWarning: All-NaN slice encountered\n",
      "  return func(*args, **kwargs)\n",
      "/home/sbarc/students/nash/miniconda3/envs/hasia2/lib/python3.7/site-packages/dask/core.py:121: RuntimeWarning: All-NaN slice encountered\n",
      "  return func(*(_execute_task(a, cache) for a in args))\n"
     ]
    },
    {
     "name": "stdout",
     "output_type": "stream",
     "text": [
      "143\n",
      "144\n",
      "145\n",
      "146\n"
     ]
    },
    {
     "name": "stderr",
     "output_type": "stream",
     "text": [
      "/home/sbarc/students/nash/miniconda3/envs/hasia2/lib/python3.7/site-packages/dask/utils.py:35: RuntimeWarning: All-NaN slice encountered\n",
      "  return func(*args, **kwargs)\n",
      "/home/sbarc/students/nash/miniconda3/envs/hasia2/lib/python3.7/site-packages/dask/core.py:121: RuntimeWarning: All-NaN slice encountered\n",
      "  return func(*(_execute_task(a, cache) for a in args))\n"
     ]
    },
    {
     "name": "stdout",
     "output_type": "stream",
     "text": [
      "147\n",
      "148\n"
     ]
    },
    {
     "name": "stderr",
     "output_type": "stream",
     "text": [
      "/home/sbarc/students/nash/miniconda3/envs/hasia2/lib/python3.7/site-packages/dask/utils.py:35: RuntimeWarning: All-NaN slice encountered\n",
      "  return func(*args, **kwargs)\n",
      "/home/sbarc/students/nash/miniconda3/envs/hasia2/lib/python3.7/site-packages/dask/core.py:121: RuntimeWarning: All-NaN slice encountered\n",
      "  return func(*(_execute_task(a, cache) for a in args))\n"
     ]
    },
    {
     "name": "stdout",
     "output_type": "stream",
     "text": [
      "149\n",
      "150\n",
      "151\n",
      "152\n",
      "153\n",
      "154\n",
      "155\n",
      "156\n",
      "157\n",
      "158\n"
     ]
    },
    {
     "name": "stderr",
     "output_type": "stream",
     "text": [
      "/home/sbarc/students/nash/miniconda3/envs/hasia2/lib/python3.7/site-packages/dask/utils.py:35: RuntimeWarning: All-NaN slice encountered\n",
      "  return func(*args, **kwargs)\n",
      "/home/sbarc/students/nash/miniconda3/envs/hasia2/lib/python3.7/site-packages/dask/core.py:121: RuntimeWarning: All-NaN slice encountered\n",
      "  return func(*(_execute_task(a, cache) for a in args))\n"
     ]
    },
    {
     "name": "stdout",
     "output_type": "stream",
     "text": [
      "159\n",
      "160\n",
      "161\n",
      "162\n",
      "163\n",
      "164\n",
      "165\n"
     ]
    },
    {
     "name": "stderr",
     "output_type": "stream",
     "text": [
      "/home/sbarc/students/nash/miniconda3/envs/hasia2/lib/python3.7/site-packages/dask/utils.py:35: RuntimeWarning: All-NaN slice encountered\n",
      "  return func(*args, **kwargs)\n",
      "/home/sbarc/students/nash/miniconda3/envs/hasia2/lib/python3.7/site-packages/dask/core.py:121: RuntimeWarning: All-NaN slice encountered\n",
      "  return func(*(_execute_task(a, cache) for a in args))\n"
     ]
    },
    {
     "name": "stdout",
     "output_type": "stream",
     "text": [
      "166\n",
      "167\n",
      "168\n",
      "169\n",
      "170\n",
      "171\n",
      "172\n",
      "173\n",
      "174\n",
      "175\n"
     ]
    },
    {
     "name": "stderr",
     "output_type": "stream",
     "text": [
      "/home/sbarc/students/nash/miniconda3/envs/hasia2/lib/python3.7/site-packages/dask/utils.py:35: RuntimeWarning: All-NaN slice encountered\n",
      "  return func(*args, **kwargs)\n",
      "/home/sbarc/students/nash/miniconda3/envs/hasia2/lib/python3.7/site-packages/dask/core.py:121: RuntimeWarning: All-NaN slice encountered\n",
      "  return func(*(_execute_task(a, cache) for a in args))\n"
     ]
    },
    {
     "name": "stdout",
     "output_type": "stream",
     "text": [
      "176\n",
      "177\n"
     ]
    },
    {
     "name": "stderr",
     "output_type": "stream",
     "text": [
      "/home/sbarc/students/nash/miniconda3/envs/hasia2/lib/python3.7/site-packages/dask/utils.py:35: RuntimeWarning: All-NaN slice encountered\n",
      "  return func(*args, **kwargs)\n",
      "/home/sbarc/students/nash/miniconda3/envs/hasia2/lib/python3.7/site-packages/dask/core.py:121: RuntimeWarning: All-NaN slice encountered\n",
      "  return func(*(_execute_task(a, cache) for a in args))\n"
     ]
    },
    {
     "name": "stdout",
     "output_type": "stream",
     "text": [
      "178\n",
      "179\n"
     ]
    },
    {
     "name": "stderr",
     "output_type": "stream",
     "text": [
      "/home/sbarc/students/nash/miniconda3/envs/hasia2/lib/python3.7/site-packages/dask/utils.py:35: RuntimeWarning: All-NaN slice encountered\n",
      "  return func(*args, **kwargs)\n",
      "/home/sbarc/students/nash/miniconda3/envs/hasia2/lib/python3.7/site-packages/dask/core.py:121: RuntimeWarning: All-NaN slice encountered\n",
      "  return func(*(_execute_task(a, cache) for a in args))\n"
     ]
    },
    {
     "name": "stdout",
     "output_type": "stream",
     "text": [
      "180\n"
     ]
    },
    {
     "name": "stderr",
     "output_type": "stream",
     "text": [
      "/home/sbarc/students/nash/miniconda3/envs/hasia2/lib/python3.7/site-packages/dask/utils.py:35: RuntimeWarning: All-NaN slice encountered\n",
      "  return func(*args, **kwargs)\n",
      "/home/sbarc/students/nash/miniconda3/envs/hasia2/lib/python3.7/site-packages/dask/core.py:121: RuntimeWarning: All-NaN slice encountered\n",
      "  return func(*(_execute_task(a, cache) for a in args))\n"
     ]
    },
    {
     "name": "stdout",
     "output_type": "stream",
     "text": [
      "181\n"
     ]
    },
    {
     "name": "stderr",
     "output_type": "stream",
     "text": [
      "/home/sbarc/students/nash/miniconda3/envs/hasia2/lib/python3.7/site-packages/dask/utils.py:35: RuntimeWarning: All-NaN slice encountered\n",
      "  return func(*args, **kwargs)\n",
      "/home/sbarc/students/nash/miniconda3/envs/hasia2/lib/python3.7/site-packages/dask/core.py:121: RuntimeWarning: All-NaN slice encountered\n",
      "  return func(*(_execute_task(a, cache) for a in args))\n"
     ]
    },
    {
     "name": "stdout",
     "output_type": "stream",
     "text": [
      "182\n",
      "183\n",
      "184\n",
      "185\n",
      "186\n"
     ]
    },
    {
     "name": "stderr",
     "output_type": "stream",
     "text": [
      "/home/sbarc/students/nash/miniconda3/envs/hasia2/lib/python3.7/site-packages/dask/utils.py:35: RuntimeWarning: All-NaN slice encountered\n",
      "  return func(*args, **kwargs)\n",
      "/home/sbarc/students/nash/miniconda3/envs/hasia2/lib/python3.7/site-packages/dask/core.py:121: RuntimeWarning: All-NaN slice encountered\n",
      "  return func(*(_execute_task(a, cache) for a in args))\n"
     ]
    },
    {
     "name": "stdout",
     "output_type": "stream",
     "text": [
      "187\n",
      "188\n",
      "189\n",
      "190\n",
      "191\n",
      "192\n",
      "193\n",
      "194\n",
      "195\n",
      "196\n"
     ]
    },
    {
     "name": "stderr",
     "output_type": "stream",
     "text": [
      "/home/sbarc/students/nash/miniconda3/envs/hasia2/lib/python3.7/site-packages/dask/utils.py:35: RuntimeWarning: All-NaN slice encountered\n",
      "  return func(*args, **kwargs)\n",
      "/home/sbarc/students/nash/miniconda3/envs/hasia2/lib/python3.7/site-packages/dask/core.py:121: RuntimeWarning: All-NaN slice encountered\n",
      "  return func(*(_execute_task(a, cache) for a in args))\n"
     ]
    },
    {
     "name": "stdout",
     "output_type": "stream",
     "text": [
      "197\n",
      "198\n",
      "199\n",
      "200\n",
      "201\n",
      "202\n",
      "203\n"
     ]
    },
    {
     "name": "stderr",
     "output_type": "stream",
     "text": [
      "/home/sbarc/students/nash/miniconda3/envs/hasia2/lib/python3.7/site-packages/dask/utils.py:35: RuntimeWarning: All-NaN slice encountered\n",
      "  return func(*args, **kwargs)\n",
      "/home/sbarc/students/nash/miniconda3/envs/hasia2/lib/python3.7/site-packages/dask/core.py:121: RuntimeWarning: All-NaN slice encountered\n",
      "  return func(*(_execute_task(a, cache) for a in args))\n"
     ]
    },
    {
     "name": "stdout",
     "output_type": "stream",
     "text": [
      "204\n"
     ]
    },
    {
     "name": "stderr",
     "output_type": "stream",
     "text": [
      "/home/sbarc/students/nash/miniconda3/envs/hasia2/lib/python3.7/site-packages/dask/utils.py:35: RuntimeWarning: All-NaN slice encountered\n",
      "  return func(*args, **kwargs)\n",
      "/home/sbarc/students/nash/miniconda3/envs/hasia2/lib/python3.7/site-packages/dask/core.py:121: RuntimeWarning: All-NaN slice encountered\n",
      "  return func(*(_execute_task(a, cache) for a in args))\n"
     ]
    },
    {
     "name": "stdout",
     "output_type": "stream",
     "text": [
      "205\n"
     ]
    },
    {
     "name": "stderr",
     "output_type": "stream",
     "text": [
      "/home/sbarc/students/nash/miniconda3/envs/hasia2/lib/python3.7/site-packages/dask/utils.py:35: RuntimeWarning: All-NaN slice encountered\n",
      "  return func(*args, **kwargs)\n",
      "/home/sbarc/students/nash/miniconda3/envs/hasia2/lib/python3.7/site-packages/dask/core.py:121: RuntimeWarning: All-NaN slice encountered\n",
      "  return func(*(_execute_task(a, cache) for a in args))\n"
     ]
    },
    {
     "name": "stdout",
     "output_type": "stream",
     "text": [
      "206\n",
      "207\n",
      "208\n",
      "209\n",
      "210\n",
      "211\n",
      "212\n",
      "213\n",
      "214\n"
     ]
    },
    {
     "name": "stderr",
     "output_type": "stream",
     "text": [
      "/home/sbarc/students/nash/miniconda3/envs/hasia2/lib/python3.7/site-packages/dask/utils.py:35: RuntimeWarning: All-NaN slice encountered\n",
      "  return func(*args, **kwargs)\n",
      "/home/sbarc/students/nash/miniconda3/envs/hasia2/lib/python3.7/site-packages/dask/core.py:121: RuntimeWarning: All-NaN slice encountered\n",
      "  return func(*(_execute_task(a, cache) for a in args))\n"
     ]
    },
    {
     "name": "stdout",
     "output_type": "stream",
     "text": [
      "215\n",
      "216\n",
      "217\n"
     ]
    },
    {
     "name": "stderr",
     "output_type": "stream",
     "text": [
      "/home/sbarc/students/nash/miniconda3/envs/hasia2/lib/python3.7/site-packages/dask/utils.py:35: RuntimeWarning: All-NaN slice encountered\n",
      "  return func(*args, **kwargs)\n",
      "/home/sbarc/students/nash/miniconda3/envs/hasia2/lib/python3.7/site-packages/dask/core.py:121: RuntimeWarning: All-NaN slice encountered\n",
      "  return func(*(_execute_task(a, cache) for a in args))\n"
     ]
    },
    {
     "name": "stdout",
     "output_type": "stream",
     "text": [
      "218\n"
     ]
    },
    {
     "name": "stderr",
     "output_type": "stream",
     "text": [
      "/home/sbarc/students/nash/miniconda3/envs/hasia2/lib/python3.7/site-packages/dask/utils.py:35: RuntimeWarning: All-NaN slice encountered\n",
      "  return func(*args, **kwargs)\n",
      "/home/sbarc/students/nash/miniconda3/envs/hasia2/lib/python3.7/site-packages/dask/core.py:121: RuntimeWarning: All-NaN slice encountered\n",
      "  return func(*(_execute_task(a, cache) for a in args))\n"
     ]
    },
    {
     "name": "stdout",
     "output_type": "stream",
     "text": [
      "219\n",
      "220\n",
      "221\n",
      "222\n",
      "223\n",
      "224\n",
      "225\n",
      "226\n",
      "227\n",
      "228\n",
      "229\n"
     ]
    },
    {
     "name": "stderr",
     "output_type": "stream",
     "text": [
      "/home/sbarc/students/nash/miniconda3/envs/hasia2/lib/python3.7/site-packages/dask/utils.py:35: RuntimeWarning: All-NaN slice encountered\n",
      "  return func(*args, **kwargs)\n",
      "/home/sbarc/students/nash/miniconda3/envs/hasia2/lib/python3.7/site-packages/dask/core.py:121: RuntimeWarning: All-NaN slice encountered\n",
      "  return func(*(_execute_task(a, cache) for a in args))\n"
     ]
    },
    {
     "name": "stdout",
     "output_type": "stream",
     "text": [
      "230\n",
      "231\n",
      "232\n"
     ]
    },
    {
     "name": "stderr",
     "output_type": "stream",
     "text": [
      "/home/sbarc/students/nash/miniconda3/envs/hasia2/lib/python3.7/site-packages/dask/utils.py:35: RuntimeWarning: All-NaN slice encountered\n",
      "  return func(*args, **kwargs)\n",
      "/home/sbarc/students/nash/miniconda3/envs/hasia2/lib/python3.7/site-packages/dask/core.py:121: RuntimeWarning: All-NaN slice encountered\n",
      "  return func(*(_execute_task(a, cache) for a in args))\n"
     ]
    },
    {
     "name": "stdout",
     "output_type": "stream",
     "text": [
      "233\n"
     ]
    },
    {
     "name": "stderr",
     "output_type": "stream",
     "text": [
      "/home/sbarc/students/nash/miniconda3/envs/hasia2/lib/python3.7/site-packages/dask/utils.py:35: RuntimeWarning: All-NaN slice encountered\n",
      "  return func(*args, **kwargs)\n",
      "/home/sbarc/students/nash/miniconda3/envs/hasia2/lib/python3.7/site-packages/dask/core.py:121: RuntimeWarning: All-NaN slice encountered\n",
      "  return func(*(_execute_task(a, cache) for a in args))\n"
     ]
    },
    {
     "name": "stdout",
     "output_type": "stream",
     "text": [
      "234\n",
      "235\n"
     ]
    },
    {
     "name": "stderr",
     "output_type": "stream",
     "text": [
      "/home/sbarc/students/nash/miniconda3/envs/hasia2/lib/python3.7/site-packages/dask/utils.py:35: RuntimeWarning: All-NaN slice encountered\n",
      "  return func(*args, **kwargs)\n",
      "/home/sbarc/students/nash/miniconda3/envs/hasia2/lib/python3.7/site-packages/dask/core.py:121: RuntimeWarning: All-NaN slice encountered\n",
      "  return func(*(_execute_task(a, cache) for a in args))\n"
     ]
    },
    {
     "name": "stdout",
     "output_type": "stream",
     "text": [
      "236\n"
     ]
    },
    {
     "name": "stderr",
     "output_type": "stream",
     "text": [
      "/home/sbarc/students/nash/miniconda3/envs/hasia2/lib/python3.7/site-packages/dask/utils.py:35: RuntimeWarning: All-NaN slice encountered\n",
      "  return func(*args, **kwargs)\n",
      "/home/sbarc/students/nash/miniconda3/envs/hasia2/lib/python3.7/site-packages/dask/core.py:121: RuntimeWarning: All-NaN slice encountered\n",
      "  return func(*(_execute_task(a, cache) for a in args))\n"
     ]
    },
    {
     "name": "stdout",
     "output_type": "stream",
     "text": [
      "237\n",
      "238\n",
      "239\n",
      "240\n",
      "241\n",
      "242\n",
      "243\n",
      "244\n",
      "245\n",
      "246\n",
      "247\n",
      "248\n",
      "249\n",
      "250\n",
      "251\n",
      "252\n",
      "253\n",
      "254\n",
      "255\n",
      "256\n",
      "257\n",
      "258\n",
      "259\n",
      "260\n",
      "261\n"
     ]
    },
    {
     "name": "stderr",
     "output_type": "stream",
     "text": [
      "/home/sbarc/students/nash/miniconda3/envs/hasia2/lib/python3.7/site-packages/dask/utils.py:35: RuntimeWarning: All-NaN slice encountered\n",
      "  return func(*args, **kwargs)\n",
      "/home/sbarc/students/nash/miniconda3/envs/hasia2/lib/python3.7/site-packages/dask/core.py:121: RuntimeWarning: All-NaN slice encountered\n",
      "  return func(*(_execute_task(a, cache) for a in args))\n"
     ]
    },
    {
     "name": "stdout",
     "output_type": "stream",
     "text": [
      "262\n",
      "263\n"
     ]
    },
    {
     "name": "stderr",
     "output_type": "stream",
     "text": [
      "/home/sbarc/students/nash/miniconda3/envs/hasia2/lib/python3.7/site-packages/dask/utils.py:35: RuntimeWarning: All-NaN slice encountered\n",
      "  return func(*args, **kwargs)\n",
      "/home/sbarc/students/nash/miniconda3/envs/hasia2/lib/python3.7/site-packages/dask/core.py:121: RuntimeWarning: All-NaN slice encountered\n",
      "  return func(*(_execute_task(a, cache) for a in args))\n"
     ]
    },
    {
     "name": "stdout",
     "output_type": "stream",
     "text": [
      "264\n",
      "265\n",
      "266\n",
      "267\n",
      "268\n",
      "269\n",
      "270\n",
      "271\n"
     ]
    },
    {
     "name": "stderr",
     "output_type": "stream",
     "text": [
      "/home/sbarc/students/nash/miniconda3/envs/hasia2/lib/python3.7/site-packages/dask/utils.py:35: RuntimeWarning: All-NaN slice encountered\n",
      "  return func(*args, **kwargs)\n",
      "/home/sbarc/students/nash/miniconda3/envs/hasia2/lib/python3.7/site-packages/dask/core.py:121: RuntimeWarning: All-NaN slice encountered\n",
      "  return func(*(_execute_task(a, cache) for a in args))\n"
     ]
    },
    {
     "name": "stdout",
     "output_type": "stream",
     "text": [
      "272\n",
      "273\n",
      "274\n",
      "275\n",
      "276\n",
      "277\n",
      "278\n",
      "279\n",
      "280\n",
      "281\n"
     ]
    },
    {
     "name": "stderr",
     "output_type": "stream",
     "text": [
      "/home/sbarc/students/nash/miniconda3/envs/hasia2/lib/python3.7/site-packages/dask/utils.py:35: RuntimeWarning: All-NaN slice encountered\n",
      "  return func(*args, **kwargs)\n",
      "/home/sbarc/students/nash/miniconda3/envs/hasia2/lib/python3.7/site-packages/dask/core.py:121: RuntimeWarning: All-NaN slice encountered\n",
      "  return func(*(_execute_task(a, cache) for a in args))\n"
     ]
    },
    {
     "name": "stdout",
     "output_type": "stream",
     "text": [
      "282\n",
      "283\n",
      "284\n",
      "285\n",
      "286\n",
      "287\n",
      "288\n",
      "289\n"
     ]
    },
    {
     "name": "stderr",
     "output_type": "stream",
     "text": [
      "/home/sbarc/students/nash/miniconda3/envs/hasia2/lib/python3.7/site-packages/dask/utils.py:35: RuntimeWarning: All-NaN slice encountered\n",
      "  return func(*args, **kwargs)\n",
      "/home/sbarc/students/nash/miniconda3/envs/hasia2/lib/python3.7/site-packages/dask/core.py:121: RuntimeWarning: All-NaN slice encountered\n",
      "  return func(*(_execute_task(a, cache) for a in args))\n"
     ]
    },
    {
     "name": "stdout",
     "output_type": "stream",
     "text": [
      "290\n",
      "291\n",
      "292\n",
      "293\n",
      "294\n",
      "295\n",
      "296\n",
      "297\n",
      "298\n",
      "299\n",
      "300\n",
      "301\n",
      "302\n",
      "303\n",
      "304\n",
      "305\n",
      "306\n",
      "307\n",
      "308\n"
     ]
    },
    {
     "name": "stderr",
     "output_type": "stream",
     "text": [
      "/home/sbarc/students/nash/miniconda3/envs/hasia2/lib/python3.7/site-packages/dask/utils.py:35: RuntimeWarning: All-NaN slice encountered\n",
      "  return func(*args, **kwargs)\n",
      "/home/sbarc/students/nash/miniconda3/envs/hasia2/lib/python3.7/site-packages/dask/core.py:121: RuntimeWarning: All-NaN slice encountered\n",
      "  return func(*(_execute_task(a, cache) for a in args))\n"
     ]
    },
    {
     "name": "stdout",
     "output_type": "stream",
     "text": [
      "309\n",
      "310\n",
      "311\n"
     ]
    },
    {
     "name": "stderr",
     "output_type": "stream",
     "text": [
      "/home/sbarc/students/nash/miniconda3/envs/hasia2/lib/python3.7/site-packages/dask/utils.py:35: RuntimeWarning: All-NaN slice encountered\n",
      "  return func(*args, **kwargs)\n",
      "/home/sbarc/students/nash/miniconda3/envs/hasia2/lib/python3.7/site-packages/dask/core.py:121: RuntimeWarning: All-NaN slice encountered\n",
      "  return func(*(_execute_task(a, cache) for a in args))\n"
     ]
    },
    {
     "name": "stdout",
     "output_type": "stream",
     "text": [
      "312\n"
     ]
    },
    {
     "name": "stderr",
     "output_type": "stream",
     "text": [
      "/home/sbarc/students/nash/miniconda3/envs/hasia2/lib/python3.7/site-packages/dask/utils.py:35: RuntimeWarning: All-NaN slice encountered\n",
      "  return func(*args, **kwargs)\n",
      "/home/sbarc/students/nash/miniconda3/envs/hasia2/lib/python3.7/site-packages/dask/core.py:121: RuntimeWarning: All-NaN slice encountered\n",
      "  return func(*(_execute_task(a, cache) for a in args))\n"
     ]
    },
    {
     "name": "stdout",
     "output_type": "stream",
     "text": [
      "313\n",
      "314\n",
      "315\n",
      "316\n",
      "317\n",
      "318\n",
      "319\n",
      "320\n",
      "321\n"
     ]
    },
    {
     "name": "stderr",
     "output_type": "stream",
     "text": [
      "/home/sbarc/students/nash/miniconda3/envs/hasia2/lib/python3.7/site-packages/dask/utils.py:35: RuntimeWarning: All-NaN slice encountered\n",
      "  return func(*args, **kwargs)\n",
      "/home/sbarc/students/nash/miniconda3/envs/hasia2/lib/python3.7/site-packages/dask/core.py:121: RuntimeWarning: All-NaN slice encountered\n",
      "  return func(*(_execute_task(a, cache) for a in args))\n"
     ]
    },
    {
     "name": "stdout",
     "output_type": "stream",
     "text": [
      "322\n",
      "323\n",
      "324\n",
      "325\n",
      "326\n",
      "327\n",
      "328\n"
     ]
    },
    {
     "name": "stderr",
     "output_type": "stream",
     "text": [
      "/home/sbarc/students/nash/miniconda3/envs/hasia2/lib/python3.7/site-packages/dask/utils.py:35: RuntimeWarning: All-NaN slice encountered\n",
      "  return func(*args, **kwargs)\n",
      "/home/sbarc/students/nash/miniconda3/envs/hasia2/lib/python3.7/site-packages/dask/core.py:121: RuntimeWarning: All-NaN slice encountered\n",
      "  return func(*(_execute_task(a, cache) for a in args))\n"
     ]
    },
    {
     "name": "stdout",
     "output_type": "stream",
     "text": [
      "329\n",
      "330\n",
      "331\n",
      "332\n",
      "333\n",
      "334\n",
      "335\n",
      "336\n",
      "337\n",
      "338\n",
      "339\n",
      "340\n",
      "341\n",
      "342\n",
      "343\n",
      "344\n",
      "345\n",
      "346\n",
      "347\n",
      "348\n",
      "349\n",
      "350\n",
      "351\n",
      "352\n",
      "353\n",
      "354\n"
     ]
    },
    {
     "name": "stderr",
     "output_type": "stream",
     "text": [
      "/home/sbarc/students/nash/miniconda3/envs/hasia2/lib/python3.7/site-packages/dask/utils.py:35: RuntimeWarning: All-NaN slice encountered\n",
      "  return func(*args, **kwargs)\n",
      "/home/sbarc/students/nash/miniconda3/envs/hasia2/lib/python3.7/site-packages/dask/core.py:121: RuntimeWarning: All-NaN slice encountered\n",
      "  return func(*(_execute_task(a, cache) for a in args))\n"
     ]
    },
    {
     "name": "stdout",
     "output_type": "stream",
     "text": [
      "355\n",
      "356\n"
     ]
    },
    {
     "name": "stderr",
     "output_type": "stream",
     "text": [
      "/home/sbarc/students/nash/miniconda3/envs/hasia2/lib/python3.7/site-packages/dask/utils.py:35: RuntimeWarning: All-NaN slice encountered\n",
      "  return func(*args, **kwargs)\n",
      "/home/sbarc/students/nash/miniconda3/envs/hasia2/lib/python3.7/site-packages/dask/core.py:121: RuntimeWarning: All-NaN slice encountered\n",
      "  return func(*(_execute_task(a, cache) for a in args))\n"
     ]
    },
    {
     "name": "stdout",
     "output_type": "stream",
     "text": [
      "357\n"
     ]
    },
    {
     "name": "stderr",
     "output_type": "stream",
     "text": [
      "/home/sbarc/students/nash/miniconda3/envs/hasia2/lib/python3.7/site-packages/dask/utils.py:35: RuntimeWarning: All-NaN slice encountered\n",
      "  return func(*args, **kwargs)\n",
      "/home/sbarc/students/nash/miniconda3/envs/hasia2/lib/python3.7/site-packages/dask/core.py:121: RuntimeWarning: All-NaN slice encountered\n",
      "  return func(*(_execute_task(a, cache) for a in args))\n"
     ]
    },
    {
     "name": "stdout",
     "output_type": "stream",
     "text": [
      "358\n"
     ]
    },
    {
     "name": "stderr",
     "output_type": "stream",
     "text": [
      "/home/sbarc/students/nash/miniconda3/envs/hasia2/lib/python3.7/site-packages/dask/utils.py:35: RuntimeWarning: All-NaN slice encountered\n",
      "  return func(*args, **kwargs)\n",
      "/home/sbarc/students/nash/miniconda3/envs/hasia2/lib/python3.7/site-packages/dask/core.py:121: RuntimeWarning: All-NaN slice encountered\n",
      "  return func(*(_execute_task(a, cache) for a in args))\n"
     ]
    },
    {
     "name": "stdout",
     "output_type": "stream",
     "text": [
      "359\n",
      "360\n",
      "361\n",
      "362\n"
     ]
    },
    {
     "name": "stderr",
     "output_type": "stream",
     "text": [
      "/home/sbarc/students/nash/miniconda3/envs/hasia2/lib/python3.7/site-packages/dask/utils.py:35: RuntimeWarning: All-NaN slice encountered\n",
      "  return func(*args, **kwargs)\n",
      "/home/sbarc/students/nash/miniconda3/envs/hasia2/lib/python3.7/site-packages/dask/core.py:121: RuntimeWarning: All-NaN slice encountered\n",
      "  return func(*(_execute_task(a, cache) for a in args))\n"
     ]
    },
    {
     "name": "stdout",
     "output_type": "stream",
     "text": [
      "363\n",
      "364\n",
      "365\n",
      "366\n",
      "367\n",
      "368\n",
      "369\n",
      "370\n",
      "371\n",
      "372\n",
      "373\n",
      "374\n",
      "375\n"
     ]
    },
    {
     "name": "stderr",
     "output_type": "stream",
     "text": [
      "/home/sbarc/students/nash/miniconda3/envs/hasia2/lib/python3.7/site-packages/dask/utils.py:35: RuntimeWarning: All-NaN slice encountered\n",
      "  return func(*args, **kwargs)\n",
      "/home/sbarc/students/nash/miniconda3/envs/hasia2/lib/python3.7/site-packages/dask/core.py:121: RuntimeWarning: All-NaN slice encountered\n",
      "  return func(*(_execute_task(a, cache) for a in args))\n"
     ]
    },
    {
     "name": "stdout",
     "output_type": "stream",
     "text": [
      "376\n",
      "377\n"
     ]
    },
    {
     "name": "stderr",
     "output_type": "stream",
     "text": [
      "/home/sbarc/students/nash/miniconda3/envs/hasia2/lib/python3.7/site-packages/dask/utils.py:35: RuntimeWarning: All-NaN slice encountered\n",
      "  return func(*args, **kwargs)\n",
      "/home/sbarc/students/nash/miniconda3/envs/hasia2/lib/python3.7/site-packages/dask/core.py:121: RuntimeWarning: All-NaN slice encountered\n",
      "  return func(*(_execute_task(a, cache) for a in args))\n"
     ]
    },
    {
     "name": "stdout",
     "output_type": "stream",
     "text": [
      "378\n",
      "379\n",
      "380\n",
      "381\n"
     ]
    },
    {
     "name": "stderr",
     "output_type": "stream",
     "text": [
      "/home/sbarc/students/nash/miniconda3/envs/hasia2/lib/python3.7/site-packages/dask/utils.py:35: RuntimeWarning: All-NaN slice encountered\n",
      "  return func(*args, **kwargs)\n",
      "/home/sbarc/students/nash/miniconda3/envs/hasia2/lib/python3.7/site-packages/dask/core.py:121: RuntimeWarning: All-NaN slice encountered\n",
      "  return func(*(_execute_task(a, cache) for a in args))\n"
     ]
    },
    {
     "name": "stdout",
     "output_type": "stream",
     "text": [
      "382\n",
      "383\n",
      "384\n",
      "385\n",
      "386\n",
      "387\n",
      "388\n"
     ]
    },
    {
     "name": "stderr",
     "output_type": "stream",
     "text": [
      "/home/sbarc/students/nash/miniconda3/envs/hasia2/lib/python3.7/site-packages/dask/utils.py:35: RuntimeWarning: All-NaN slice encountered\n",
      "  return func(*args, **kwargs)\n",
      "/home/sbarc/students/nash/miniconda3/envs/hasia2/lib/python3.7/site-packages/dask/core.py:121: RuntimeWarning: All-NaN slice encountered\n",
      "  return func(*(_execute_task(a, cache) for a in args))\n"
     ]
    },
    {
     "name": "stdout",
     "output_type": "stream",
     "text": [
      "389\n",
      "390\n",
      "391\n",
      "392\n",
      "393\n",
      "394\n",
      "395\n",
      "396\n"
     ]
    },
    {
     "name": "stderr",
     "output_type": "stream",
     "text": [
      "/home/sbarc/students/nash/miniconda3/envs/hasia2/lib/python3.7/site-packages/dask/utils.py:35: RuntimeWarning: All-NaN slice encountered\n",
      "  return func(*args, **kwargs)\n",
      "/home/sbarc/students/nash/miniconda3/envs/hasia2/lib/python3.7/site-packages/dask/core.py:121: RuntimeWarning: All-NaN slice encountered\n",
      "  return func(*(_execute_task(a, cache) for a in args))\n"
     ]
    },
    {
     "name": "stdout",
     "output_type": "stream",
     "text": [
      "397\n",
      "398\n",
      "399\n",
      "400\n",
      "401\n",
      "402\n"
     ]
    },
    {
     "name": "stderr",
     "output_type": "stream",
     "text": [
      "/home/sbarc/students/nash/miniconda3/envs/hasia2/lib/python3.7/site-packages/dask/utils.py:35: RuntimeWarning: All-NaN slice encountered\n",
      "  return func(*args, **kwargs)\n",
      "/home/sbarc/students/nash/miniconda3/envs/hasia2/lib/python3.7/site-packages/dask/core.py:121: RuntimeWarning: All-NaN slice encountered\n",
      "  return func(*(_execute_task(a, cache) for a in args))\n"
     ]
    },
    {
     "name": "stdout",
     "output_type": "stream",
     "text": [
      "403\n",
      "404\n"
     ]
    },
    {
     "name": "stderr",
     "output_type": "stream",
     "text": [
      "/home/sbarc/students/nash/miniconda3/envs/hasia2/lib/python3.7/site-packages/dask/utils.py:35: RuntimeWarning: All-NaN slice encountered\n",
      "  return func(*args, **kwargs)\n",
      "/home/sbarc/students/nash/miniconda3/envs/hasia2/lib/python3.7/site-packages/dask/core.py:121: RuntimeWarning: All-NaN slice encountered\n",
      "  return func(*(_execute_task(a, cache) for a in args))\n"
     ]
    },
    {
     "name": "stdout",
     "output_type": "stream",
     "text": [
      "405\n",
      "406\n",
      "407\n",
      "408\n",
      "409\n",
      "410\n",
      "411\n",
      "412\n",
      "413\n"
     ]
    },
    {
     "name": "stderr",
     "output_type": "stream",
     "text": [
      "/home/sbarc/students/nash/miniconda3/envs/hasia2/lib/python3.7/site-packages/dask/utils.py:35: RuntimeWarning: All-NaN slice encountered\n",
      "  return func(*args, **kwargs)\n",
      "/home/sbarc/students/nash/miniconda3/envs/hasia2/lib/python3.7/site-packages/dask/core.py:121: RuntimeWarning: All-NaN slice encountered\n",
      "  return func(*(_execute_task(a, cache) for a in args))\n"
     ]
    },
    {
     "name": "stdout",
     "output_type": "stream",
     "text": [
      "414\n",
      "415\n",
      "416\n",
      "417\n",
      "418\n",
      "419\n"
     ]
    },
    {
     "name": "stderr",
     "output_type": "stream",
     "text": [
      "/home/sbarc/students/nash/miniconda3/envs/hasia2/lib/python3.7/site-packages/dask/utils.py:35: RuntimeWarning: All-NaN slice encountered\n",
      "  return func(*args, **kwargs)\n",
      "/home/sbarc/students/nash/miniconda3/envs/hasia2/lib/python3.7/site-packages/dask/core.py:121: RuntimeWarning: All-NaN slice encountered\n",
      "  return func(*(_execute_task(a, cache) for a in args))\n"
     ]
    },
    {
     "name": "stdout",
     "output_type": "stream",
     "text": [
      "420\n",
      "421\n",
      "422\n"
     ]
    },
    {
     "name": "stderr",
     "output_type": "stream",
     "text": [
      "/home/sbarc/students/nash/miniconda3/envs/hasia2/lib/python3.7/site-packages/dask/utils.py:35: RuntimeWarning: All-NaN slice encountered\n",
      "  return func(*args, **kwargs)\n",
      "/home/sbarc/students/nash/miniconda3/envs/hasia2/lib/python3.7/site-packages/dask/core.py:121: RuntimeWarning: All-NaN slice encountered\n",
      "  return func(*(_execute_task(a, cache) for a in args))\n"
     ]
    },
    {
     "name": "stdout",
     "output_type": "stream",
     "text": [
      "423\n"
     ]
    },
    {
     "name": "stderr",
     "output_type": "stream",
     "text": [
      "/home/sbarc/students/nash/miniconda3/envs/hasia2/lib/python3.7/site-packages/dask/utils.py:35: RuntimeWarning: All-NaN slice encountered\n",
      "  return func(*args, **kwargs)\n",
      "/home/sbarc/students/nash/miniconda3/envs/hasia2/lib/python3.7/site-packages/dask/core.py:121: RuntimeWarning: All-NaN slice encountered\n",
      "  return func(*(_execute_task(a, cache) for a in args))\n"
     ]
    },
    {
     "name": "stdout",
     "output_type": "stream",
     "text": [
      "424\n",
      "425\n",
      "426\n",
      "427\n",
      "428\n",
      "429\n",
      "430\n",
      "431\n",
      "432\n",
      "433\n",
      "434\n",
      "435\n",
      "436\n",
      "437\n",
      "438\n",
      "439\n",
      "440\n",
      "441\n",
      "442\n"
     ]
    },
    {
     "name": "stderr",
     "output_type": "stream",
     "text": [
      "/home/sbarc/students/nash/miniconda3/envs/hasia2/lib/python3.7/site-packages/dask/utils.py:35: RuntimeWarning: All-NaN slice encountered\n",
      "  return func(*args, **kwargs)\n",
      "/home/sbarc/students/nash/miniconda3/envs/hasia2/lib/python3.7/site-packages/dask/core.py:121: RuntimeWarning: All-NaN slice encountered\n",
      "  return func(*(_execute_task(a, cache) for a in args))\n"
     ]
    },
    {
     "name": "stdout",
     "output_type": "stream",
     "text": [
      "443\n",
      "444\n",
      "445\n",
      "446\n",
      "447\n",
      "448\n",
      "449\n",
      "450\n",
      "451\n",
      "452\n",
      "453\n",
      "454\n",
      "455\n",
      "456\n",
      "457\n",
      "458\n",
      "459\n"
     ]
    },
    {
     "name": "stderr",
     "output_type": "stream",
     "text": [
      "/home/sbarc/students/nash/miniconda3/envs/hasia2/lib/python3.7/site-packages/dask/utils.py:35: RuntimeWarning: All-NaN slice encountered\n",
      "  return func(*args, **kwargs)\n",
      "/home/sbarc/students/nash/miniconda3/envs/hasia2/lib/python3.7/site-packages/dask/core.py:121: RuntimeWarning: All-NaN slice encountered\n",
      "  return func(*(_execute_task(a, cache) for a in args))\n"
     ]
    },
    {
     "name": "stdout",
     "output_type": "stream",
     "text": [
      "460\n",
      "461\n",
      "462\n",
      "463\n",
      "464\n",
      "465\n",
      "466\n",
      "467\n",
      "468\n"
     ]
    },
    {
     "name": "stderr",
     "output_type": "stream",
     "text": [
      "/home/sbarc/students/nash/miniconda3/envs/hasia2/lib/python3.7/site-packages/dask/utils.py:35: RuntimeWarning: All-NaN slice encountered\n",
      "  return func(*args, **kwargs)\n",
      "/home/sbarc/students/nash/miniconda3/envs/hasia2/lib/python3.7/site-packages/dask/core.py:121: RuntimeWarning: All-NaN slice encountered\n",
      "  return func(*(_execute_task(a, cache) for a in args))\n"
     ]
    },
    {
     "name": "stdout",
     "output_type": "stream",
     "text": [
      "469\n"
     ]
    },
    {
     "name": "stderr",
     "output_type": "stream",
     "text": [
      "/home/sbarc/students/nash/miniconda3/envs/hasia2/lib/python3.7/site-packages/dask/utils.py:35: RuntimeWarning: All-NaN slice encountered\n",
      "  return func(*args, **kwargs)\n",
      "/home/sbarc/students/nash/miniconda3/envs/hasia2/lib/python3.7/site-packages/dask/core.py:121: RuntimeWarning: All-NaN slice encountered\n",
      "  return func(*(_execute_task(a, cache) for a in args))\n"
     ]
    },
    {
     "name": "stdout",
     "output_type": "stream",
     "text": [
      "470\n",
      "471\n",
      "472\n",
      "473\n",
      "474\n"
     ]
    },
    {
     "name": "stderr",
     "output_type": "stream",
     "text": [
      "/home/sbarc/students/nash/miniconda3/envs/hasia2/lib/python3.7/site-packages/dask/utils.py:35: RuntimeWarning: All-NaN slice encountered\n",
      "  return func(*args, **kwargs)\n",
      "/home/sbarc/students/nash/miniconda3/envs/hasia2/lib/python3.7/site-packages/dask/core.py:121: RuntimeWarning: All-NaN slice encountered\n",
      "  return func(*(_execute_task(a, cache) for a in args))\n"
     ]
    },
    {
     "name": "stdout",
     "output_type": "stream",
     "text": [
      "475\n",
      "476\n",
      "477\n",
      "478\n",
      "479\n",
      "480\n",
      "481\n",
      "482\n",
      "483\n",
      "484\n"
     ]
    },
    {
     "name": "stderr",
     "output_type": "stream",
     "text": [
      "/home/sbarc/students/nash/miniconda3/envs/hasia2/lib/python3.7/site-packages/dask/utils.py:35: RuntimeWarning: All-NaN slice encountered\n",
      "  return func(*args, **kwargs)\n",
      "/home/sbarc/students/nash/miniconda3/envs/hasia2/lib/python3.7/site-packages/dask/core.py:121: RuntimeWarning: All-NaN slice encountered\n",
      "  return func(*(_execute_task(a, cache) for a in args))\n"
     ]
    },
    {
     "name": "stdout",
     "output_type": "stream",
     "text": [
      "485\n",
      "486\n"
     ]
    },
    {
     "name": "stderr",
     "output_type": "stream",
     "text": [
      "/home/sbarc/students/nash/miniconda3/envs/hasia2/lib/python3.7/site-packages/dask/utils.py:35: RuntimeWarning: All-NaN slice encountered\n",
      "  return func(*args, **kwargs)\n",
      "/home/sbarc/students/nash/miniconda3/envs/hasia2/lib/python3.7/site-packages/dask/core.py:121: RuntimeWarning: All-NaN slice encountered\n",
      "  return func(*(_execute_task(a, cache) for a in args))\n"
     ]
    },
    {
     "name": "stdout",
     "output_type": "stream",
     "text": [
      "487\n",
      "488\n",
      "489\n",
      "490\n",
      "491\n",
      "492\n",
      "493\n",
      "494\n",
      "495\n",
      "496\n",
      "497\n",
      "498\n",
      "499\n",
      "500\n",
      "501\n",
      "502\n",
      "503\n",
      "504\n",
      "505\n",
      "506\n",
      "507\n",
      "508\n",
      "509\n",
      "510\n",
      "511\n",
      "512\n",
      "513\n"
     ]
    },
    {
     "name": "stderr",
     "output_type": "stream",
     "text": [
      "/home/sbarc/students/nash/miniconda3/envs/hasia2/lib/python3.7/site-packages/dask/utils.py:35: RuntimeWarning: All-NaN slice encountered\n",
      "  return func(*args, **kwargs)\n",
      "/home/sbarc/students/nash/miniconda3/envs/hasia2/lib/python3.7/site-packages/dask/core.py:121: RuntimeWarning: All-NaN slice encountered\n",
      "  return func(*(_execute_task(a, cache) for a in args))\n"
     ]
    },
    {
     "name": "stdout",
     "output_type": "stream",
     "text": [
      "514\n",
      "515\n",
      "516\n"
     ]
    },
    {
     "name": "stderr",
     "output_type": "stream",
     "text": [
      "/home/sbarc/students/nash/miniconda3/envs/hasia2/lib/python3.7/site-packages/dask/utils.py:35: RuntimeWarning: All-NaN slice encountered\n",
      "  return func(*args, **kwargs)\n",
      "/home/sbarc/students/nash/miniconda3/envs/hasia2/lib/python3.7/site-packages/dask/core.py:121: RuntimeWarning: All-NaN slice encountered\n",
      "  return func(*(_execute_task(a, cache) for a in args))\n"
     ]
    },
    {
     "name": "stdout",
     "output_type": "stream",
     "text": [
      "517\n"
     ]
    },
    {
     "name": "stderr",
     "output_type": "stream",
     "text": [
      "/home/sbarc/students/nash/miniconda3/envs/hasia2/lib/python3.7/site-packages/dask/utils.py:35: RuntimeWarning: All-NaN slice encountered\n",
      "  return func(*args, **kwargs)\n",
      "/home/sbarc/students/nash/miniconda3/envs/hasia2/lib/python3.7/site-packages/dask/core.py:121: RuntimeWarning: All-NaN slice encountered\n",
      "  return func(*(_execute_task(a, cache) for a in args))\n"
     ]
    },
    {
     "name": "stdout",
     "output_type": "stream",
     "text": [
      "518\n",
      "519\n",
      "520\n",
      "521\n",
      "522\n",
      "523\n",
      "524\n",
      "525\n",
      "526\n",
      "527\n",
      "528\n",
      "529\n",
      "530\n",
      "531\n",
      "532\n"
     ]
    },
    {
     "name": "stderr",
     "output_type": "stream",
     "text": [
      "/home/sbarc/students/nash/miniconda3/envs/hasia2/lib/python3.7/site-packages/dask/utils.py:35: RuntimeWarning: All-NaN slice encountered\n",
      "  return func(*args, **kwargs)\n",
      "/home/sbarc/students/nash/miniconda3/envs/hasia2/lib/python3.7/site-packages/dask/core.py:121: RuntimeWarning: All-NaN slice encountered\n",
      "  return func(*(_execute_task(a, cache) for a in args))\n"
     ]
    },
    {
     "name": "stdout",
     "output_type": "stream",
     "text": [
      "533\n",
      "534\n"
     ]
    },
    {
     "name": "stderr",
     "output_type": "stream",
     "text": [
      "/home/sbarc/students/nash/miniconda3/envs/hasia2/lib/python3.7/site-packages/dask/utils.py:35: RuntimeWarning: All-NaN slice encountered\n",
      "  return func(*args, **kwargs)\n",
      "/home/sbarc/students/nash/miniconda3/envs/hasia2/lib/python3.7/site-packages/dask/core.py:121: RuntimeWarning: All-NaN slice encountered\n",
      "  return func(*(_execute_task(a, cache) for a in args))\n"
     ]
    },
    {
     "name": "stdout",
     "output_type": "stream",
     "text": [
      "535\n"
     ]
    },
    {
     "name": "stderr",
     "output_type": "stream",
     "text": [
      "/home/sbarc/students/nash/miniconda3/envs/hasia2/lib/python3.7/site-packages/dask/utils.py:35: RuntimeWarning: All-NaN slice encountered\n",
      "  return func(*args, **kwargs)\n",
      "/home/sbarc/students/nash/miniconda3/envs/hasia2/lib/python3.7/site-packages/dask/core.py:121: RuntimeWarning: All-NaN slice encountered\n",
      "  return func(*(_execute_task(a, cache) for a in args))\n"
     ]
    },
    {
     "name": "stdout",
     "output_type": "stream",
     "text": [
      "536\n",
      "537\n",
      "538\n",
      "539\n",
      "540\n",
      "541\n",
      "542\n",
      "543\n",
      "544\n",
      "545\n",
      "546\n",
      "547\n"
     ]
    },
    {
     "name": "stderr",
     "output_type": "stream",
     "text": [
      "/home/sbarc/students/nash/miniconda3/envs/hasia2/lib/python3.7/site-packages/dask/utils.py:35: RuntimeWarning: All-NaN slice encountered\n",
      "  return func(*args, **kwargs)\n",
      "/home/sbarc/students/nash/miniconda3/envs/hasia2/lib/python3.7/site-packages/dask/core.py:121: RuntimeWarning: All-NaN slice encountered\n",
      "  return func(*(_execute_task(a, cache) for a in args))\n"
     ]
    },
    {
     "name": "stdout",
     "output_type": "stream",
     "text": [
      "548\n",
      "549\n",
      "550\n",
      "551\n",
      "552\n",
      "553\n"
     ]
    },
    {
     "name": "stderr",
     "output_type": "stream",
     "text": [
      "/home/sbarc/students/nash/miniconda3/envs/hasia2/lib/python3.7/site-packages/dask/utils.py:35: RuntimeWarning: All-NaN slice encountered\n",
      "  return func(*args, **kwargs)\n",
      "/home/sbarc/students/nash/miniconda3/envs/hasia2/lib/python3.7/site-packages/dask/core.py:121: RuntimeWarning: All-NaN slice encountered\n",
      "  return func(*(_execute_task(a, cache) for a in args))\n"
     ]
    },
    {
     "name": "stdout",
     "output_type": "stream",
     "text": [
      "554\n",
      "555\n",
      "556\n",
      "557\n",
      "558\n"
     ]
    },
    {
     "name": "stderr",
     "output_type": "stream",
     "text": [
      "/home/sbarc/students/nash/miniconda3/envs/hasia2/lib/python3.7/site-packages/dask/utils.py:35: RuntimeWarning: All-NaN slice encountered\n",
      "  return func(*args, **kwargs)\n",
      "/home/sbarc/students/nash/miniconda3/envs/hasia2/lib/python3.7/site-packages/dask/core.py:121: RuntimeWarning: All-NaN slice encountered\n",
      "  return func(*(_execute_task(a, cache) for a in args))\n"
     ]
    },
    {
     "name": "stdout",
     "output_type": "stream",
     "text": [
      "559\n",
      "560\n",
      "561\n",
      "562\n",
      "563\n",
      "564\n",
      "565\n",
      "566\n",
      "567\n",
      "568\n",
      "569\n"
     ]
    },
    {
     "name": "stderr",
     "output_type": "stream",
     "text": [
      "/home/sbarc/students/nash/miniconda3/envs/hasia2/lib/python3.7/site-packages/dask/utils.py:35: RuntimeWarning: All-NaN slice encountered\n",
      "  return func(*args, **kwargs)\n",
      "/home/sbarc/students/nash/miniconda3/envs/hasia2/lib/python3.7/site-packages/dask/core.py:121: RuntimeWarning: All-NaN slice encountered\n",
      "  return func(*(_execute_task(a, cache) for a in args))\n"
     ]
    },
    {
     "name": "stdout",
     "output_type": "stream",
     "text": [
      "570\n",
      "571\n",
      "572\n",
      "573\n",
      "574\n"
     ]
    },
    {
     "name": "stderr",
     "output_type": "stream",
     "text": [
      "/home/sbarc/students/nash/miniconda3/envs/hasia2/lib/python3.7/site-packages/dask/utils.py:35: RuntimeWarning: All-NaN slice encountered\n",
      "  return func(*args, **kwargs)\n",
      "/home/sbarc/students/nash/miniconda3/envs/hasia2/lib/python3.7/site-packages/dask/core.py:121: RuntimeWarning: All-NaN slice encountered\n",
      "  return func(*(_execute_task(a, cache) for a in args))\n"
     ]
    },
    {
     "name": "stdout",
     "output_type": "stream",
     "text": [
      "575\n",
      "576\n"
     ]
    },
    {
     "name": "stderr",
     "output_type": "stream",
     "text": [
      "/home/sbarc/students/nash/miniconda3/envs/hasia2/lib/python3.7/site-packages/dask/utils.py:35: RuntimeWarning: All-NaN slice encountered\n",
      "  return func(*args, **kwargs)\n",
      "/home/sbarc/students/nash/miniconda3/envs/hasia2/lib/python3.7/site-packages/dask/core.py:121: RuntimeWarning: All-NaN slice encountered\n",
      "  return func(*(_execute_task(a, cache) for a in args))\n"
     ]
    },
    {
     "name": "stdout",
     "output_type": "stream",
     "text": [
      "577\n",
      "578\n",
      "579\n",
      "580\n",
      "581\n",
      "582\n",
      "583\n",
      "584\n"
     ]
    },
    {
     "name": "stderr",
     "output_type": "stream",
     "text": [
      "/home/sbarc/students/nash/miniconda3/envs/hasia2/lib/python3.7/site-packages/dask/utils.py:35: RuntimeWarning: All-NaN slice encountered\n",
      "  return func(*args, **kwargs)\n",
      "/home/sbarc/students/nash/miniconda3/envs/hasia2/lib/python3.7/site-packages/dask/core.py:121: RuntimeWarning: All-NaN slice encountered\n",
      "  return func(*(_execute_task(a, cache) for a in args))\n"
     ]
    },
    {
     "name": "stdout",
     "output_type": "stream",
     "text": [
      "585\n",
      "586\n",
      "587\n",
      "588\n",
      "589\n"
     ]
    },
    {
     "name": "stderr",
     "output_type": "stream",
     "text": [
      "/home/sbarc/students/nash/miniconda3/envs/hasia2/lib/python3.7/site-packages/dask/utils.py:35: RuntimeWarning: All-NaN slice encountered\n",
      "  return func(*args, **kwargs)\n",
      "/home/sbarc/students/nash/miniconda3/envs/hasia2/lib/python3.7/site-packages/dask/core.py:121: RuntimeWarning: All-NaN slice encountered\n",
      "  return func(*(_execute_task(a, cache) for a in args))\n"
     ]
    },
    {
     "name": "stdout",
     "output_type": "stream",
     "text": [
      "590\n",
      "591\n"
     ]
    },
    {
     "name": "stderr",
     "output_type": "stream",
     "text": [
      "/home/sbarc/students/nash/miniconda3/envs/hasia2/lib/python3.7/site-packages/dask/utils.py:35: RuntimeWarning: All-NaN slice encountered\n",
      "  return func(*args, **kwargs)\n",
      "/home/sbarc/students/nash/miniconda3/envs/hasia2/lib/python3.7/site-packages/dask/core.py:121: RuntimeWarning: All-NaN slice encountered\n",
      "  return func(*(_execute_task(a, cache) for a in args))\n"
     ]
    },
    {
     "name": "stdout",
     "output_type": "stream",
     "text": [
      "592\n",
      "593\n",
      "594\n",
      "595\n",
      "596\n",
      "597\n",
      "598\n",
      "599\n",
      "600\n",
      "601\n"
     ]
    },
    {
     "name": "stderr",
     "output_type": "stream",
     "text": [
      "/home/sbarc/students/nash/miniconda3/envs/hasia2/lib/python3.7/site-packages/dask/utils.py:35: RuntimeWarning: All-NaN slice encountered\n",
      "  return func(*args, **kwargs)\n",
      "/home/sbarc/students/nash/miniconda3/envs/hasia2/lib/python3.7/site-packages/dask/core.py:121: RuntimeWarning: All-NaN slice encountered\n",
      "  return func(*(_execute_task(a, cache) for a in args))\n"
     ]
    },
    {
     "name": "stdout",
     "output_type": "stream",
     "text": [
      "602\n",
      "603\n",
      "604\n",
      "605\n",
      "606\n",
      "607\n",
      "608\n",
      "609\n",
      "610\n",
      "611\n",
      "612\n",
      "613\n",
      "614\n",
      "615\n",
      "616\n",
      "617\n",
      "618\n"
     ]
    },
    {
     "name": "stderr",
     "output_type": "stream",
     "text": [
      "/home/sbarc/students/nash/miniconda3/envs/hasia2/lib/python3.7/site-packages/dask/utils.py:35: RuntimeWarning: All-NaN slice encountered\n",
      "  return func(*args, **kwargs)\n",
      "/home/sbarc/students/nash/miniconda3/envs/hasia2/lib/python3.7/site-packages/dask/core.py:121: RuntimeWarning: All-NaN slice encountered\n",
      "  return func(*(_execute_task(a, cache) for a in args))\n"
     ]
    },
    {
     "name": "stdout",
     "output_type": "stream",
     "text": [
      "619\n",
      "620\n",
      "621\n",
      "622\n",
      "623\n",
      "624\n"
     ]
    },
    {
     "name": "stderr",
     "output_type": "stream",
     "text": [
      "/home/sbarc/students/nash/miniconda3/envs/hasia2/lib/python3.7/site-packages/dask/utils.py:35: RuntimeWarning: All-NaN slice encountered\n",
      "  return func(*args, **kwargs)\n",
      "/home/sbarc/students/nash/miniconda3/envs/hasia2/lib/python3.7/site-packages/dask/core.py:121: RuntimeWarning: All-NaN slice encountered\n",
      "  return func(*(_execute_task(a, cache) for a in args))\n"
     ]
    },
    {
     "name": "stdout",
     "output_type": "stream",
     "text": [
      "625\n",
      "626\n",
      "627\n",
      "628\n",
      "629\n"
     ]
    },
    {
     "name": "stderr",
     "output_type": "stream",
     "text": [
      "/home/sbarc/students/nash/miniconda3/envs/hasia2/lib/python3.7/site-packages/dask/utils.py:35: RuntimeWarning: All-NaN slice encountered\n",
      "  return func(*args, **kwargs)\n",
      "/home/sbarc/students/nash/miniconda3/envs/hasia2/lib/python3.7/site-packages/dask/core.py:121: RuntimeWarning: All-NaN slice encountered\n",
      "  return func(*(_execute_task(a, cache) for a in args))\n"
     ]
    },
    {
     "name": "stdout",
     "output_type": "stream",
     "text": [
      "630\n",
      "631\n",
      "632\n",
      "633\n",
      "634\n",
      "635\n",
      "636\n",
      "637\n",
      "638\n",
      "639\n",
      "640\n"
     ]
    },
    {
     "name": "stderr",
     "output_type": "stream",
     "text": [
      "/home/sbarc/students/nash/miniconda3/envs/hasia2/lib/python3.7/site-packages/dask/utils.py:35: RuntimeWarning: All-NaN slice encountered\n",
      "  return func(*args, **kwargs)\n",
      "/home/sbarc/students/nash/miniconda3/envs/hasia2/lib/python3.7/site-packages/dask/core.py:121: RuntimeWarning: All-NaN slice encountered\n",
      "  return func(*(_execute_task(a, cache) for a in args))\n"
     ]
    },
    {
     "name": "stdout",
     "output_type": "stream",
     "text": [
      "641\n",
      "642\n",
      "643\n",
      "644\n",
      "645\n",
      "646\n",
      "647\n",
      "648\n",
      "649\n",
      "650\n",
      "651\n",
      "652\n",
      "653\n",
      "654\n",
      "655\n",
      "656\n",
      "657\n",
      "658\n",
      "659\n",
      "660\n"
     ]
    },
    {
     "name": "stderr",
     "output_type": "stream",
     "text": [
      "/home/sbarc/students/nash/miniconda3/envs/hasia2/lib/python3.7/site-packages/dask/utils.py:35: RuntimeWarning: All-NaN slice encountered\n",
      "  return func(*args, **kwargs)\n",
      "/home/sbarc/students/nash/miniconda3/envs/hasia2/lib/python3.7/site-packages/dask/core.py:121: RuntimeWarning: All-NaN slice encountered\n",
      "  return func(*(_execute_task(a, cache) for a in args))\n"
     ]
    },
    {
     "name": "stdout",
     "output_type": "stream",
     "text": [
      "661\n",
      "662\n"
     ]
    },
    {
     "name": "stderr",
     "output_type": "stream",
     "text": [
      "/home/sbarc/students/nash/miniconda3/envs/hasia2/lib/python3.7/site-packages/dask/utils.py:35: RuntimeWarning: All-NaN slice encountered\n",
      "  return func(*args, **kwargs)\n",
      "/home/sbarc/students/nash/miniconda3/envs/hasia2/lib/python3.7/site-packages/dask/core.py:121: RuntimeWarning: All-NaN slice encountered\n",
      "  return func(*(_execute_task(a, cache) for a in args))\n"
     ]
    },
    {
     "name": "stdout",
     "output_type": "stream",
     "text": [
      "663\n"
     ]
    },
    {
     "name": "stderr",
     "output_type": "stream",
     "text": [
      "/home/sbarc/students/nash/miniconda3/envs/hasia2/lib/python3.7/site-packages/dask/utils.py:35: RuntimeWarning: All-NaN slice encountered\n",
      "  return func(*args, **kwargs)\n",
      "/home/sbarc/students/nash/miniconda3/envs/hasia2/lib/python3.7/site-packages/dask/core.py:121: RuntimeWarning: All-NaN slice encountered\n",
      "  return func(*(_execute_task(a, cache) for a in args))\n"
     ]
    },
    {
     "name": "stdout",
     "output_type": "stream",
     "text": [
      "664\n"
     ]
    },
    {
     "name": "stderr",
     "output_type": "stream",
     "text": [
      "/home/sbarc/students/nash/miniconda3/envs/hasia2/lib/python3.7/site-packages/dask/utils.py:35: RuntimeWarning: All-NaN slice encountered\n",
      "  return func(*args, **kwargs)\n",
      "/home/sbarc/students/nash/miniconda3/envs/hasia2/lib/python3.7/site-packages/dask/core.py:121: RuntimeWarning: All-NaN slice encountered\n",
      "  return func(*(_execute_task(a, cache) for a in args))\n"
     ]
    },
    {
     "name": "stdout",
     "output_type": "stream",
     "text": [
      "665\n",
      "666\n",
      "667\n",
      "668\n",
      "669\n",
      "670\n",
      "671\n"
     ]
    },
    {
     "name": "stderr",
     "output_type": "stream",
     "text": [
      "/home/sbarc/students/nash/miniconda3/envs/hasia2/lib/python3.7/site-packages/dask/utils.py:35: RuntimeWarning: All-NaN slice encountered\n",
      "  return func(*args, **kwargs)\n",
      "/home/sbarc/students/nash/miniconda3/envs/hasia2/lib/python3.7/site-packages/dask/core.py:121: RuntimeWarning: All-NaN slice encountered\n",
      "  return func(*(_execute_task(a, cache) for a in args))\n"
     ]
    },
    {
     "name": "stdout",
     "output_type": "stream",
     "text": [
      "672\n"
     ]
    },
    {
     "name": "stderr",
     "output_type": "stream",
     "text": [
      "/home/sbarc/students/nash/miniconda3/envs/hasia2/lib/python3.7/site-packages/dask/utils.py:35: RuntimeWarning: All-NaN slice encountered\n",
      "  return func(*args, **kwargs)\n",
      "/home/sbarc/students/nash/miniconda3/envs/hasia2/lib/python3.7/site-packages/dask/core.py:121: RuntimeWarning: All-NaN slice encountered\n",
      "  return func(*(_execute_task(a, cache) for a in args))\n"
     ]
    },
    {
     "name": "stdout",
     "output_type": "stream",
     "text": [
      "673\n",
      "674\n",
      "675\n",
      "676\n",
      "677\n",
      "678\n"
     ]
    },
    {
     "name": "stderr",
     "output_type": "stream",
     "text": [
      "/home/sbarc/students/nash/miniconda3/envs/hasia2/lib/python3.7/site-packages/dask/utils.py:35: RuntimeWarning: All-NaN slice encountered\n",
      "  return func(*args, **kwargs)\n",
      "/home/sbarc/students/nash/miniconda3/envs/hasia2/lib/python3.7/site-packages/dask/core.py:121: RuntimeWarning: All-NaN slice encountered\n",
      "  return func(*(_execute_task(a, cache) for a in args))\n"
     ]
    },
    {
     "name": "stdout",
     "output_type": "stream",
     "text": [
      "679\n",
      "680\n"
     ]
    },
    {
     "name": "stderr",
     "output_type": "stream",
     "text": [
      "/home/sbarc/students/nash/miniconda3/envs/hasia2/lib/python3.7/site-packages/dask/utils.py:35: RuntimeWarning: All-NaN slice encountered\n",
      "  return func(*args, **kwargs)\n",
      "/home/sbarc/students/nash/miniconda3/envs/hasia2/lib/python3.7/site-packages/dask/core.py:121: RuntimeWarning: All-NaN slice encountered\n",
      "  return func(*(_execute_task(a, cache) for a in args))\n"
     ]
    },
    {
     "name": "stdout",
     "output_type": "stream",
     "text": [
      "681\n",
      "682\n",
      "683\n",
      "684\n",
      "685\n",
      "686\n",
      "687\n",
      "688\n",
      "689\n"
     ]
    },
    {
     "name": "stderr",
     "output_type": "stream",
     "text": [
      "/home/sbarc/students/nash/miniconda3/envs/hasia2/lib/python3.7/site-packages/dask/utils.py:35: RuntimeWarning: All-NaN slice encountered\n",
      "  return func(*args, **kwargs)\n",
      "/home/sbarc/students/nash/miniconda3/envs/hasia2/lib/python3.7/site-packages/dask/core.py:121: RuntimeWarning: All-NaN slice encountered\n",
      "  return func(*(_execute_task(a, cache) for a in args))\n"
     ]
    },
    {
     "name": "stdout",
     "output_type": "stream",
     "text": [
      "690\n",
      "691\n",
      "692\n",
      "693\n",
      "694\n",
      "695\n",
      "696\n",
      "697\n",
      "698\n",
      "699\n"
     ]
    },
    {
     "name": "stderr",
     "output_type": "stream",
     "text": [
      "/home/sbarc/students/nash/miniconda3/envs/hasia2/lib/python3.7/site-packages/dask/utils.py:35: RuntimeWarning: All-NaN slice encountered\n",
      "  return func(*args, **kwargs)\n",
      "/home/sbarc/students/nash/miniconda3/envs/hasia2/lib/python3.7/site-packages/dask/core.py:121: RuntimeWarning: All-NaN slice encountered\n",
      "  return func(*(_execute_task(a, cache) for a in args))\n"
     ]
    },
    {
     "name": "stdout",
     "output_type": "stream",
     "text": [
      "700\n"
     ]
    },
    {
     "name": "stderr",
     "output_type": "stream",
     "text": [
      "/home/sbarc/students/nash/miniconda3/envs/hasia2/lib/python3.7/site-packages/dask/utils.py:35: RuntimeWarning: All-NaN slice encountered\n",
      "  return func(*args, **kwargs)\n",
      "/home/sbarc/students/nash/miniconda3/envs/hasia2/lib/python3.7/site-packages/dask/core.py:121: RuntimeWarning: All-NaN slice encountered\n",
      "  return func(*(_execute_task(a, cache) for a in args))\n"
     ]
    },
    {
     "name": "stdout",
     "output_type": "stream",
     "text": [
      "701\n",
      "702\n",
      "703\n"
     ]
    },
    {
     "name": "stderr",
     "output_type": "stream",
     "text": [
      "/home/sbarc/students/nash/miniconda3/envs/hasia2/lib/python3.7/site-packages/dask/utils.py:35: RuntimeWarning: All-NaN slice encountered\n",
      "  return func(*args, **kwargs)\n",
      "/home/sbarc/students/nash/miniconda3/envs/hasia2/lib/python3.7/site-packages/dask/core.py:121: RuntimeWarning: All-NaN slice encountered\n",
      "  return func(*(_execute_task(a, cache) for a in args))\n"
     ]
    },
    {
     "name": "stdout",
     "output_type": "stream",
     "text": [
      "704\n"
     ]
    },
    {
     "name": "stderr",
     "output_type": "stream",
     "text": [
      "/home/sbarc/students/nash/miniconda3/envs/hasia2/lib/python3.7/site-packages/dask/utils.py:35: RuntimeWarning: All-NaN slice encountered\n",
      "  return func(*args, **kwargs)\n",
      "/home/sbarc/students/nash/miniconda3/envs/hasia2/lib/python3.7/site-packages/dask/core.py:121: RuntimeWarning: All-NaN slice encountered\n",
      "  return func(*(_execute_task(a, cache) for a in args))\n"
     ]
    },
    {
     "name": "stdout",
     "output_type": "stream",
     "text": [
      "705\n",
      "706\n"
     ]
    },
    {
     "name": "stderr",
     "output_type": "stream",
     "text": [
      "/home/sbarc/students/nash/miniconda3/envs/hasia2/lib/python3.7/site-packages/dask/utils.py:35: RuntimeWarning: All-NaN slice encountered\n",
      "  return func(*args, **kwargs)\n",
      "/home/sbarc/students/nash/miniconda3/envs/hasia2/lib/python3.7/site-packages/dask/core.py:121: RuntimeWarning: All-NaN slice encountered\n",
      "  return func(*(_execute_task(a, cache) for a in args))\n"
     ]
    },
    {
     "name": "stdout",
     "output_type": "stream",
     "text": [
      "707\n",
      "708\n"
     ]
    },
    {
     "name": "stderr",
     "output_type": "stream",
     "text": [
      "/home/sbarc/students/nash/miniconda3/envs/hasia2/lib/python3.7/site-packages/dask/utils.py:35: RuntimeWarning: All-NaN slice encountered\n",
      "  return func(*args, **kwargs)\n",
      "/home/sbarc/students/nash/miniconda3/envs/hasia2/lib/python3.7/site-packages/dask/core.py:121: RuntimeWarning: All-NaN slice encountered\n",
      "  return func(*(_execute_task(a, cache) for a in args))\n"
     ]
    },
    {
     "name": "stdout",
     "output_type": "stream",
     "text": [
      "709\n",
      "710\n"
     ]
    },
    {
     "name": "stderr",
     "output_type": "stream",
     "text": [
      "/home/sbarc/students/nash/miniconda3/envs/hasia2/lib/python3.7/site-packages/dask/utils.py:35: RuntimeWarning: All-NaN slice encountered\n",
      "  return func(*args, **kwargs)\n",
      "/home/sbarc/students/nash/miniconda3/envs/hasia2/lib/python3.7/site-packages/dask/core.py:121: RuntimeWarning: All-NaN slice encountered\n",
      "  return func(*(_execute_task(a, cache) for a in args))\n"
     ]
    },
    {
     "name": "stdout",
     "output_type": "stream",
     "text": [
      "711\n"
     ]
    },
    {
     "name": "stderr",
     "output_type": "stream",
     "text": [
      "/home/sbarc/students/nash/miniconda3/envs/hasia2/lib/python3.7/site-packages/dask/utils.py:35: RuntimeWarning: All-NaN slice encountered\n",
      "  return func(*args, **kwargs)\n",
      "/home/sbarc/students/nash/miniconda3/envs/hasia2/lib/python3.7/site-packages/dask/core.py:121: RuntimeWarning: All-NaN slice encountered\n",
      "  return func(*(_execute_task(a, cache) for a in args))\n"
     ]
    },
    {
     "name": "stdout",
     "output_type": "stream",
     "text": [
      "712\n",
      "713\n",
      "714\n",
      "715\n",
      "716\n",
      "717\n"
     ]
    },
    {
     "name": "stderr",
     "output_type": "stream",
     "text": [
      "/home/sbarc/students/nash/miniconda3/envs/hasia2/lib/python3.7/site-packages/dask/utils.py:35: RuntimeWarning: All-NaN slice encountered\n",
      "  return func(*args, **kwargs)\n",
      "/home/sbarc/students/nash/miniconda3/envs/hasia2/lib/python3.7/site-packages/dask/core.py:121: RuntimeWarning: All-NaN slice encountered\n",
      "  return func(*(_execute_task(a, cache) for a in args))\n"
     ]
    },
    {
     "name": "stdout",
     "output_type": "stream",
     "text": [
      "718\n"
     ]
    },
    {
     "name": "stderr",
     "output_type": "stream",
     "text": [
      "/home/sbarc/students/nash/miniconda3/envs/hasia2/lib/python3.7/site-packages/dask/utils.py:35: RuntimeWarning: All-NaN slice encountered\n",
      "  return func(*args, **kwargs)\n",
      "/home/sbarc/students/nash/miniconda3/envs/hasia2/lib/python3.7/site-packages/dask/core.py:121: RuntimeWarning: All-NaN slice encountered\n",
      "  return func(*(_execute_task(a, cache) for a in args))\n"
     ]
    },
    {
     "name": "stdout",
     "output_type": "stream",
     "text": [
      "719\n"
     ]
    },
    {
     "name": "stderr",
     "output_type": "stream",
     "text": [
      "/home/sbarc/students/nash/miniconda3/envs/hasia2/lib/python3.7/site-packages/dask/utils.py:35: RuntimeWarning: All-NaN slice encountered\n",
      "  return func(*args, **kwargs)\n",
      "/home/sbarc/students/nash/miniconda3/envs/hasia2/lib/python3.7/site-packages/dask/core.py:121: RuntimeWarning: All-NaN slice encountered\n",
      "  return func(*(_execute_task(a, cache) for a in args))\n"
     ]
    },
    {
     "name": "stdout",
     "output_type": "stream",
     "text": [
      "720\n"
     ]
    },
    {
     "name": "stderr",
     "output_type": "stream",
     "text": [
      "/home/sbarc/students/nash/miniconda3/envs/hasia2/lib/python3.7/site-packages/dask/utils.py:35: RuntimeWarning: All-NaN slice encountered\n",
      "  return func(*args, **kwargs)\n",
      "/home/sbarc/students/nash/miniconda3/envs/hasia2/lib/python3.7/site-packages/dask/core.py:121: RuntimeWarning: All-NaN slice encountered\n",
      "  return func(*(_execute_task(a, cache) for a in args))\n"
     ]
    },
    {
     "name": "stdout",
     "output_type": "stream",
     "text": [
      "721\n",
      "722\n",
      "723\n",
      "724\n",
      "725\n",
      "726\n"
     ]
    },
    {
     "name": "stderr",
     "output_type": "stream",
     "text": [
      "/home/sbarc/students/nash/miniconda3/envs/hasia2/lib/python3.7/site-packages/dask/utils.py:35: RuntimeWarning: All-NaN slice encountered\n",
      "  return func(*args, **kwargs)\n",
      "/home/sbarc/students/nash/miniconda3/envs/hasia2/lib/python3.7/site-packages/dask/core.py:121: RuntimeWarning: All-NaN slice encountered\n",
      "  return func(*(_execute_task(a, cache) for a in args))\n"
     ]
    },
    {
     "name": "stdout",
     "output_type": "stream",
     "text": [
      "727\n",
      "728\n",
      "729\n",
      "730\n",
      "731\n",
      "732\n",
      "733\n",
      "734\n",
      "735\n",
      "736\n",
      "737\n",
      "738\n",
      "739\n",
      "740\n"
     ]
    },
    {
     "name": "stderr",
     "output_type": "stream",
     "text": [
      "/home/sbarc/students/nash/miniconda3/envs/hasia2/lib/python3.7/site-packages/dask/utils.py:35: RuntimeWarning: All-NaN slice encountered\n",
      "  return func(*args, **kwargs)\n",
      "/home/sbarc/students/nash/miniconda3/envs/hasia2/lib/python3.7/site-packages/dask/core.py:121: RuntimeWarning: All-NaN slice encountered\n",
      "  return func(*(_execute_task(a, cache) for a in args))\n"
     ]
    },
    {
     "name": "stdout",
     "output_type": "stream",
     "text": [
      "741\n"
     ]
    },
    {
     "name": "stderr",
     "output_type": "stream",
     "text": [
      "/home/sbarc/students/nash/miniconda3/envs/hasia2/lib/python3.7/site-packages/dask/utils.py:35: RuntimeWarning: All-NaN slice encountered\n",
      "  return func(*args, **kwargs)\n",
      "/home/sbarc/students/nash/miniconda3/envs/hasia2/lib/python3.7/site-packages/dask/core.py:121: RuntimeWarning: All-NaN slice encountered\n",
      "  return func(*(_execute_task(a, cache) for a in args))\n"
     ]
    },
    {
     "name": "stdout",
     "output_type": "stream",
     "text": [
      "742\n",
      "743\n",
      "744\n",
      "745\n",
      "746\n"
     ]
    },
    {
     "name": "stderr",
     "output_type": "stream",
     "text": [
      "/home/sbarc/students/nash/miniconda3/envs/hasia2/lib/python3.7/site-packages/dask/utils.py:35: RuntimeWarning: All-NaN slice encountered\n",
      "  return func(*args, **kwargs)\n",
      "/home/sbarc/students/nash/miniconda3/envs/hasia2/lib/python3.7/site-packages/dask/core.py:121: RuntimeWarning: All-NaN slice encountered\n",
      "  return func(*(_execute_task(a, cache) for a in args))\n"
     ]
    },
    {
     "name": "stdout",
     "output_type": "stream",
     "text": [
      "747\n",
      "748\n",
      "749\n",
      "750\n"
     ]
    },
    {
     "name": "stderr",
     "output_type": "stream",
     "text": [
      "/home/sbarc/students/nash/miniconda3/envs/hasia2/lib/python3.7/site-packages/dask/utils.py:35: RuntimeWarning: All-NaN slice encountered\n",
      "  return func(*args, **kwargs)\n",
      "/home/sbarc/students/nash/miniconda3/envs/hasia2/lib/python3.7/site-packages/dask/core.py:121: RuntimeWarning: All-NaN slice encountered\n",
      "  return func(*(_execute_task(a, cache) for a in args))\n"
     ]
    },
    {
     "name": "stdout",
     "output_type": "stream",
     "text": [
      "751\n"
     ]
    },
    {
     "name": "stderr",
     "output_type": "stream",
     "text": [
      "/home/sbarc/students/nash/miniconda3/envs/hasia2/lib/python3.7/site-packages/dask/utils.py:35: RuntimeWarning: All-NaN slice encountered\n",
      "  return func(*args, **kwargs)\n",
      "/home/sbarc/students/nash/miniconda3/envs/hasia2/lib/python3.7/site-packages/dask/core.py:121: RuntimeWarning: All-NaN slice encountered\n",
      "  return func(*(_execute_task(a, cache) for a in args))\n"
     ]
    },
    {
     "name": "stdout",
     "output_type": "stream",
     "text": [
      "752\n",
      "753\n",
      "754\n"
     ]
    },
    {
     "name": "stderr",
     "output_type": "stream",
     "text": [
      "/home/sbarc/students/nash/miniconda3/envs/hasia2/lib/python3.7/site-packages/dask/utils.py:35: RuntimeWarning: All-NaN slice encountered\n",
      "  return func(*args, **kwargs)\n",
      "/home/sbarc/students/nash/miniconda3/envs/hasia2/lib/python3.7/site-packages/dask/core.py:121: RuntimeWarning: All-NaN slice encountered\n",
      "  return func(*(_execute_task(a, cache) for a in args))\n"
     ]
    },
    {
     "name": "stdout",
     "output_type": "stream",
     "text": [
      "755\n"
     ]
    },
    {
     "name": "stderr",
     "output_type": "stream",
     "text": [
      "/home/sbarc/students/nash/miniconda3/envs/hasia2/lib/python3.7/site-packages/dask/utils.py:35: RuntimeWarning: All-NaN slice encountered\n",
      "  return func(*args, **kwargs)\n",
      "/home/sbarc/students/nash/miniconda3/envs/hasia2/lib/python3.7/site-packages/dask/core.py:121: RuntimeWarning: All-NaN slice encountered\n",
      "  return func(*(_execute_task(a, cache) for a in args))\n"
     ]
    },
    {
     "name": "stdout",
     "output_type": "stream",
     "text": [
      "756\n",
      "757\n",
      "758\n"
     ]
    },
    {
     "name": "stderr",
     "output_type": "stream",
     "text": [
      "/home/sbarc/students/nash/miniconda3/envs/hasia2/lib/python3.7/site-packages/dask/utils.py:35: RuntimeWarning: All-NaN slice encountered\n",
      "  return func(*args, **kwargs)\n",
      "/home/sbarc/students/nash/miniconda3/envs/hasia2/lib/python3.7/site-packages/dask/core.py:121: RuntimeWarning: All-NaN slice encountered\n",
      "  return func(*(_execute_task(a, cache) for a in args))\n"
     ]
    },
    {
     "name": "stdout",
     "output_type": "stream",
     "text": [
      "759\n"
     ]
    },
    {
     "name": "stderr",
     "output_type": "stream",
     "text": [
      "/home/sbarc/students/nash/miniconda3/envs/hasia2/lib/python3.7/site-packages/dask/utils.py:35: RuntimeWarning: All-NaN slice encountered\n",
      "  return func(*args, **kwargs)\n",
      "/home/sbarc/students/nash/miniconda3/envs/hasia2/lib/python3.7/site-packages/dask/core.py:121: RuntimeWarning: All-NaN slice encountered\n",
      "  return func(*(_execute_task(a, cache) for a in args))\n"
     ]
    },
    {
     "name": "stdout",
     "output_type": "stream",
     "text": [
      "760\n"
     ]
    },
    {
     "name": "stderr",
     "output_type": "stream",
     "text": [
      "/home/sbarc/students/nash/miniconda3/envs/hasia2/lib/python3.7/site-packages/dask/utils.py:35: RuntimeWarning: All-NaN slice encountered\n",
      "  return func(*args, **kwargs)\n",
      "/home/sbarc/students/nash/miniconda3/envs/hasia2/lib/python3.7/site-packages/dask/core.py:121: RuntimeWarning: All-NaN slice encountered\n",
      "  return func(*(_execute_task(a, cache) for a in args))\n"
     ]
    },
    {
     "name": "stdout",
     "output_type": "stream",
     "text": [
      "761\n"
     ]
    },
    {
     "name": "stderr",
     "output_type": "stream",
     "text": [
      "/home/sbarc/students/nash/miniconda3/envs/hasia2/lib/python3.7/site-packages/dask/utils.py:35: RuntimeWarning: All-NaN slice encountered\n",
      "  return func(*args, **kwargs)\n",
      "/home/sbarc/students/nash/miniconda3/envs/hasia2/lib/python3.7/site-packages/dask/core.py:121: RuntimeWarning: All-NaN slice encountered\n",
      "  return func(*(_execute_task(a, cache) for a in args))\n"
     ]
    },
    {
     "name": "stdout",
     "output_type": "stream",
     "text": [
      "762\n"
     ]
    },
    {
     "name": "stderr",
     "output_type": "stream",
     "text": [
      "/home/sbarc/students/nash/miniconda3/envs/hasia2/lib/python3.7/site-packages/dask/utils.py:35: RuntimeWarning: All-NaN slice encountered\n",
      "  return func(*args, **kwargs)\n",
      "/home/sbarc/students/nash/miniconda3/envs/hasia2/lib/python3.7/site-packages/dask/core.py:121: RuntimeWarning: All-NaN slice encountered\n",
      "  return func(*(_execute_task(a, cache) for a in args))\n"
     ]
    },
    {
     "name": "stdout",
     "output_type": "stream",
     "text": [
      "763\n",
      "764\n",
      "765\n",
      "766\n",
      "767\n",
      "768\n"
     ]
    },
    {
     "name": "stderr",
     "output_type": "stream",
     "text": [
      "/home/sbarc/students/nash/miniconda3/envs/hasia2/lib/python3.7/site-packages/dask/utils.py:35: RuntimeWarning: All-NaN slice encountered\n",
      "  return func(*args, **kwargs)\n",
      "/home/sbarc/students/nash/miniconda3/envs/hasia2/lib/python3.7/site-packages/dask/core.py:121: RuntimeWarning: All-NaN slice encountered\n",
      "  return func(*(_execute_task(a, cache) for a in args))\n"
     ]
    },
    {
     "name": "stdout",
     "output_type": "stream",
     "text": [
      "769\n",
      "770\n",
      "771\n"
     ]
    },
    {
     "name": "stderr",
     "output_type": "stream",
     "text": [
      "/home/sbarc/students/nash/miniconda3/envs/hasia2/lib/python3.7/site-packages/dask/utils.py:35: RuntimeWarning: All-NaN slice encountered\n",
      "  return func(*args, **kwargs)\n",
      "/home/sbarc/students/nash/miniconda3/envs/hasia2/lib/python3.7/site-packages/dask/core.py:121: RuntimeWarning: All-NaN slice encountered\n",
      "  return func(*(_execute_task(a, cache) for a in args))\n"
     ]
    },
    {
     "name": "stdout",
     "output_type": "stream",
     "text": [
      "772\n",
      "773\n",
      "775\n",
      "776\n",
      "777\n",
      "778\n"
     ]
    },
    {
     "name": "stderr",
     "output_type": "stream",
     "text": [
      "/home/sbarc/students/nash/miniconda3/envs/hasia2/lib/python3.7/site-packages/dask/utils.py:35: RuntimeWarning: All-NaN slice encountered\n",
      "  return func(*args, **kwargs)\n",
      "/home/sbarc/students/nash/miniconda3/envs/hasia2/lib/python3.7/site-packages/dask/core.py:121: RuntimeWarning: All-NaN slice encountered\n",
      "  return func(*(_execute_task(a, cache) for a in args))\n"
     ]
    },
    {
     "name": "stdout",
     "output_type": "stream",
     "text": [
      "779\n",
      "780\n"
     ]
    },
    {
     "name": "stderr",
     "output_type": "stream",
     "text": [
      "/home/sbarc/students/nash/miniconda3/envs/hasia2/lib/python3.7/site-packages/dask/utils.py:35: RuntimeWarning: All-NaN slice encountered\n",
      "  return func(*args, **kwargs)\n",
      "/home/sbarc/students/nash/miniconda3/envs/hasia2/lib/python3.7/site-packages/dask/core.py:121: RuntimeWarning: All-NaN slice encountered\n",
      "  return func(*(_execute_task(a, cache) for a in args))\n"
     ]
    },
    {
     "name": "stdout",
     "output_type": "stream",
     "text": [
      "781\n",
      "782\n",
      "783\n",
      "784\n",
      "785\n",
      "786\n",
      "787\n"
     ]
    },
    {
     "name": "stderr",
     "output_type": "stream",
     "text": [
      "/home/sbarc/students/nash/miniconda3/envs/hasia2/lib/python3.7/site-packages/dask/utils.py:35: RuntimeWarning: All-NaN slice encountered\n",
      "  return func(*args, **kwargs)\n",
      "/home/sbarc/students/nash/miniconda3/envs/hasia2/lib/python3.7/site-packages/dask/core.py:121: RuntimeWarning: All-NaN slice encountered\n",
      "  return func(*(_execute_task(a, cache) for a in args))\n"
     ]
    },
    {
     "name": "stdout",
     "output_type": "stream",
     "text": [
      "788\n",
      "789\n",
      "790\n",
      "791\n"
     ]
    },
    {
     "name": "stderr",
     "output_type": "stream",
     "text": [
      "/home/sbarc/students/nash/miniconda3/envs/hasia2/lib/python3.7/site-packages/dask/utils.py:35: RuntimeWarning: All-NaN slice encountered\n",
      "  return func(*args, **kwargs)\n",
      "/home/sbarc/students/nash/miniconda3/envs/hasia2/lib/python3.7/site-packages/dask/core.py:121: RuntimeWarning: All-NaN slice encountered\n",
      "  return func(*(_execute_task(a, cache) for a in args))\n"
     ]
    },
    {
     "name": "stdout",
     "output_type": "stream",
     "text": [
      "792\n"
     ]
    },
    {
     "name": "stderr",
     "output_type": "stream",
     "text": [
      "/home/sbarc/students/nash/miniconda3/envs/hasia2/lib/python3.7/site-packages/dask/utils.py:35: RuntimeWarning: All-NaN slice encountered\n",
      "  return func(*args, **kwargs)\n",
      "/home/sbarc/students/nash/miniconda3/envs/hasia2/lib/python3.7/site-packages/dask/core.py:121: RuntimeWarning: All-NaN slice encountered\n",
      "  return func(*(_execute_task(a, cache) for a in args))\n"
     ]
    },
    {
     "name": "stdout",
     "output_type": "stream",
     "text": [
      "793\n",
      "794\n",
      "795\n",
      "796\n",
      "797\n",
      "798\n",
      "799\n",
      "800\n",
      "801\n",
      "802\n",
      "803\n"
     ]
    },
    {
     "name": "stderr",
     "output_type": "stream",
     "text": [
      "/home/sbarc/students/nash/miniconda3/envs/hasia2/lib/python3.7/site-packages/dask/utils.py:35: RuntimeWarning: All-NaN slice encountered\n",
      "  return func(*args, **kwargs)\n",
      "/home/sbarc/students/nash/miniconda3/envs/hasia2/lib/python3.7/site-packages/dask/core.py:121: RuntimeWarning: All-NaN slice encountered\n",
      "  return func(*(_execute_task(a, cache) for a in args))\n"
     ]
    },
    {
     "name": "stdout",
     "output_type": "stream",
     "text": [
      "804\n",
      "805\n"
     ]
    },
    {
     "name": "stderr",
     "output_type": "stream",
     "text": [
      "/home/sbarc/students/nash/miniconda3/envs/hasia2/lib/python3.7/site-packages/dask/utils.py:35: RuntimeWarning: All-NaN slice encountered\n",
      "  return func(*args, **kwargs)\n",
      "/home/sbarc/students/nash/miniconda3/envs/hasia2/lib/python3.7/site-packages/dask/core.py:121: RuntimeWarning: All-NaN slice encountered\n",
      "  return func(*(_execute_task(a, cache) for a in args))\n"
     ]
    },
    {
     "name": "stdout",
     "output_type": "stream",
     "text": [
      "806\n",
      "807\n"
     ]
    },
    {
     "name": "stderr",
     "output_type": "stream",
     "text": [
      "/home/sbarc/students/nash/miniconda3/envs/hasia2/lib/python3.7/site-packages/dask/utils.py:35: RuntimeWarning: All-NaN slice encountered\n",
      "  return func(*args, **kwargs)\n",
      "/home/sbarc/students/nash/miniconda3/envs/hasia2/lib/python3.7/site-packages/dask/core.py:121: RuntimeWarning: All-NaN slice encountered\n",
      "  return func(*(_execute_task(a, cache) for a in args))\n"
     ]
    },
    {
     "name": "stdout",
     "output_type": "stream",
     "text": [
      "808\n",
      "809\n",
      "810\n",
      "811\n",
      "812\n",
      "813\n",
      "814\n",
      "815\n",
      "816\n",
      "817\n"
     ]
    },
    {
     "name": "stderr",
     "output_type": "stream",
     "text": [
      "/home/sbarc/students/nash/miniconda3/envs/hasia2/lib/python3.7/site-packages/dask/utils.py:35: RuntimeWarning: All-NaN slice encountered\n",
      "  return func(*args, **kwargs)\n",
      "/home/sbarc/students/nash/miniconda3/envs/hasia2/lib/python3.7/site-packages/dask/core.py:121: RuntimeWarning: All-NaN slice encountered\n",
      "  return func(*(_execute_task(a, cache) for a in args))\n"
     ]
    },
    {
     "name": "stdout",
     "output_type": "stream",
     "text": [
      "818\n"
     ]
    },
    {
     "name": "stderr",
     "output_type": "stream",
     "text": [
      "/home/sbarc/students/nash/miniconda3/envs/hasia2/lib/python3.7/site-packages/dask/utils.py:35: RuntimeWarning: All-NaN slice encountered\n",
      "  return func(*args, **kwargs)\n",
      "/home/sbarc/students/nash/miniconda3/envs/hasia2/lib/python3.7/site-packages/dask/core.py:121: RuntimeWarning: All-NaN slice encountered\n",
      "  return func(*(_execute_task(a, cache) for a in args))\n"
     ]
    },
    {
     "name": "stdout",
     "output_type": "stream",
     "text": [
      "819\n",
      "820\n",
      "821\n",
      "822\n",
      "823\n"
     ]
    },
    {
     "name": "stderr",
     "output_type": "stream",
     "text": [
      "/home/sbarc/students/nash/miniconda3/envs/hasia2/lib/python3.7/site-packages/dask/utils.py:35: RuntimeWarning: All-NaN slice encountered\n",
      "  return func(*args, **kwargs)\n",
      "/home/sbarc/students/nash/miniconda3/envs/hasia2/lib/python3.7/site-packages/dask/core.py:121: RuntimeWarning: All-NaN slice encountered\n",
      "  return func(*(_execute_task(a, cache) for a in args))\n"
     ]
    },
    {
     "name": "stdout",
     "output_type": "stream",
     "text": [
      "824\n",
      "825\n",
      "826\n",
      "827\n",
      "828\n",
      "829\n",
      "830\n",
      "831\n",
      "832\n",
      "833\n",
      "834\n",
      "835\n",
      "836\n",
      "837\n",
      "838\n",
      "839\n",
      "840\n"
     ]
    },
    {
     "name": "stderr",
     "output_type": "stream",
     "text": [
      "/home/sbarc/students/nash/miniconda3/envs/hasia2/lib/python3.7/site-packages/dask/utils.py:35: RuntimeWarning: All-NaN slice encountered\n",
      "  return func(*args, **kwargs)\n",
      "/home/sbarc/students/nash/miniconda3/envs/hasia2/lib/python3.7/site-packages/dask/core.py:121: RuntimeWarning: All-NaN slice encountered\n",
      "  return func(*(_execute_task(a, cache) for a in args))\n"
     ]
    },
    {
     "name": "stdout",
     "output_type": "stream",
     "text": [
      "841\n"
     ]
    },
    {
     "name": "stderr",
     "output_type": "stream",
     "text": [
      "/home/sbarc/students/nash/miniconda3/envs/hasia2/lib/python3.7/site-packages/dask/utils.py:35: RuntimeWarning: All-NaN slice encountered\n",
      "  return func(*args, **kwargs)\n",
      "/home/sbarc/students/nash/miniconda3/envs/hasia2/lib/python3.7/site-packages/dask/core.py:121: RuntimeWarning: All-NaN slice encountered\n",
      "  return func(*(_execute_task(a, cache) for a in args))\n"
     ]
    },
    {
     "name": "stdout",
     "output_type": "stream",
     "text": [
      "842\n",
      "843\n",
      "844\n",
      "845\n"
     ]
    },
    {
     "name": "stderr",
     "output_type": "stream",
     "text": [
      "/home/sbarc/students/nash/miniconda3/envs/hasia2/lib/python3.7/site-packages/dask/utils.py:35: RuntimeWarning: All-NaN slice encountered\n",
      "  return func(*args, **kwargs)\n",
      "/home/sbarc/students/nash/miniconda3/envs/hasia2/lib/python3.7/site-packages/dask/core.py:121: RuntimeWarning: All-NaN slice encountered\n",
      "  return func(*(_execute_task(a, cache) for a in args))\n"
     ]
    },
    {
     "name": "stdout",
     "output_type": "stream",
     "text": [
      "846\n"
     ]
    },
    {
     "name": "stderr",
     "output_type": "stream",
     "text": [
      "/home/sbarc/students/nash/miniconda3/envs/hasia2/lib/python3.7/site-packages/dask/utils.py:35: RuntimeWarning: All-NaN slice encountered\n",
      "  return func(*args, **kwargs)\n",
      "/home/sbarc/students/nash/miniconda3/envs/hasia2/lib/python3.7/site-packages/dask/core.py:121: RuntimeWarning: All-NaN slice encountered\n",
      "  return func(*(_execute_task(a, cache) for a in args))\n"
     ]
    },
    {
     "name": "stdout",
     "output_type": "stream",
     "text": [
      "847\n",
      "848\n",
      "849\n",
      "850\n",
      "851\n",
      "852\n"
     ]
    },
    {
     "name": "stderr",
     "output_type": "stream",
     "text": [
      "/home/sbarc/students/nash/miniconda3/envs/hasia2/lib/python3.7/site-packages/dask/utils.py:35: RuntimeWarning: All-NaN slice encountered\n",
      "  return func(*args, **kwargs)\n",
      "/home/sbarc/students/nash/miniconda3/envs/hasia2/lib/python3.7/site-packages/dask/core.py:121: RuntimeWarning: All-NaN slice encountered\n",
      "  return func(*(_execute_task(a, cache) for a in args))\n"
     ]
    },
    {
     "name": "stdout",
     "output_type": "stream",
     "text": [
      "853\n",
      "854\n",
      "855\n",
      "856\n",
      "857\n",
      "858\n",
      "859\n"
     ]
    },
    {
     "name": "stderr",
     "output_type": "stream",
     "text": [
      "/home/sbarc/students/nash/miniconda3/envs/hasia2/lib/python3.7/site-packages/dask/utils.py:35: RuntimeWarning: All-NaN slice encountered\n",
      "  return func(*args, **kwargs)\n",
      "/home/sbarc/students/nash/miniconda3/envs/hasia2/lib/python3.7/site-packages/dask/core.py:121: RuntimeWarning: All-NaN slice encountered\n",
      "  return func(*(_execute_task(a, cache) for a in args))\n"
     ]
    },
    {
     "name": "stdout",
     "output_type": "stream",
     "text": [
      "860\n",
      "861\n"
     ]
    },
    {
     "name": "stderr",
     "output_type": "stream",
     "text": [
      "/home/sbarc/students/nash/miniconda3/envs/hasia2/lib/python3.7/site-packages/dask/utils.py:35: RuntimeWarning: All-NaN slice encountered\n",
      "  return func(*args, **kwargs)\n",
      "/home/sbarc/students/nash/miniconda3/envs/hasia2/lib/python3.7/site-packages/dask/core.py:121: RuntimeWarning: All-NaN slice encountered\n",
      "  return func(*(_execute_task(a, cache) for a in args))\n"
     ]
    },
    {
     "name": "stdout",
     "output_type": "stream",
     "text": [
      "862\n"
     ]
    },
    {
     "name": "stderr",
     "output_type": "stream",
     "text": [
      "/home/sbarc/students/nash/miniconda3/envs/hasia2/lib/python3.7/site-packages/dask/utils.py:35: RuntimeWarning: All-NaN slice encountered\n",
      "  return func(*args, **kwargs)\n",
      "/home/sbarc/students/nash/miniconda3/envs/hasia2/lib/python3.7/site-packages/dask/core.py:121: RuntimeWarning: All-NaN slice encountered\n",
      "  return func(*(_execute_task(a, cache) for a in args))\n"
     ]
    },
    {
     "name": "stdout",
     "output_type": "stream",
     "text": [
      "863\n"
     ]
    },
    {
     "name": "stderr",
     "output_type": "stream",
     "text": [
      "/home/sbarc/students/nash/miniconda3/envs/hasia2/lib/python3.7/site-packages/dask/utils.py:35: RuntimeWarning: All-NaN slice encountered\n",
      "  return func(*args, **kwargs)\n",
      "/home/sbarc/students/nash/miniconda3/envs/hasia2/lib/python3.7/site-packages/dask/core.py:121: RuntimeWarning: All-NaN slice encountered\n",
      "  return func(*(_execute_task(a, cache) for a in args))\n"
     ]
    },
    {
     "name": "stdout",
     "output_type": "stream",
     "text": [
      "864\n",
      "865\n",
      "866\n"
     ]
    },
    {
     "name": "stderr",
     "output_type": "stream",
     "text": [
      "/home/sbarc/students/nash/miniconda3/envs/hasia2/lib/python3.7/site-packages/dask/utils.py:35: RuntimeWarning: All-NaN slice encountered\n",
      "  return func(*args, **kwargs)\n",
      "/home/sbarc/students/nash/miniconda3/envs/hasia2/lib/python3.7/site-packages/dask/core.py:121: RuntimeWarning: All-NaN slice encountered\n",
      "  return func(*(_execute_task(a, cache) for a in args))\n"
     ]
    },
    {
     "name": "stdout",
     "output_type": "stream",
     "text": [
      "867\n",
      "868\n",
      "869\n"
     ]
    },
    {
     "name": "stderr",
     "output_type": "stream",
     "text": [
      "/home/sbarc/students/nash/miniconda3/envs/hasia2/lib/python3.7/site-packages/dask/utils.py:35: RuntimeWarning: All-NaN slice encountered\n",
      "  return func(*args, **kwargs)\n",
      "/home/sbarc/students/nash/miniconda3/envs/hasia2/lib/python3.7/site-packages/dask/core.py:121: RuntimeWarning: All-NaN slice encountered\n",
      "  return func(*(_execute_task(a, cache) for a in args))\n"
     ]
    },
    {
     "name": "stdout",
     "output_type": "stream",
     "text": [
      "870\n",
      "871\n"
     ]
    },
    {
     "name": "stderr",
     "output_type": "stream",
     "text": [
      "/home/sbarc/students/nash/miniconda3/envs/hasia2/lib/python3.7/site-packages/dask/utils.py:35: RuntimeWarning: All-NaN slice encountered\n",
      "  return func(*args, **kwargs)\n",
      "/home/sbarc/students/nash/miniconda3/envs/hasia2/lib/python3.7/site-packages/dask/core.py:121: RuntimeWarning: All-NaN slice encountered\n",
      "  return func(*(_execute_task(a, cache) for a in args))\n"
     ]
    },
    {
     "name": "stdout",
     "output_type": "stream",
     "text": [
      "872\n",
      "873\n"
     ]
    },
    {
     "name": "stderr",
     "output_type": "stream",
     "text": [
      "/home/sbarc/students/nash/miniconda3/envs/hasia2/lib/python3.7/site-packages/dask/utils.py:35: RuntimeWarning: All-NaN slice encountered\n",
      "  return func(*args, **kwargs)\n",
      "/home/sbarc/students/nash/miniconda3/envs/hasia2/lib/python3.7/site-packages/dask/core.py:121: RuntimeWarning: All-NaN slice encountered\n",
      "  return func(*(_execute_task(a, cache) for a in args))\n"
     ]
    },
    {
     "name": "stdout",
     "output_type": "stream",
     "text": [
      "874\n"
     ]
    },
    {
     "name": "stderr",
     "output_type": "stream",
     "text": [
      "/home/sbarc/students/nash/miniconda3/envs/hasia2/lib/python3.7/site-packages/dask/utils.py:35: RuntimeWarning: All-NaN slice encountered\n",
      "  return func(*args, **kwargs)\n",
      "/home/sbarc/students/nash/miniconda3/envs/hasia2/lib/python3.7/site-packages/dask/core.py:121: RuntimeWarning: All-NaN slice encountered\n",
      "  return func(*(_execute_task(a, cache) for a in args))\n"
     ]
    },
    {
     "name": "stdout",
     "output_type": "stream",
     "text": [
      "875\n"
     ]
    },
    {
     "name": "stderr",
     "output_type": "stream",
     "text": [
      "/home/sbarc/students/nash/miniconda3/envs/hasia2/lib/python3.7/site-packages/dask/utils.py:35: RuntimeWarning: All-NaN slice encountered\n",
      "  return func(*args, **kwargs)\n",
      "/home/sbarc/students/nash/miniconda3/envs/hasia2/lib/python3.7/site-packages/dask/core.py:121: RuntimeWarning: All-NaN slice encountered\n",
      "  return func(*(_execute_task(a, cache) for a in args))\n"
     ]
    },
    {
     "name": "stdout",
     "output_type": "stream",
     "text": [
      "876\n"
     ]
    },
    {
     "name": "stderr",
     "output_type": "stream",
     "text": [
      "/home/sbarc/students/nash/miniconda3/envs/hasia2/lib/python3.7/site-packages/dask/utils.py:35: RuntimeWarning: All-NaN slice encountered\n",
      "  return func(*args, **kwargs)\n",
      "/home/sbarc/students/nash/miniconda3/envs/hasia2/lib/python3.7/site-packages/dask/core.py:121: RuntimeWarning: All-NaN slice encountered\n",
      "  return func(*(_execute_task(a, cache) for a in args))\n"
     ]
    },
    {
     "name": "stdout",
     "output_type": "stream",
     "text": [
      "877\n",
      "878\n"
     ]
    },
    {
     "name": "stderr",
     "output_type": "stream",
     "text": [
      "/home/sbarc/students/nash/miniconda3/envs/hasia2/lib/python3.7/site-packages/dask/utils.py:35: RuntimeWarning: All-NaN slice encountered\n",
      "  return func(*args, **kwargs)\n",
      "/home/sbarc/students/nash/miniconda3/envs/hasia2/lib/python3.7/site-packages/dask/core.py:121: RuntimeWarning: All-NaN slice encountered\n",
      "  return func(*(_execute_task(a, cache) for a in args))\n"
     ]
    },
    {
     "name": "stdout",
     "output_type": "stream",
     "text": [
      "879\n"
     ]
    },
    {
     "name": "stderr",
     "output_type": "stream",
     "text": [
      "/home/sbarc/students/nash/miniconda3/envs/hasia2/lib/python3.7/site-packages/dask/utils.py:35: RuntimeWarning: All-NaN slice encountered\n",
      "  return func(*args, **kwargs)\n",
      "/home/sbarc/students/nash/miniconda3/envs/hasia2/lib/python3.7/site-packages/dask/core.py:121: RuntimeWarning: All-NaN slice encountered\n",
      "  return func(*(_execute_task(a, cache) for a in args))\n"
     ]
    },
    {
     "name": "stdout",
     "output_type": "stream",
     "text": [
      "880\n",
      "881\n",
      "882\n",
      "883\n",
      "884\n",
      "885\n",
      "886\n",
      "887\n",
      "888\n",
      "889\n"
     ]
    },
    {
     "name": "stderr",
     "output_type": "stream",
     "text": [
      "/home/sbarc/students/nash/miniconda3/envs/hasia2/lib/python3.7/site-packages/dask/utils.py:35: RuntimeWarning: All-NaN slice encountered\n",
      "  return func(*args, **kwargs)\n",
      "/home/sbarc/students/nash/miniconda3/envs/hasia2/lib/python3.7/site-packages/dask/core.py:121: RuntimeWarning: All-NaN slice encountered\n",
      "  return func(*(_execute_task(a, cache) for a in args))\n"
     ]
    },
    {
     "name": "stdout",
     "output_type": "stream",
     "text": [
      "890\n"
     ]
    },
    {
     "name": "stderr",
     "output_type": "stream",
     "text": [
      "/home/sbarc/students/nash/miniconda3/envs/hasia2/lib/python3.7/site-packages/dask/utils.py:35: RuntimeWarning: All-NaN slice encountered\n",
      "  return func(*args, **kwargs)\n",
      "/home/sbarc/students/nash/miniconda3/envs/hasia2/lib/python3.7/site-packages/dask/core.py:121: RuntimeWarning: All-NaN slice encountered\n",
      "  return func(*(_execute_task(a, cache) for a in args))\n"
     ]
    },
    {
     "name": "stdout",
     "output_type": "stream",
     "text": [
      "891\n",
      "892\n"
     ]
    },
    {
     "name": "stderr",
     "output_type": "stream",
     "text": [
      "/home/sbarc/students/nash/miniconda3/envs/hasia2/lib/python3.7/site-packages/dask/utils.py:35: RuntimeWarning: All-NaN slice encountered\n",
      "  return func(*args, **kwargs)\n",
      "/home/sbarc/students/nash/miniconda3/envs/hasia2/lib/python3.7/site-packages/dask/core.py:121: RuntimeWarning: All-NaN slice encountered\n",
      "  return func(*(_execute_task(a, cache) for a in args))\n"
     ]
    },
    {
     "name": "stdout",
     "output_type": "stream",
     "text": [
      "893\n"
     ]
    },
    {
     "name": "stderr",
     "output_type": "stream",
     "text": [
      "/home/sbarc/students/nash/miniconda3/envs/hasia2/lib/python3.7/site-packages/dask/utils.py:35: RuntimeWarning: All-NaN slice encountered\n",
      "  return func(*args, **kwargs)\n",
      "/home/sbarc/students/nash/miniconda3/envs/hasia2/lib/python3.7/site-packages/dask/core.py:121: RuntimeWarning: All-NaN slice encountered\n",
      "  return func(*(_execute_task(a, cache) for a in args))\n"
     ]
    },
    {
     "name": "stdout",
     "output_type": "stream",
     "text": [
      "894\n",
      "895\n"
     ]
    },
    {
     "name": "stderr",
     "output_type": "stream",
     "text": [
      "/home/sbarc/students/nash/miniconda3/envs/hasia2/lib/python3.7/site-packages/dask/utils.py:35: RuntimeWarning: All-NaN slice encountered\n",
      "  return func(*args, **kwargs)\n",
      "/home/sbarc/students/nash/miniconda3/envs/hasia2/lib/python3.7/site-packages/dask/core.py:121: RuntimeWarning: All-NaN slice encountered\n",
      "  return func(*(_execute_task(a, cache) for a in args))\n"
     ]
    },
    {
     "name": "stdout",
     "output_type": "stream",
     "text": [
      "896\n"
     ]
    },
    {
     "name": "stderr",
     "output_type": "stream",
     "text": [
      "/home/sbarc/students/nash/miniconda3/envs/hasia2/lib/python3.7/site-packages/dask/utils.py:35: RuntimeWarning: All-NaN slice encountered\n",
      "  return func(*args, **kwargs)\n",
      "/home/sbarc/students/nash/miniconda3/envs/hasia2/lib/python3.7/site-packages/dask/core.py:121: RuntimeWarning: All-NaN slice encountered\n",
      "  return func(*(_execute_task(a, cache) for a in args))\n"
     ]
    },
    {
     "name": "stdout",
     "output_type": "stream",
     "text": [
      "897\n",
      "898\n",
      "899\n"
     ]
    },
    {
     "name": "stderr",
     "output_type": "stream",
     "text": [
      "/home/sbarc/students/nash/miniconda3/envs/hasia2/lib/python3.7/site-packages/dask/utils.py:35: RuntimeWarning: All-NaN slice encountered\n",
      "  return func(*args, **kwargs)\n",
      "/home/sbarc/students/nash/miniconda3/envs/hasia2/lib/python3.7/site-packages/dask/core.py:121: RuntimeWarning: All-NaN slice encountered\n",
      "  return func(*(_execute_task(a, cache) for a in args))\n"
     ]
    },
    {
     "name": "stdout",
     "output_type": "stream",
     "text": [
      "900\n",
      "901\n"
     ]
    },
    {
     "name": "stderr",
     "output_type": "stream",
     "text": [
      "/home/sbarc/students/nash/miniconda3/envs/hasia2/lib/python3.7/site-packages/dask/utils.py:35: RuntimeWarning: All-NaN slice encountered\n",
      "  return func(*args, **kwargs)\n",
      "/home/sbarc/students/nash/miniconda3/envs/hasia2/lib/python3.7/site-packages/dask/core.py:121: RuntimeWarning: All-NaN slice encountered\n",
      "  return func(*(_execute_task(a, cache) for a in args))\n"
     ]
    },
    {
     "name": "stdout",
     "output_type": "stream",
     "text": [
      "902\n"
     ]
    },
    {
     "name": "stderr",
     "output_type": "stream",
     "text": [
      "/home/sbarc/students/nash/miniconda3/envs/hasia2/lib/python3.7/site-packages/dask/utils.py:35: RuntimeWarning: All-NaN slice encountered\n",
      "  return func(*args, **kwargs)\n",
      "/home/sbarc/students/nash/miniconda3/envs/hasia2/lib/python3.7/site-packages/dask/core.py:121: RuntimeWarning: All-NaN slice encountered\n",
      "  return func(*(_execute_task(a, cache) for a in args))\n"
     ]
    },
    {
     "name": "stdout",
     "output_type": "stream",
     "text": [
      "903\n",
      "904\n"
     ]
    },
    {
     "name": "stderr",
     "output_type": "stream",
     "text": [
      "/home/sbarc/students/nash/miniconda3/envs/hasia2/lib/python3.7/site-packages/dask/utils.py:35: RuntimeWarning: All-NaN slice encountered\n",
      "  return func(*args, **kwargs)\n",
      "/home/sbarc/students/nash/miniconda3/envs/hasia2/lib/python3.7/site-packages/dask/core.py:121: RuntimeWarning: All-NaN slice encountered\n",
      "  return func(*(_execute_task(a, cache) for a in args))\n"
     ]
    },
    {
     "name": "stdout",
     "output_type": "stream",
     "text": [
      "905\n"
     ]
    },
    {
     "name": "stderr",
     "output_type": "stream",
     "text": [
      "/home/sbarc/students/nash/miniconda3/envs/hasia2/lib/python3.7/site-packages/dask/utils.py:35: RuntimeWarning: All-NaN slice encountered\n",
      "  return func(*args, **kwargs)\n",
      "/home/sbarc/students/nash/miniconda3/envs/hasia2/lib/python3.7/site-packages/dask/core.py:121: RuntimeWarning: All-NaN slice encountered\n",
      "  return func(*(_execute_task(a, cache) for a in args))\n"
     ]
    },
    {
     "name": "stdout",
     "output_type": "stream",
     "text": [
      "906\n"
     ]
    },
    {
     "name": "stderr",
     "output_type": "stream",
     "text": [
      "/home/sbarc/students/nash/miniconda3/envs/hasia2/lib/python3.7/site-packages/dask/utils.py:35: RuntimeWarning: All-NaN slice encountered\n",
      "  return func(*args, **kwargs)\n",
      "/home/sbarc/students/nash/miniconda3/envs/hasia2/lib/python3.7/site-packages/dask/core.py:121: RuntimeWarning: All-NaN slice encountered\n",
      "  return func(*(_execute_task(a, cache) for a in args))\n"
     ]
    },
    {
     "name": "stdout",
     "output_type": "stream",
     "text": [
      "907\n",
      "908\n",
      "909\n",
      "910\n",
      "911\n",
      "912\n",
      "913\n",
      "914\n",
      "915\n",
      "916\n",
      "917\n"
     ]
    },
    {
     "name": "stderr",
     "output_type": "stream",
     "text": [
      "/home/sbarc/students/nash/miniconda3/envs/hasia2/lib/python3.7/site-packages/dask/utils.py:35: RuntimeWarning: All-NaN slice encountered\n",
      "  return func(*args, **kwargs)\n",
      "/home/sbarc/students/nash/miniconda3/envs/hasia2/lib/python3.7/site-packages/dask/core.py:121: RuntimeWarning: All-NaN slice encountered\n",
      "  return func(*(_execute_task(a, cache) for a in args))\n"
     ]
    },
    {
     "name": "stdout",
     "output_type": "stream",
     "text": [
      "918\n"
     ]
    },
    {
     "name": "stderr",
     "output_type": "stream",
     "text": [
      "/home/sbarc/students/nash/miniconda3/envs/hasia2/lib/python3.7/site-packages/dask/utils.py:35: RuntimeWarning: All-NaN slice encountered\n",
      "  return func(*args, **kwargs)\n",
      "/home/sbarc/students/nash/miniconda3/envs/hasia2/lib/python3.7/site-packages/dask/core.py:121: RuntimeWarning: All-NaN slice encountered\n",
      "  return func(*(_execute_task(a, cache) for a in args))\n"
     ]
    },
    {
     "name": "stdout",
     "output_type": "stream",
     "text": [
      "919\n",
      "920\n",
      "921\n",
      "922\n"
     ]
    },
    {
     "name": "stderr",
     "output_type": "stream",
     "text": [
      "/home/sbarc/students/nash/miniconda3/envs/hasia2/lib/python3.7/site-packages/dask/utils.py:35: RuntimeWarning: All-NaN slice encountered\n",
      "  return func(*args, **kwargs)\n",
      "/home/sbarc/students/nash/miniconda3/envs/hasia2/lib/python3.7/site-packages/dask/core.py:121: RuntimeWarning: All-NaN slice encountered\n",
      "  return func(*(_execute_task(a, cache) for a in args))\n"
     ]
    },
    {
     "name": "stdout",
     "output_type": "stream",
     "text": [
      "923\n",
      "924\n"
     ]
    },
    {
     "name": "stderr",
     "output_type": "stream",
     "text": [
      "/home/sbarc/students/nash/miniconda3/envs/hasia2/lib/python3.7/site-packages/dask/utils.py:35: RuntimeWarning: All-NaN slice encountered\n",
      "  return func(*args, **kwargs)\n",
      "/home/sbarc/students/nash/miniconda3/envs/hasia2/lib/python3.7/site-packages/dask/core.py:121: RuntimeWarning: All-NaN slice encountered\n",
      "  return func(*(_execute_task(a, cache) for a in args))\n"
     ]
    },
    {
     "name": "stdout",
     "output_type": "stream",
     "text": [
      "925\n"
     ]
    },
    {
     "name": "stderr",
     "output_type": "stream",
     "text": [
      "/home/sbarc/students/nash/miniconda3/envs/hasia2/lib/python3.7/site-packages/dask/utils.py:35: RuntimeWarning: All-NaN slice encountered\n",
      "  return func(*args, **kwargs)\n",
      "/home/sbarc/students/nash/miniconda3/envs/hasia2/lib/python3.7/site-packages/dask/core.py:121: RuntimeWarning: All-NaN slice encountered\n",
      "  return func(*(_execute_task(a, cache) for a in args))\n"
     ]
    },
    {
     "name": "stdout",
     "output_type": "stream",
     "text": [
      "926\n"
     ]
    },
    {
     "name": "stderr",
     "output_type": "stream",
     "text": [
      "/home/sbarc/students/nash/miniconda3/envs/hasia2/lib/python3.7/site-packages/dask/utils.py:35: RuntimeWarning: All-NaN slice encountered\n",
      "  return func(*args, **kwargs)\n",
      "/home/sbarc/students/nash/miniconda3/envs/hasia2/lib/python3.7/site-packages/dask/core.py:121: RuntimeWarning: All-NaN slice encountered\n",
      "  return func(*(_execute_task(a, cache) for a in args))\n"
     ]
    },
    {
     "name": "stdout",
     "output_type": "stream",
     "text": [
      "927\n"
     ]
    },
    {
     "name": "stderr",
     "output_type": "stream",
     "text": [
      "/home/sbarc/students/nash/miniconda3/envs/hasia2/lib/python3.7/site-packages/dask/utils.py:35: RuntimeWarning: All-NaN slice encountered\n",
      "  return func(*args, **kwargs)\n",
      "/home/sbarc/students/nash/miniconda3/envs/hasia2/lib/python3.7/site-packages/dask/core.py:121: RuntimeWarning: All-NaN slice encountered\n",
      "  return func(*(_execute_task(a, cache) for a in args))\n"
     ]
    },
    {
     "name": "stdout",
     "output_type": "stream",
     "text": [
      "928\n"
     ]
    },
    {
     "name": "stderr",
     "output_type": "stream",
     "text": [
      "/home/sbarc/students/nash/miniconda3/envs/hasia2/lib/python3.7/site-packages/dask/utils.py:35: RuntimeWarning: All-NaN slice encountered\n",
      "  return func(*args, **kwargs)\n",
      "/home/sbarc/students/nash/miniconda3/envs/hasia2/lib/python3.7/site-packages/dask/core.py:121: RuntimeWarning: All-NaN slice encountered\n",
      "  return func(*(_execute_task(a, cache) for a in args))\n"
     ]
    },
    {
     "name": "stdout",
     "output_type": "stream",
     "text": [
      "929\n",
      "930\n",
      "931\n",
      "932\n"
     ]
    },
    {
     "name": "stderr",
     "output_type": "stream",
     "text": [
      "/home/sbarc/students/nash/miniconda3/envs/hasia2/lib/python3.7/site-packages/dask/utils.py:35: RuntimeWarning: All-NaN slice encountered\n",
      "  return func(*args, **kwargs)\n",
      "/home/sbarc/students/nash/miniconda3/envs/hasia2/lib/python3.7/site-packages/dask/core.py:121: RuntimeWarning: All-NaN slice encountered\n",
      "  return func(*(_execute_task(a, cache) for a in args))\n"
     ]
    },
    {
     "name": "stdout",
     "output_type": "stream",
     "text": [
      "933\n"
     ]
    },
    {
     "name": "stderr",
     "output_type": "stream",
     "text": [
      "/home/sbarc/students/nash/miniconda3/envs/hasia2/lib/python3.7/site-packages/dask/utils.py:35: RuntimeWarning: All-NaN slice encountered\n",
      "  return func(*args, **kwargs)\n",
      "/home/sbarc/students/nash/miniconda3/envs/hasia2/lib/python3.7/site-packages/dask/core.py:121: RuntimeWarning: All-NaN slice encountered\n",
      "  return func(*(_execute_task(a, cache) for a in args))\n"
     ]
    },
    {
     "name": "stdout",
     "output_type": "stream",
     "text": [
      "934\n"
     ]
    },
    {
     "name": "stderr",
     "output_type": "stream",
     "text": [
      "/home/sbarc/students/nash/miniconda3/envs/hasia2/lib/python3.7/site-packages/dask/utils.py:35: RuntimeWarning: All-NaN slice encountered\n",
      "  return func(*args, **kwargs)\n",
      "/home/sbarc/students/nash/miniconda3/envs/hasia2/lib/python3.7/site-packages/dask/core.py:121: RuntimeWarning: All-NaN slice encountered\n",
      "  return func(*(_execute_task(a, cache) for a in args))\n"
     ]
    },
    {
     "name": "stdout",
     "output_type": "stream",
     "text": [
      "935\n"
     ]
    },
    {
     "name": "stderr",
     "output_type": "stream",
     "text": [
      "/home/sbarc/students/nash/miniconda3/envs/hasia2/lib/python3.7/site-packages/dask/utils.py:35: RuntimeWarning: All-NaN slice encountered\n",
      "  return func(*args, **kwargs)\n",
      "/home/sbarc/students/nash/miniconda3/envs/hasia2/lib/python3.7/site-packages/dask/core.py:121: RuntimeWarning: All-NaN slice encountered\n",
      "  return func(*(_execute_task(a, cache) for a in args))\n"
     ]
    },
    {
     "name": "stdout",
     "output_type": "stream",
     "text": [
      "936\n"
     ]
    },
    {
     "name": "stderr",
     "output_type": "stream",
     "text": [
      "/home/sbarc/students/nash/miniconda3/envs/hasia2/lib/python3.7/site-packages/dask/utils.py:35: RuntimeWarning: All-NaN slice encountered\n",
      "  return func(*args, **kwargs)\n",
      "/home/sbarc/students/nash/miniconda3/envs/hasia2/lib/python3.7/site-packages/dask/core.py:121: RuntimeWarning: All-NaN slice encountered\n",
      "  return func(*(_execute_task(a, cache) for a in args))\n"
     ]
    },
    {
     "name": "stdout",
     "output_type": "stream",
     "text": [
      "937\n"
     ]
    },
    {
     "name": "stderr",
     "output_type": "stream",
     "text": [
      "/home/sbarc/students/nash/miniconda3/envs/hasia2/lib/python3.7/site-packages/dask/utils.py:35: RuntimeWarning: All-NaN slice encountered\n",
      "  return func(*args, **kwargs)\n",
      "/home/sbarc/students/nash/miniconda3/envs/hasia2/lib/python3.7/site-packages/dask/core.py:121: RuntimeWarning: All-NaN slice encountered\n",
      "  return func(*(_execute_task(a, cache) for a in args))\n"
     ]
    },
    {
     "name": "stdout",
     "output_type": "stream",
     "text": [
      "938\n"
     ]
    },
    {
     "name": "stderr",
     "output_type": "stream",
     "text": [
      "/home/sbarc/students/nash/miniconda3/envs/hasia2/lib/python3.7/site-packages/dask/utils.py:35: RuntimeWarning: All-NaN slice encountered\n",
      "  return func(*args, **kwargs)\n",
      "/home/sbarc/students/nash/miniconda3/envs/hasia2/lib/python3.7/site-packages/dask/core.py:121: RuntimeWarning: All-NaN slice encountered\n",
      "  return func(*(_execute_task(a, cache) for a in args))\n"
     ]
    },
    {
     "name": "stdout",
     "output_type": "stream",
     "text": [
      "939\n",
      "940\n",
      "941\n",
      "942\n",
      "943\n"
     ]
    },
    {
     "name": "stderr",
     "output_type": "stream",
     "text": [
      "/home/sbarc/students/nash/miniconda3/envs/hasia2/lib/python3.7/site-packages/dask/utils.py:35: RuntimeWarning: All-NaN slice encountered\n",
      "  return func(*args, **kwargs)\n",
      "/home/sbarc/students/nash/miniconda3/envs/hasia2/lib/python3.7/site-packages/dask/core.py:121: RuntimeWarning: All-NaN slice encountered\n",
      "  return func(*(_execute_task(a, cache) for a in args))\n"
     ]
    },
    {
     "name": "stdout",
     "output_type": "stream",
     "text": [
      "944\n"
     ]
    },
    {
     "name": "stderr",
     "output_type": "stream",
     "text": [
      "/home/sbarc/students/nash/miniconda3/envs/hasia2/lib/python3.7/site-packages/dask/utils.py:35: RuntimeWarning: All-NaN slice encountered\n",
      "  return func(*args, **kwargs)\n",
      "/home/sbarc/students/nash/miniconda3/envs/hasia2/lib/python3.7/site-packages/dask/core.py:121: RuntimeWarning: All-NaN slice encountered\n",
      "  return func(*(_execute_task(a, cache) for a in args))\n"
     ]
    },
    {
     "name": "stdout",
     "output_type": "stream",
     "text": [
      "945\n",
      "946\n"
     ]
    },
    {
     "name": "stderr",
     "output_type": "stream",
     "text": [
      "/home/sbarc/students/nash/miniconda3/envs/hasia2/lib/python3.7/site-packages/dask/utils.py:35: RuntimeWarning: All-NaN slice encountered\n",
      "  return func(*args, **kwargs)\n",
      "/home/sbarc/students/nash/miniconda3/envs/hasia2/lib/python3.7/site-packages/dask/core.py:121: RuntimeWarning: All-NaN slice encountered\n",
      "  return func(*(_execute_task(a, cache) for a in args))\n"
     ]
    },
    {
     "name": "stdout",
     "output_type": "stream",
     "text": [
      "947\n",
      "948\n",
      "949\n",
      "950\n"
     ]
    },
    {
     "name": "stderr",
     "output_type": "stream",
     "text": [
      "/home/sbarc/students/nash/miniconda3/envs/hasia2/lib/python3.7/site-packages/dask/utils.py:35: RuntimeWarning: All-NaN slice encountered\n",
      "  return func(*args, **kwargs)\n",
      "/home/sbarc/students/nash/miniconda3/envs/hasia2/lib/python3.7/site-packages/dask/core.py:121: RuntimeWarning: All-NaN slice encountered\n",
      "  return func(*(_execute_task(a, cache) for a in args))\n"
     ]
    },
    {
     "name": "stdout",
     "output_type": "stream",
     "text": [
      "951\n",
      "952\n"
     ]
    },
    {
     "name": "stderr",
     "output_type": "stream",
     "text": [
      "/home/sbarc/students/nash/miniconda3/envs/hasia2/lib/python3.7/site-packages/dask/utils.py:35: RuntimeWarning: All-NaN slice encountered\n",
      "  return func(*args, **kwargs)\n",
      "/home/sbarc/students/nash/miniconda3/envs/hasia2/lib/python3.7/site-packages/dask/core.py:121: RuntimeWarning: All-NaN slice encountered\n",
      "  return func(*(_execute_task(a, cache) for a in args))\n"
     ]
    },
    {
     "name": "stdout",
     "output_type": "stream",
     "text": [
      "953\n",
      "954\n",
      "955\n",
      "956\n",
      "957\n",
      "958\n",
      "959\n",
      "960\n",
      "961\n"
     ]
    },
    {
     "name": "stderr",
     "output_type": "stream",
     "text": [
      "/home/sbarc/students/nash/miniconda3/envs/hasia2/lib/python3.7/site-packages/dask/utils.py:35: RuntimeWarning: All-NaN slice encountered\n",
      "  return func(*args, **kwargs)\n",
      "/home/sbarc/students/nash/miniconda3/envs/hasia2/lib/python3.7/site-packages/dask/core.py:121: RuntimeWarning: All-NaN slice encountered\n",
      "  return func(*(_execute_task(a, cache) for a in args))\n"
     ]
    },
    {
     "name": "stdout",
     "output_type": "stream",
     "text": [
      "962\n",
      "963\n"
     ]
    },
    {
     "name": "stderr",
     "output_type": "stream",
     "text": [
      "/home/sbarc/students/nash/miniconda3/envs/hasia2/lib/python3.7/site-packages/dask/utils.py:35: RuntimeWarning: All-NaN slice encountered\n",
      "  return func(*args, **kwargs)\n",
      "/home/sbarc/students/nash/miniconda3/envs/hasia2/lib/python3.7/site-packages/dask/core.py:121: RuntimeWarning: All-NaN slice encountered\n",
      "  return func(*(_execute_task(a, cache) for a in args))\n"
     ]
    },
    {
     "name": "stdout",
     "output_type": "stream",
     "text": [
      "964\n"
     ]
    },
    {
     "name": "stderr",
     "output_type": "stream",
     "text": [
      "/home/sbarc/students/nash/miniconda3/envs/hasia2/lib/python3.7/site-packages/dask/utils.py:35: RuntimeWarning: All-NaN slice encountered\n",
      "  return func(*args, **kwargs)\n",
      "/home/sbarc/students/nash/miniconda3/envs/hasia2/lib/python3.7/site-packages/dask/core.py:121: RuntimeWarning: All-NaN slice encountered\n",
      "  return func(*(_execute_task(a, cache) for a in args))\n"
     ]
    },
    {
     "name": "stdout",
     "output_type": "stream",
     "text": [
      "965\n"
     ]
    },
    {
     "name": "stderr",
     "output_type": "stream",
     "text": [
      "/home/sbarc/students/nash/miniconda3/envs/hasia2/lib/python3.7/site-packages/dask/utils.py:35: RuntimeWarning: All-NaN slice encountered\n",
      "  return func(*args, **kwargs)\n",
      "/home/sbarc/students/nash/miniconda3/envs/hasia2/lib/python3.7/site-packages/dask/core.py:121: RuntimeWarning: All-NaN slice encountered\n",
      "  return func(*(_execute_task(a, cache) for a in args))\n"
     ]
    },
    {
     "name": "stdout",
     "output_type": "stream",
     "text": [
      "966\n"
     ]
    },
    {
     "name": "stderr",
     "output_type": "stream",
     "text": [
      "/home/sbarc/students/nash/miniconda3/envs/hasia2/lib/python3.7/site-packages/dask/utils.py:35: RuntimeWarning: All-NaN slice encountered\n",
      "  return func(*args, **kwargs)\n",
      "/home/sbarc/students/nash/miniconda3/envs/hasia2/lib/python3.7/site-packages/dask/core.py:121: RuntimeWarning: All-NaN slice encountered\n",
      "  return func(*(_execute_task(a, cache) for a in args))\n"
     ]
    },
    {
     "name": "stdout",
     "output_type": "stream",
     "text": [
      "967\n"
     ]
    },
    {
     "name": "stderr",
     "output_type": "stream",
     "text": [
      "/home/sbarc/students/nash/miniconda3/envs/hasia2/lib/python3.7/site-packages/dask/utils.py:35: RuntimeWarning: All-NaN slice encountered\n",
      "  return func(*args, **kwargs)\n",
      "/home/sbarc/students/nash/miniconda3/envs/hasia2/lib/python3.7/site-packages/dask/core.py:121: RuntimeWarning: All-NaN slice encountered\n",
      "  return func(*(_execute_task(a, cache) for a in args))\n"
     ]
    },
    {
     "name": "stdout",
     "output_type": "stream",
     "text": [
      "968\n",
      "969\n"
     ]
    },
    {
     "name": "stderr",
     "output_type": "stream",
     "text": [
      "/home/sbarc/students/nash/miniconda3/envs/hasia2/lib/python3.7/site-packages/dask/utils.py:35: RuntimeWarning: All-NaN slice encountered\n",
      "  return func(*args, **kwargs)\n",
      "/home/sbarc/students/nash/miniconda3/envs/hasia2/lib/python3.7/site-packages/dask/core.py:121: RuntimeWarning: All-NaN slice encountered\n",
      "  return func(*(_execute_task(a, cache) for a in args))\n"
     ]
    },
    {
     "name": "stdout",
     "output_type": "stream",
     "text": [
      "970\n"
     ]
    },
    {
     "name": "stderr",
     "output_type": "stream",
     "text": [
      "/home/sbarc/students/nash/miniconda3/envs/hasia2/lib/python3.7/site-packages/dask/utils.py:35: RuntimeWarning: All-NaN slice encountered\n",
      "  return func(*args, **kwargs)\n",
      "/home/sbarc/students/nash/miniconda3/envs/hasia2/lib/python3.7/site-packages/dask/core.py:121: RuntimeWarning: All-NaN slice encountered\n",
      "  return func(*(_execute_task(a, cache) for a in args))\n"
     ]
    },
    {
     "name": "stdout",
     "output_type": "stream",
     "text": [
      "971\n"
     ]
    },
    {
     "name": "stderr",
     "output_type": "stream",
     "text": [
      "/home/sbarc/students/nash/miniconda3/envs/hasia2/lib/python3.7/site-packages/dask/utils.py:35: RuntimeWarning: All-NaN slice encountered\n",
      "  return func(*args, **kwargs)\n",
      "/home/sbarc/students/nash/miniconda3/envs/hasia2/lib/python3.7/site-packages/dask/core.py:121: RuntimeWarning: All-NaN slice encountered\n",
      "  return func(*(_execute_task(a, cache) for a in args))\n"
     ]
    },
    {
     "name": "stdout",
     "output_type": "stream",
     "text": [
      "972\n"
     ]
    },
    {
     "name": "stderr",
     "output_type": "stream",
     "text": [
      "/home/sbarc/students/nash/miniconda3/envs/hasia2/lib/python3.7/site-packages/dask/utils.py:35: RuntimeWarning: All-NaN slice encountered\n",
      "  return func(*args, **kwargs)\n",
      "/home/sbarc/students/nash/miniconda3/envs/hasia2/lib/python3.7/site-packages/dask/core.py:121: RuntimeWarning: All-NaN slice encountered\n",
      "  return func(*(_execute_task(a, cache) for a in args))\n"
     ]
    },
    {
     "name": "stdout",
     "output_type": "stream",
     "text": [
      "973\n",
      "974\n",
      "975\n"
     ]
    },
    {
     "name": "stderr",
     "output_type": "stream",
     "text": [
      "/home/sbarc/students/nash/miniconda3/envs/hasia2/lib/python3.7/site-packages/dask/utils.py:35: RuntimeWarning: All-NaN slice encountered\n",
      "  return func(*args, **kwargs)\n",
      "/home/sbarc/students/nash/miniconda3/envs/hasia2/lib/python3.7/site-packages/dask/core.py:121: RuntimeWarning: All-NaN slice encountered\n",
      "  return func(*(_execute_task(a, cache) for a in args))\n"
     ]
    },
    {
     "name": "stdout",
     "output_type": "stream",
     "text": [
      "976\n"
     ]
    },
    {
     "name": "stderr",
     "output_type": "stream",
     "text": [
      "/home/sbarc/students/nash/miniconda3/envs/hasia2/lib/python3.7/site-packages/dask/utils.py:35: RuntimeWarning: All-NaN slice encountered\n",
      "  return func(*args, **kwargs)\n",
      "/home/sbarc/students/nash/miniconda3/envs/hasia2/lib/python3.7/site-packages/dask/core.py:121: RuntimeWarning: All-NaN slice encountered\n",
      "  return func(*(_execute_task(a, cache) for a in args))\n"
     ]
    },
    {
     "name": "stdout",
     "output_type": "stream",
     "text": [
      "977\n"
     ]
    },
    {
     "name": "stderr",
     "output_type": "stream",
     "text": [
      "/home/sbarc/students/nash/miniconda3/envs/hasia2/lib/python3.7/site-packages/dask/utils.py:35: RuntimeWarning: All-NaN slice encountered\n",
      "  return func(*args, **kwargs)\n",
      "/home/sbarc/students/nash/miniconda3/envs/hasia2/lib/python3.7/site-packages/dask/core.py:121: RuntimeWarning: All-NaN slice encountered\n",
      "  return func(*(_execute_task(a, cache) for a in args))\n"
     ]
    },
    {
     "name": "stdout",
     "output_type": "stream",
     "text": [
      "978\n",
      "979\n",
      "980\n"
     ]
    },
    {
     "name": "stderr",
     "output_type": "stream",
     "text": [
      "/home/sbarc/students/nash/miniconda3/envs/hasia2/lib/python3.7/site-packages/dask/utils.py:35: RuntimeWarning: All-NaN slice encountered\n",
      "  return func(*args, **kwargs)\n",
      "/home/sbarc/students/nash/miniconda3/envs/hasia2/lib/python3.7/site-packages/dask/core.py:121: RuntimeWarning: All-NaN slice encountered\n",
      "  return func(*(_execute_task(a, cache) for a in args))\n"
     ]
    },
    {
     "name": "stdout",
     "output_type": "stream",
     "text": [
      "981\n"
     ]
    },
    {
     "name": "stderr",
     "output_type": "stream",
     "text": [
      "/home/sbarc/students/nash/miniconda3/envs/hasia2/lib/python3.7/site-packages/dask/utils.py:35: RuntimeWarning: All-NaN slice encountered\n",
      "  return func(*args, **kwargs)\n",
      "/home/sbarc/students/nash/miniconda3/envs/hasia2/lib/python3.7/site-packages/dask/core.py:121: RuntimeWarning: All-NaN slice encountered\n",
      "  return func(*(_execute_task(a, cache) for a in args))\n"
     ]
    },
    {
     "name": "stdout",
     "output_type": "stream",
     "text": [
      "982\n",
      "983\n",
      "984\n",
      "985\n"
     ]
    },
    {
     "name": "stderr",
     "output_type": "stream",
     "text": [
      "/home/sbarc/students/nash/miniconda3/envs/hasia2/lib/python3.7/site-packages/dask/utils.py:35: RuntimeWarning: All-NaN slice encountered\n",
      "  return func(*args, **kwargs)\n",
      "/home/sbarc/students/nash/miniconda3/envs/hasia2/lib/python3.7/site-packages/dask/core.py:121: RuntimeWarning: All-NaN slice encountered\n",
      "  return func(*(_execute_task(a, cache) for a in args))\n"
     ]
    },
    {
     "name": "stdout",
     "output_type": "stream",
     "text": [
      "986\n",
      "987\n",
      "CPU times: user 37min 40s, sys: 1h 38min 52s, total: 2h 16min 32s\n",
      "Wall time: 2h 22min 59s\n"
     ]
    }
   ],
   "source": [
    "%%time\n",
    "## For each row, calculate the maximum IVT within the region between start and end\n",
    "prec_final = ar_precip(merged_data, prec, domains, 'max-total')\n",
    "\n"
   ]
  },
  {
   "cell_type": "code",
   "execution_count": 61,
   "metadata": {},
   "outputs": [
    {
     "data": {
      "text/html": [
       "<div>\n",
       "<style scoped>\n",
       "    .dataframe tbody tr th:only-of-type {\n",
       "        vertical-align: middle;\n",
       "    }\n",
       "\n",
       "    .dataframe tbody tr th {\n",
       "        vertical-align: top;\n",
       "    }\n",
       "\n",
       "    .dataframe thead th {\n",
       "        text-align: right;\n",
       "    }\n",
       "</style>\n",
       "<table border=\"1\" class=\"dataframe\">\n",
       "  <thead>\n",
       "    <tr style=\"text-align: right;\">\n",
       "      <th></th>\n",
       "      <th>trackID</th>\n",
       "      <th>ar_cat</th>\n",
       "      <th>start_date</th>\n",
       "      <th>end_date</th>\n",
       "      <th>duration</th>\n",
       "      <th>landslideID</th>\n",
       "      <th>landslide_lat</th>\n",
       "      <th>landslide_lon</th>\n",
       "      <th>prec</th>\n",
       "      <th>ivt</th>\n",
       "      <th>ivtdir</th>\n",
       "    </tr>\n",
       "  </thead>\n",
       "  <tbody>\n",
       "    <tr>\n",
       "      <th>0</th>\n",
       "      <td>2861.0</td>\n",
       "      <td>1.0</td>\n",
       "      <td>1979-12-02 00:00:00</td>\n",
       "      <td>1979-12-02 18:00:00</td>\n",
       "      <td>18.0</td>\n",
       "      <td>NaN</td>\n",
       "      <td>NaN</td>\n",
       "      <td>NaN</td>\n",
       "      <td>13.718994</td>\n",
       "      <td>152.087860</td>\n",
       "      <td>224.91021331187994 degree</td>\n",
       "    </tr>\n",
       "    <tr>\n",
       "      <th>1</th>\n",
       "      <td>2861.0</td>\n",
       "      <td>2.0</td>\n",
       "      <td>1979-12-01 00:00:00</td>\n",
       "      <td>1979-12-02 00:00:00</td>\n",
       "      <td>24.0</td>\n",
       "      <td>NaN</td>\n",
       "      <td>NaN</td>\n",
       "      <td>NaN</td>\n",
       "      <td>17.533569</td>\n",
       "      <td>245.002441</td>\n",
       "      <td>220.23760859065467 degree</td>\n",
       "    </tr>\n",
       "    <tr>\n",
       "      <th>2</th>\n",
       "      <td>2871.0</td>\n",
       "      <td>1.0</td>\n",
       "      <td>1979-12-09 06:00:00</td>\n",
       "      <td>1979-12-09 18:00:00</td>\n",
       "      <td>12.0</td>\n",
       "      <td>NaN</td>\n",
       "      <td>NaN</td>\n",
       "      <td>NaN</td>\n",
       "      <td>5.676636</td>\n",
       "      <td>108.576300</td>\n",
       "      <td>231.68037841051355 degree</td>\n",
       "    </tr>\n",
       "    <tr>\n",
       "      <th>3</th>\n",
       "      <td>2871.0</td>\n",
       "      <td>2.0</td>\n",
       "      <td>1979-12-08 06:00:00</td>\n",
       "      <td>1979-12-09 00:00:00</td>\n",
       "      <td>18.0</td>\n",
       "      <td>NaN</td>\n",
       "      <td>NaN</td>\n",
       "      <td>NaN</td>\n",
       "      <td>8.985474</td>\n",
       "      <td>149.770879</td>\n",
       "      <td>237.0652245325259 degree</td>\n",
       "    </tr>\n",
       "    <tr>\n",
       "      <th>4</th>\n",
       "      <td>2975.0</td>\n",
       "      <td>1.0</td>\n",
       "      <td>1979-12-16 12:00:00</td>\n",
       "      <td>1979-12-17 00:00:00</td>\n",
       "      <td>12.0</td>\n",
       "      <td>NaN</td>\n",
       "      <td>NaN</td>\n",
       "      <td>NaN</td>\n",
       "      <td>NaN</td>\n",
       "      <td>69.228194</td>\n",
       "      <td>270.4320425315212 degree</td>\n",
       "    </tr>\n",
       "    <tr>\n",
       "      <th>...</th>\n",
       "      <td>...</td>\n",
       "      <td>...</td>\n",
       "      <td>...</td>\n",
       "      <td>...</td>\n",
       "      <td>...</td>\n",
       "      <td>...</td>\n",
       "      <td>...</td>\n",
       "      <td>...</td>\n",
       "      <td>...</td>\n",
       "      <td>...</td>\n",
       "      <td>...</td>\n",
       "    </tr>\n",
       "    <tr>\n",
       "      <th>983</th>\n",
       "      <td>114196.0</td>\n",
       "      <td>3.0</td>\n",
       "      <td>2014-12-31 18:00:00</td>\n",
       "      <td>2015-01-03 12:00:00</td>\n",
       "      <td>66.0</td>\n",
       "      <td>NaN</td>\n",
       "      <td>NaN</td>\n",
       "      <td>NaN</td>\n",
       "      <td>4.890137</td>\n",
       "      <td>340.884138</td>\n",
       "      <td>240.43672607892813 degree</td>\n",
       "    </tr>\n",
       "    <tr>\n",
       "      <th>984</th>\n",
       "      <td>114217.0</td>\n",
       "      <td>3.0</td>\n",
       "      <td>2015-01-03 18:00:00</td>\n",
       "      <td>2015-01-04 00:00:00</td>\n",
       "      <td>6.0</td>\n",
       "      <td>NaN</td>\n",
       "      <td>NaN</td>\n",
       "      <td>NaN</td>\n",
       "      <td>4.515137</td>\n",
       "      <td>375.217412</td>\n",
       "      <td>250.3772879757895 degree</td>\n",
       "    </tr>\n",
       "    <tr>\n",
       "      <th>985</th>\n",
       "      <td>114363.0</td>\n",
       "      <td>3.0</td>\n",
       "      <td>2015-01-21 06:00:00</td>\n",
       "      <td>2015-01-22 06:00:00</td>\n",
       "      <td>24.0</td>\n",
       "      <td>NaN</td>\n",
       "      <td>NaN</td>\n",
       "      <td>NaN</td>\n",
       "      <td>NaN</td>\n",
       "      <td>61.715181</td>\n",
       "      <td>188.15285286031184 degree</td>\n",
       "    </tr>\n",
       "    <tr>\n",
       "      <th>986</th>\n",
       "      <td>114402.0</td>\n",
       "      <td>3.0</td>\n",
       "      <td>2015-01-29 12:00:00</td>\n",
       "      <td>2015-01-30 18:00:00</td>\n",
       "      <td>30.0</td>\n",
       "      <td>NaN</td>\n",
       "      <td>NaN</td>\n",
       "      <td>NaN</td>\n",
       "      <td>48.576172</td>\n",
       "      <td>265.416884</td>\n",
       "      <td>277.25970342681023 degree</td>\n",
       "    </tr>\n",
       "    <tr>\n",
       "      <th>987</th>\n",
       "      <td>114668.0</td>\n",
       "      <td>3.0</td>\n",
       "      <td>2015-02-27 12:00:00</td>\n",
       "      <td>2015-02-27 18:00:00</td>\n",
       "      <td>6.0</td>\n",
       "      <td>NaN</td>\n",
       "      <td>NaN</td>\n",
       "      <td>NaN</td>\n",
       "      <td>22.015625</td>\n",
       "      <td>261.823649</td>\n",
       "      <td>250.22261957816355 degree</td>\n",
       "    </tr>\n",
       "  </tbody>\n",
       "</table>\n",
       "<p>988 rows × 11 columns</p>\n",
       "</div>"
      ],
      "text/plain": [
       "      trackID  ar_cat          start_date            end_date  duration  \\\n",
       "0      2861.0     1.0 1979-12-02 00:00:00 1979-12-02 18:00:00      18.0   \n",
       "1      2861.0     2.0 1979-12-01 00:00:00 1979-12-02 00:00:00      24.0   \n",
       "2      2871.0     1.0 1979-12-09 06:00:00 1979-12-09 18:00:00      12.0   \n",
       "3      2871.0     2.0 1979-12-08 06:00:00 1979-12-09 00:00:00      18.0   \n",
       "4      2975.0     1.0 1979-12-16 12:00:00 1979-12-17 00:00:00      12.0   \n",
       "..        ...     ...                 ...                 ...       ...   \n",
       "983  114196.0     3.0 2014-12-31 18:00:00 2015-01-03 12:00:00      66.0   \n",
       "984  114217.0     3.0 2015-01-03 18:00:00 2015-01-04 00:00:00       6.0   \n",
       "985  114363.0     3.0 2015-01-21 06:00:00 2015-01-22 06:00:00      24.0   \n",
       "986  114402.0     3.0 2015-01-29 12:00:00 2015-01-30 18:00:00      30.0   \n",
       "987  114668.0     3.0 2015-02-27 12:00:00 2015-02-27 18:00:00       6.0   \n",
       "\n",
       "     landslideID  landslide_lat  landslide_lon       prec         ivt  \\\n",
       "0            NaN            NaN            NaN  13.718994  152.087860   \n",
       "1            NaN            NaN            NaN  17.533569  245.002441   \n",
       "2            NaN            NaN            NaN   5.676636  108.576300   \n",
       "3            NaN            NaN            NaN   8.985474  149.770879   \n",
       "4            NaN            NaN            NaN        NaN   69.228194   \n",
       "..           ...            ...            ...        ...         ...   \n",
       "983          NaN            NaN            NaN   4.890137  340.884138   \n",
       "984          NaN            NaN            NaN   4.515137  375.217412   \n",
       "985          NaN            NaN            NaN        NaN   61.715181   \n",
       "986          NaN            NaN            NaN  48.576172  265.416884   \n",
       "987          NaN            NaN            NaN  22.015625  261.823649   \n",
       "\n",
       "                        ivtdir  \n",
       "0    224.91021331187994 degree  \n",
       "1    220.23760859065467 degree  \n",
       "2    231.68037841051355 degree  \n",
       "3     237.0652245325259 degree  \n",
       "4     270.4320425315212 degree  \n",
       "..                         ...  \n",
       "983  240.43672607892813 degree  \n",
       "984   250.3772879757895 degree  \n",
       "985  188.15285286031184 degree  \n",
       "986  277.25970342681023 degree  \n",
       "987  250.22261957816355 degree  \n",
       "\n",
       "[988 rows x 11 columns]"
      ]
     },
     "execution_count": 61,
     "metadata": {},
     "output_type": "execute_result"
    }
   ],
   "source": [
    "merged_data['prec'] = prec_final\n",
    "\n",
    "# # Export dataframe as csv\n",
    "# outfile = path_to_out + 'IVTDIR_IVT_prec.csv'     \n",
    "# merged_data.to_csv(outfile)"
   ]
  },
  {
   "cell_type": "code",
   "execution_count": 66,
   "metadata": {},
   "outputs": [
    {
     "name": "stdout",
     "output_type": "stream",
     "text": [
      "/home/nash/DATA/data/wrf_hasia/d01/zerodegisotherm/daily/out.wrf6km.zerodegisotherm.daily_*.nc\n",
      "CPU times: user 480 ms, sys: 41.3 ms, total: 521 ms\n",
      "Wall time: 518 ms\n"
     ]
    },
    {
     "data": {
      "text/html": [
       "<div><svg style=\"position: absolute; width: 0; height: 0; overflow: hidden\">\n",
       "<defs>\n",
       "<symbol id=\"icon-database\" viewBox=\"0 0 32 32\">\n",
       "<path d=\"M16 0c-8.837 0-16 2.239-16 5v4c0 2.761 7.163 5 16 5s16-2.239 16-5v-4c0-2.761-7.163-5-16-5z\"></path>\n",
       "<path d=\"M16 17c-8.837 0-16-2.239-16-5v6c0 2.761 7.163 5 16 5s16-2.239 16-5v-6c0 2.761-7.163 5-16 5z\"></path>\n",
       "<path d=\"M16 26c-8.837 0-16-2.239-16-5v6c0 2.761 7.163 5 16 5s16-2.239 16-5v-6c0 2.761-7.163 5-16 5z\"></path>\n",
       "</symbol>\n",
       "<symbol id=\"icon-file-text2\" viewBox=\"0 0 32 32\">\n",
       "<path d=\"M28.681 7.159c-0.694-0.947-1.662-2.053-2.724-3.116s-2.169-2.030-3.116-2.724c-1.612-1.182-2.393-1.319-2.841-1.319h-15.5c-1.378 0-2.5 1.121-2.5 2.5v27c0 1.378 1.122 2.5 2.5 2.5h23c1.378 0 2.5-1.122 2.5-2.5v-19.5c0-0.448-0.137-1.23-1.319-2.841zM24.543 5.457c0.959 0.959 1.712 1.825 2.268 2.543h-4.811v-4.811c0.718 0.556 1.584 1.309 2.543 2.268zM28 29.5c0 0.271-0.229 0.5-0.5 0.5h-23c-0.271 0-0.5-0.229-0.5-0.5v-27c0-0.271 0.229-0.5 0.5-0.5 0 0 15.499-0 15.5 0v7c0 0.552 0.448 1 1 1h7v19.5z\"></path>\n",
       "<path d=\"M23 26h-14c-0.552 0-1-0.448-1-1s0.448-1 1-1h14c0.552 0 1 0.448 1 1s-0.448 1-1 1z\"></path>\n",
       "<path d=\"M23 22h-14c-0.552 0-1-0.448-1-1s0.448-1 1-1h14c0.552 0 1 0.448 1 1s-0.448 1-1 1z\"></path>\n",
       "<path d=\"M23 18h-14c-0.552 0-1-0.448-1-1s0.448-1 1-1h14c0.552 0 1 0.448 1 1s-0.448 1-1 1z\"></path>\n",
       "</symbol>\n",
       "</defs>\n",
       "</svg>\n",
       "<style>/* CSS stylesheet for displaying xarray objects in jupyterlab.\n",
       " *\n",
       " */\n",
       "\n",
       ":root {\n",
       "  --xr-font-color0: var(--jp-content-font-color0, rgba(0, 0, 0, 1));\n",
       "  --xr-font-color2: var(--jp-content-font-color2, rgba(0, 0, 0, 0.54));\n",
       "  --xr-font-color3: var(--jp-content-font-color3, rgba(0, 0, 0, 0.38));\n",
       "  --xr-border-color: var(--jp-border-color2, #e0e0e0);\n",
       "  --xr-disabled-color: var(--jp-layout-color3, #bdbdbd);\n",
       "  --xr-background-color: var(--jp-layout-color0, white);\n",
       "  --xr-background-color-row-even: var(--jp-layout-color1, white);\n",
       "  --xr-background-color-row-odd: var(--jp-layout-color2, #eeeeee);\n",
       "}\n",
       "\n",
       "html[theme=dark],\n",
       "body.vscode-dark {\n",
       "  --xr-font-color0: rgba(255, 255, 255, 1);\n",
       "  --xr-font-color2: rgba(255, 255, 255, 0.54);\n",
       "  --xr-font-color3: rgba(255, 255, 255, 0.38);\n",
       "  --xr-border-color: #1F1F1F;\n",
       "  --xr-disabled-color: #515151;\n",
       "  --xr-background-color: #111111;\n",
       "  --xr-background-color-row-even: #111111;\n",
       "  --xr-background-color-row-odd: #313131;\n",
       "}\n",
       "\n",
       ".xr-wrap {\n",
       "  display: block !important;\n",
       "  min-width: 300px;\n",
       "  max-width: 700px;\n",
       "}\n",
       "\n",
       ".xr-text-repr-fallback {\n",
       "  /* fallback to plain text repr when CSS is not injected (untrusted notebook) */\n",
       "  display: none;\n",
       "}\n",
       "\n",
       ".xr-header {\n",
       "  padding-top: 6px;\n",
       "  padding-bottom: 6px;\n",
       "  margin-bottom: 4px;\n",
       "  border-bottom: solid 1px var(--xr-border-color);\n",
       "}\n",
       "\n",
       ".xr-header > div,\n",
       ".xr-header > ul {\n",
       "  display: inline;\n",
       "  margin-top: 0;\n",
       "  margin-bottom: 0;\n",
       "}\n",
       "\n",
       ".xr-obj-type,\n",
       ".xr-array-name {\n",
       "  margin-left: 2px;\n",
       "  margin-right: 10px;\n",
       "}\n",
       "\n",
       ".xr-obj-type {\n",
       "  color: var(--xr-font-color2);\n",
       "}\n",
       "\n",
       ".xr-sections {\n",
       "  padding-left: 0 !important;\n",
       "  display: grid;\n",
       "  grid-template-columns: 150px auto auto 1fr 20px 20px;\n",
       "}\n",
       "\n",
       ".xr-section-item {\n",
       "  display: contents;\n",
       "}\n",
       "\n",
       ".xr-section-item input {\n",
       "  display: none;\n",
       "}\n",
       "\n",
       ".xr-section-item input + label {\n",
       "  color: var(--xr-disabled-color);\n",
       "}\n",
       "\n",
       ".xr-section-item input:enabled + label {\n",
       "  cursor: pointer;\n",
       "  color: var(--xr-font-color2);\n",
       "}\n",
       "\n",
       ".xr-section-item input:enabled + label:hover {\n",
       "  color: var(--xr-font-color0);\n",
       "}\n",
       "\n",
       ".xr-section-summary {\n",
       "  grid-column: 1;\n",
       "  color: var(--xr-font-color2);\n",
       "  font-weight: 500;\n",
       "}\n",
       "\n",
       ".xr-section-summary > span {\n",
       "  display: inline-block;\n",
       "  padding-left: 0.5em;\n",
       "}\n",
       "\n",
       ".xr-section-summary-in:disabled + label {\n",
       "  color: var(--xr-font-color2);\n",
       "}\n",
       "\n",
       ".xr-section-summary-in + label:before {\n",
       "  display: inline-block;\n",
       "  content: '►';\n",
       "  font-size: 11px;\n",
       "  width: 15px;\n",
       "  text-align: center;\n",
       "}\n",
       "\n",
       ".xr-section-summary-in:disabled + label:before {\n",
       "  color: var(--xr-disabled-color);\n",
       "}\n",
       "\n",
       ".xr-section-summary-in:checked + label:before {\n",
       "  content: '▼';\n",
       "}\n",
       "\n",
       ".xr-section-summary-in:checked + label > span {\n",
       "  display: none;\n",
       "}\n",
       "\n",
       ".xr-section-summary,\n",
       ".xr-section-inline-details {\n",
       "  padding-top: 4px;\n",
       "  padding-bottom: 4px;\n",
       "}\n",
       "\n",
       ".xr-section-inline-details {\n",
       "  grid-column: 2 / -1;\n",
       "}\n",
       "\n",
       ".xr-section-details {\n",
       "  display: none;\n",
       "  grid-column: 1 / -1;\n",
       "  margin-bottom: 5px;\n",
       "}\n",
       "\n",
       ".xr-section-summary-in:checked ~ .xr-section-details {\n",
       "  display: contents;\n",
       "}\n",
       "\n",
       ".xr-array-wrap {\n",
       "  grid-column: 1 / -1;\n",
       "  display: grid;\n",
       "  grid-template-columns: 20px auto;\n",
       "}\n",
       "\n",
       ".xr-array-wrap > label {\n",
       "  grid-column: 1;\n",
       "  vertical-align: top;\n",
       "}\n",
       "\n",
       ".xr-preview {\n",
       "  color: var(--xr-font-color3);\n",
       "}\n",
       "\n",
       ".xr-array-preview,\n",
       ".xr-array-data {\n",
       "  padding: 0 5px !important;\n",
       "  grid-column: 2;\n",
       "}\n",
       "\n",
       ".xr-array-data,\n",
       ".xr-array-in:checked ~ .xr-array-preview {\n",
       "  display: none;\n",
       "}\n",
       "\n",
       ".xr-array-in:checked ~ .xr-array-data,\n",
       ".xr-array-preview {\n",
       "  display: inline-block;\n",
       "}\n",
       "\n",
       ".xr-dim-list {\n",
       "  display: inline-block !important;\n",
       "  list-style: none;\n",
       "  padding: 0 !important;\n",
       "  margin: 0;\n",
       "}\n",
       "\n",
       ".xr-dim-list li {\n",
       "  display: inline-block;\n",
       "  padding: 0;\n",
       "  margin: 0;\n",
       "}\n",
       "\n",
       ".xr-dim-list:before {\n",
       "  content: '(';\n",
       "}\n",
       "\n",
       ".xr-dim-list:after {\n",
       "  content: ')';\n",
       "}\n",
       "\n",
       ".xr-dim-list li:not(:last-child):after {\n",
       "  content: ',';\n",
       "  padding-right: 5px;\n",
       "}\n",
       "\n",
       ".xr-has-index {\n",
       "  font-weight: bold;\n",
       "}\n",
       "\n",
       ".xr-var-list,\n",
       ".xr-var-item {\n",
       "  display: contents;\n",
       "}\n",
       "\n",
       ".xr-var-item > div,\n",
       ".xr-var-item label,\n",
       ".xr-var-item > .xr-var-name span {\n",
       "  background-color: var(--xr-background-color-row-even);\n",
       "  margin-bottom: 0;\n",
       "}\n",
       "\n",
       ".xr-var-item > .xr-var-name:hover span {\n",
       "  padding-right: 5px;\n",
       "}\n",
       "\n",
       ".xr-var-list > li:nth-child(odd) > div,\n",
       ".xr-var-list > li:nth-child(odd) > label,\n",
       ".xr-var-list > li:nth-child(odd) > .xr-var-name span {\n",
       "  background-color: var(--xr-background-color-row-odd);\n",
       "}\n",
       "\n",
       ".xr-var-name {\n",
       "  grid-column: 1;\n",
       "}\n",
       "\n",
       ".xr-var-dims {\n",
       "  grid-column: 2;\n",
       "}\n",
       "\n",
       ".xr-var-dtype {\n",
       "  grid-column: 3;\n",
       "  text-align: right;\n",
       "  color: var(--xr-font-color2);\n",
       "}\n",
       "\n",
       ".xr-var-preview {\n",
       "  grid-column: 4;\n",
       "}\n",
       "\n",
       ".xr-var-name,\n",
       ".xr-var-dims,\n",
       ".xr-var-dtype,\n",
       ".xr-preview,\n",
       ".xr-attrs dt {\n",
       "  white-space: nowrap;\n",
       "  overflow: hidden;\n",
       "  text-overflow: ellipsis;\n",
       "  padding-right: 10px;\n",
       "}\n",
       "\n",
       ".xr-var-name:hover,\n",
       ".xr-var-dims:hover,\n",
       ".xr-var-dtype:hover,\n",
       ".xr-attrs dt:hover {\n",
       "  overflow: visible;\n",
       "  width: auto;\n",
       "  z-index: 1;\n",
       "}\n",
       "\n",
       ".xr-var-attrs,\n",
       ".xr-var-data {\n",
       "  display: none;\n",
       "  background-color: var(--xr-background-color) !important;\n",
       "  padding-bottom: 5px !important;\n",
       "}\n",
       "\n",
       ".xr-var-attrs-in:checked ~ .xr-var-attrs,\n",
       ".xr-var-data-in:checked ~ .xr-var-data {\n",
       "  display: block;\n",
       "}\n",
       "\n",
       ".xr-var-data > table {\n",
       "  float: right;\n",
       "}\n",
       "\n",
       ".xr-var-name span,\n",
       ".xr-var-data,\n",
       ".xr-attrs {\n",
       "  padding-left: 25px !important;\n",
       "}\n",
       "\n",
       ".xr-attrs,\n",
       ".xr-var-attrs,\n",
       ".xr-var-data {\n",
       "  grid-column: 1 / -1;\n",
       "}\n",
       "\n",
       "dl.xr-attrs {\n",
       "  padding: 0;\n",
       "  margin: 0;\n",
       "  display: grid;\n",
       "  grid-template-columns: 125px auto;\n",
       "}\n",
       "\n",
       ".xr-attrs dt,\n",
       ".xr-attrs dd {\n",
       "  padding: 0;\n",
       "  margin: 0;\n",
       "  float: left;\n",
       "  padding-right: 10px;\n",
       "  width: auto;\n",
       "}\n",
       "\n",
       ".xr-attrs dt {\n",
       "  font-weight: normal;\n",
       "  grid-column: 1;\n",
       "}\n",
       "\n",
       ".xr-attrs dt:hover span {\n",
       "  display: inline-block;\n",
       "  background: var(--xr-background-color);\n",
       "  padding-right: 10px;\n",
       "}\n",
       "\n",
       ".xr-attrs dd {\n",
       "  grid-column: 2;\n",
       "  white-space: pre-wrap;\n",
       "  word-break: break-all;\n",
       "}\n",
       "\n",
       ".xr-icon-database,\n",
       ".xr-icon-file-text2 {\n",
       "  display: inline-block;\n",
       "  vertical-align: middle;\n",
       "  width: 1em;\n",
       "  height: 1.5em !important;\n",
       "  stroke-width: 0;\n",
       "  stroke: currentColor;\n",
       "  fill: currentColor;\n",
       "}\n",
       "</style><pre class='xr-text-repr-fallback'>&lt;xarray.Dataset&gt;\n",
       "Dimensions:  (time: 3249, lat: 249, lon: 259)\n",
       "Coordinates:\n",
       "  * time     (time) datetime64[ns] 1979-12-01 1979-12-02 ... 2015-02-28\n",
       "  * lat      (lat) float32 16.43 16.63 16.83 17.02 ... 55.8 55.92 56.04 56.15\n",
       "  * lon      (lon) float32 60.2 60.41 60.62 60.83 ... 113.2 113.4 113.6 113.8\n",
       "Data variables:\n",
       "    z        (time, lat, lon) float32 dask.array&lt;chunksize=(31, 249, 259), meta=np.ndarray&gt;</pre><div class='xr-wrap' style='display:none'><div class='xr-header'><div class='xr-obj-type'>xarray.Dataset</div></div><ul class='xr-sections'><li class='xr-section-item'><input id='section-aceff389-6a3c-4578-b3e1-2bf234c66d51' class='xr-section-summary-in' type='checkbox' disabled ><label for='section-aceff389-6a3c-4578-b3e1-2bf234c66d51' class='xr-section-summary'  title='Expand/collapse section'>Dimensions:</label><div class='xr-section-inline-details'><ul class='xr-dim-list'><li><span class='xr-has-index'>time</span>: 3249</li><li><span class='xr-has-index'>lat</span>: 249</li><li><span class='xr-has-index'>lon</span>: 259</li></ul></div><div class='xr-section-details'></div></li><li class='xr-section-item'><input id='section-1631ccae-42ad-44e9-b658-32930e30d258' class='xr-section-summary-in' type='checkbox'  checked><label for='section-1631ccae-42ad-44e9-b658-32930e30d258' class='xr-section-summary' >Coordinates: <span>(3)</span></label><div class='xr-section-inline-details'></div><div class='xr-section-details'><ul class='xr-var-list'><li class='xr-var-item'><div class='xr-var-name'><span class='xr-has-index'>time</span></div><div class='xr-var-dims'>(time)</div><div class='xr-var-dtype'>datetime64[ns]</div><div class='xr-var-preview xr-preview'>1979-12-01 ... 2015-02-28</div><input id='attrs-362868dc-2f7e-45a9-8b90-44d7724f87fb' class='xr-var-attrs-in' type='checkbox' disabled><label for='attrs-362868dc-2f7e-45a9-8b90-44d7724f87fb' title='Show/Hide attributes'><svg class='icon xr-icon-file-text2'><use xlink:href='#icon-file-text2'></use></svg></label><input id='data-f6ef91c9-6260-4b5f-954c-890e3c9615a8' class='xr-var-data-in' type='checkbox'><label for='data-f6ef91c9-6260-4b5f-954c-890e3c9615a8' title='Show/Hide data repr'><svg class='icon xr-icon-database'><use xlink:href='#icon-database'></use></svg></label><div class='xr-var-attrs'><dl class='xr-attrs'></dl></div><div class='xr-var-data'><pre>array([&#x27;1979-12-01T00:00:00.000000000&#x27;, &#x27;1979-12-02T00:00:00.000000000&#x27;,\n",
       "       &#x27;1979-12-03T00:00:00.000000000&#x27;, ..., &#x27;2015-02-26T00:00:00.000000000&#x27;,\n",
       "       &#x27;2015-02-27T00:00:00.000000000&#x27;, &#x27;2015-02-28T00:00:00.000000000&#x27;],\n",
       "      dtype=&#x27;datetime64[ns]&#x27;)</pre></div></li><li class='xr-var-item'><div class='xr-var-name'><span class='xr-has-index'>lat</span></div><div class='xr-var-dims'>(lat)</div><div class='xr-var-dtype'>float32</div><div class='xr-var-preview xr-preview'>16.43 16.63 16.83 ... 56.04 56.15</div><input id='attrs-2fccdc49-62a9-49ec-9a8b-d59de2421209' class='xr-var-attrs-in' type='checkbox' disabled><label for='attrs-2fccdc49-62a9-49ec-9a8b-d59de2421209' title='Show/Hide attributes'><svg class='icon xr-icon-file-text2'><use xlink:href='#icon-file-text2'></use></svg></label><input id='data-85566fd4-6fbe-46c7-84e9-fa039e5b4f9c' class='xr-var-data-in' type='checkbox'><label for='data-85566fd4-6fbe-46c7-84e9-fa039e5b4f9c' title='Show/Hide data repr'><svg class='icon xr-icon-database'><use xlink:href='#icon-database'></use></svg></label><div class='xr-var-attrs'><dl class='xr-attrs'></dl></div><div class='xr-var-data'><pre>array([16.428108, 16.62725 , 16.82618 , ..., 55.921158, 56.037384, 56.15326 ],\n",
       "      dtype=float32)</pre></div></li><li class='xr-var-item'><div class='xr-var-name'><span class='xr-has-index'>lon</span></div><div class='xr-var-dims'>(lon)</div><div class='xr-var-dtype'>float32</div><div class='xr-var-preview xr-preview'>60.2 60.41 60.62 ... 113.6 113.8</div><input id='attrs-964f3ed2-4048-4c50-899c-88774c0f4e3f' class='xr-var-attrs-in' type='checkbox' disabled><label for='attrs-964f3ed2-4048-4c50-899c-88774c0f4e3f' title='Show/Hide attributes'><svg class='icon xr-icon-file-text2'><use xlink:href='#icon-file-text2'></use></svg></label><input id='data-bd0ef4e3-728d-439f-8531-76d5bbc8e0ab' class='xr-var-data-in' type='checkbox'><label for='data-bd0ef4e3-728d-439f-8531-76d5bbc8e0ab' title='Show/Hide data repr'><svg class='icon xr-icon-database'><use xlink:href='#icon-database'></use></svg></label><div class='xr-var-attrs'><dl class='xr-attrs'></dl></div><div class='xr-var-data'><pre>array([ 60.203857,  60.41158 ,  60.6193  , ..., 113.3807  , 113.588425,\n",
       "       113.79614 ], dtype=float32)</pre></div></li></ul></div></li><li class='xr-section-item'><input id='section-21f64289-8cab-4f94-a867-ed3d5b4509e7' class='xr-section-summary-in' type='checkbox'  checked><label for='section-21f64289-8cab-4f94-a867-ed3d5b4509e7' class='xr-section-summary' >Data variables: <span>(1)</span></label><div class='xr-section-inline-details'></div><div class='xr-section-details'><ul class='xr-var-list'><li class='xr-var-item'><div class='xr-var-name'><span>z</span></div><div class='xr-var-dims'>(time, lat, lon)</div><div class='xr-var-dtype'>float32</div><div class='xr-var-preview xr-preview'>dask.array&lt;chunksize=(31, 249, 259), meta=np.ndarray&gt;</div><input id='attrs-d7321aaf-fce2-4b09-a17f-d298ec46f0ee' class='xr-var-attrs-in' type='checkbox' disabled><label for='attrs-d7321aaf-fce2-4b09-a17f-d298ec46f0ee' title='Show/Hide attributes'><svg class='icon xr-icon-file-text2'><use xlink:href='#icon-file-text2'></use></svg></label><input id='data-acd5cc63-6c07-4732-8132-a9a7d72fe562' class='xr-var-data-in' type='checkbox'><label for='data-acd5cc63-6c07-4732-8132-a9a7d72fe562' title='Show/Hide data repr'><svg class='icon xr-icon-database'><use xlink:href='#icon-database'></use></svg></label><div class='xr-var-attrs'><dl class='xr-attrs'></dl></div><div class='xr-var-data'><table>\n",
       "<tr>\n",
       "<td>\n",
       "<table>\n",
       "  <thead>\n",
       "    <tr><td> </td><th> Array </th><th> Chunk </th></tr>\n",
       "  </thead>\n",
       "  <tbody>\n",
       "    <tr><th> Bytes </th><td> 838.13 MB </td> <td> 23.47 MB </td></tr>\n",
       "    <tr><th> Shape </th><td> (3249, 249, 259) </td> <td> (91, 249, 259) </td></tr>\n",
       "    <tr><th> Count </th><td> 185 Tasks </td><td> 37 Chunks </td></tr>\n",
       "    <tr><th> Type </th><td> float32 </td><td> numpy.ndarray </td></tr>\n",
       "  </tbody>\n",
       "</table>\n",
       "</td>\n",
       "<td>\n",
       "<svg width=\"167\" height=\"157\" style=\"stroke:rgb(0,0,0);stroke-width:1\" >\n",
       "\n",
       "  <!-- Horizontal lines -->\n",
       "  <line x1=\"10\" y1=\"0\" x2=\"80\" y2=\"70\" style=\"stroke-width:2\" />\n",
       "  <line x1=\"10\" y1=\"37\" x2=\"80\" y2=\"107\" style=\"stroke-width:2\" />\n",
       "\n",
       "  <!-- Vertical lines -->\n",
       "  <line x1=\"10\" y1=\"0\" x2=\"10\" y2=\"37\" style=\"stroke-width:2\" />\n",
       "  <line x1=\"10\" y1=\"0\" x2=\"10\" y2=\"37\" />\n",
       "  <line x1=\"14\" y1=\"4\" x2=\"14\" y2=\"41\" />\n",
       "  <line x1=\"18\" y1=\"8\" x2=\"18\" y2=\"45\" />\n",
       "  <line x1=\"22\" y1=\"12\" x2=\"22\" y2=\"49\" />\n",
       "  <line x1=\"26\" y1=\"16\" x2=\"26\" y2=\"53\" />\n",
       "  <line x1=\"30\" y1=\"20\" x2=\"30\" y2=\"57\" />\n",
       "  <line x1=\"34\" y1=\"24\" x2=\"34\" y2=\"61\" />\n",
       "  <line x1=\"38\" y1=\"28\" x2=\"38\" y2=\"65\" />\n",
       "  <line x1=\"42\" y1=\"32\" x2=\"42\" y2=\"69\" />\n",
       "  <line x1=\"45\" y1=\"35\" x2=\"45\" y2=\"73\" />\n",
       "  <line x1=\"49\" y1=\"39\" x2=\"49\" y2=\"76\" />\n",
       "  <line x1=\"53\" y1=\"43\" x2=\"53\" y2=\"80\" />\n",
       "  <line x1=\"57\" y1=\"47\" x2=\"57\" y2=\"84\" />\n",
       "  <line x1=\"61\" y1=\"51\" x2=\"61\" y2=\"88\" />\n",
       "  <line x1=\"65\" y1=\"55\" x2=\"65\" y2=\"92\" />\n",
       "  <line x1=\"69\" y1=\"59\" x2=\"69\" y2=\"96\" />\n",
       "  <line x1=\"73\" y1=\"63\" x2=\"73\" y2=\"100\" />\n",
       "  <line x1=\"77\" y1=\"67\" x2=\"77\" y2=\"104\" />\n",
       "  <line x1=\"80\" y1=\"70\" x2=\"80\" y2=\"107\" style=\"stroke-width:2\" />\n",
       "\n",
       "  <!-- Colored Rectangle -->\n",
       "  <polygon points=\"10.0,0.0 80.58823529411765,70.58823529411765 80.58823529411765,107.66366680678564 10.0,37.075431512668\" style=\"fill:#8B4903A0;stroke-width:0\"/>\n",
       "\n",
       "  <!-- Horizontal lines -->\n",
       "  <line x1=\"10\" y1=\"0\" x2=\"47\" y2=\"0\" style=\"stroke-width:2\" />\n",
       "  <line x1=\"10\" y1=\"0\" x2=\"47\" y2=\"0\" />\n",
       "  <line x1=\"14\" y1=\"4\" x2=\"51\" y2=\"4\" />\n",
       "  <line x1=\"18\" y1=\"8\" x2=\"55\" y2=\"8\" />\n",
       "  <line x1=\"22\" y1=\"12\" x2=\"59\" y2=\"12\" />\n",
       "  <line x1=\"26\" y1=\"16\" x2=\"63\" y2=\"16\" />\n",
       "  <line x1=\"30\" y1=\"20\" x2=\"67\" y2=\"20\" />\n",
       "  <line x1=\"34\" y1=\"24\" x2=\"71\" y2=\"24\" />\n",
       "  <line x1=\"38\" y1=\"28\" x2=\"75\" y2=\"28\" />\n",
       "  <line x1=\"42\" y1=\"32\" x2=\"79\" y2=\"32\" />\n",
       "  <line x1=\"45\" y1=\"35\" x2=\"83\" y2=\"35\" />\n",
       "  <line x1=\"49\" y1=\"39\" x2=\"87\" y2=\"39\" />\n",
       "  <line x1=\"53\" y1=\"43\" x2=\"91\" y2=\"43\" />\n",
       "  <line x1=\"57\" y1=\"47\" x2=\"95\" y2=\"47\" />\n",
       "  <line x1=\"61\" y1=\"51\" x2=\"98\" y2=\"51\" />\n",
       "  <line x1=\"65\" y1=\"55\" x2=\"102\" y2=\"55\" />\n",
       "  <line x1=\"69\" y1=\"59\" x2=\"106\" y2=\"59\" />\n",
       "  <line x1=\"73\" y1=\"63\" x2=\"110\" y2=\"63\" />\n",
       "  <line x1=\"77\" y1=\"67\" x2=\"114\" y2=\"67\" />\n",
       "  <line x1=\"80\" y1=\"70\" x2=\"117\" y2=\"70\" style=\"stroke-width:2\" />\n",
       "\n",
       "  <!-- Vertical lines -->\n",
       "  <line x1=\"10\" y1=\"0\" x2=\"80\" y2=\"70\" style=\"stroke-width:2\" />\n",
       "  <line x1=\"47\" y1=\"0\" x2=\"117\" y2=\"70\" style=\"stroke-width:2\" />\n",
       "\n",
       "  <!-- Colored Rectangle -->\n",
       "  <polygon points=\"10.0,0.0 47.305899619074175,0.0 117.89413491319183,70.58823529411765 80.58823529411765,70.58823529411765\" style=\"fill:#8B4903A0;stroke-width:0\"/>\n",
       "\n",
       "  <!-- Horizontal lines -->\n",
       "  <line x1=\"80\" y1=\"70\" x2=\"117\" y2=\"70\" style=\"stroke-width:2\" />\n",
       "  <line x1=\"80\" y1=\"107\" x2=\"117\" y2=\"107\" style=\"stroke-width:2\" />\n",
       "\n",
       "  <!-- Vertical lines -->\n",
       "  <line x1=\"80\" y1=\"70\" x2=\"80\" y2=\"107\" style=\"stroke-width:2\" />\n",
       "  <line x1=\"117\" y1=\"70\" x2=\"117\" y2=\"107\" style=\"stroke-width:2\" />\n",
       "\n",
       "  <!-- Colored Rectangle -->\n",
       "  <polygon points=\"80.58823529411765,70.58823529411765 117.89413491319183,70.58823529411765 117.89413491319183,107.66366680678564 80.58823529411765,107.66366680678564\" style=\"fill:#ECB172A0;stroke-width:0\"/>\n",
       "\n",
       "  <!-- Text -->\n",
       "  <text x=\"99.241185\" y=\"127.663667\" font-size=\"1.0rem\" font-weight=\"100\" text-anchor=\"middle\" >259</text>\n",
       "  <text x=\"137.894135\" y=\"89.125951\" font-size=\"1.0rem\" font-weight=\"100\" text-anchor=\"middle\" transform=\"rotate(-90,137.894135,89.125951)\">249</text>\n",
       "  <text x=\"35.294118\" y=\"92.369549\" font-size=\"1.0rem\" font-weight=\"100\" text-anchor=\"middle\" transform=\"rotate(45,35.294118,92.369549)\">3249</text>\n",
       "</svg>\n",
       "</td>\n",
       "</tr>\n",
       "</table></div></li></ul></div></li><li class='xr-section-item'><input id='section-1e13768f-5101-4b3b-a5cd-60ad26badd6a' class='xr-section-summary-in' type='checkbox' disabled ><label for='section-1e13768f-5101-4b3b-a5cd-60ad26badd6a' class='xr-section-summary'  title='Expand/collapse section'>Attributes: <span>(0)</span></label><div class='xr-section-inline-details'></div><div class='xr-section-details'><dl class='xr-attrs'></dl></div></li></ul></div></div>"
      ],
      "text/plain": [
       "<xarray.Dataset>\n",
       "Dimensions:  (time: 3249, lat: 249, lon: 259)\n",
       "Coordinates:\n",
       "  * time     (time) datetime64[ns] 1979-12-01 1979-12-02 ... 2015-02-28\n",
       "  * lat      (lat) float32 16.43 16.63 16.83 17.02 ... 55.8 55.92 56.04 56.15\n",
       "  * lon      (lon) float32 60.2 60.41 60.62 60.83 ... 113.2 113.4 113.6 113.8\n",
       "Data variables:\n",
       "    z        (time, lat, lon) float32 dask.array<chunksize=(31, 249, 259), meta=np.ndarray>"
      ]
     },
     "execution_count": 66,
     "metadata": {},
     "output_type": "execute_result"
    }
   ],
   "source": [
    "%%time\n",
    "varname = 'zerodegisotherm'\n",
    "domain = 'd01'\n",
    "\n",
    "filename_pattern = path_to_data + 'wrf_hasia/{0}/{1}/daily/out.wrf6km.{1}.daily_*.nc'.format(domain, varname)\n",
    "print(filename_pattern)\n",
    "ds = xr.open_mfdataset(filename_pattern)\n",
    "\n",
    "# Trim date range\n",
    "idx = slice(start_date, end_date)\n",
    "ds = ds.sel(time=idx)\n",
    "\n",
    "# select only months we are interested in\n",
    "ds = select_months_ds(ds, start_mon, end_mon)\n",
    "\n",
    "ds"
   ]
  },
  {
   "cell_type": "code",
   "execution_count": 68,
   "metadata": {},
   "outputs": [],
   "source": [
    "## load filtered annual climatology and std\n",
    "clim_std = xr.open_dataset(path_to_data + 'wrf_hasia/d01/zerodegisotherm/daily_std_clim_zerodegisotherm.nc')\n",
    "clim_mean = xr.open_dataset(path_to_data + 'wrf_hasia/d01/zerodegisotherm/filtered_daily_mean_clim_zerodegisotherm.nc')\n",
    "\n",
    "## Calculate Anomalies\n",
    "anomalies = ds.groupby('time.dayofyear') - clim_mean"
   ]
  },
  {
   "cell_type": "code",
   "execution_count": 78,
   "metadata": {},
   "outputs": [
    {
     "data": {
      "text/html": [
       "<div>\n",
       "<style scoped>\n",
       "    .dataframe tbody tr th:only-of-type {\n",
       "        vertical-align: middle;\n",
       "    }\n",
       "\n",
       "    .dataframe tbody tr th {\n",
       "        vertical-align: top;\n",
       "    }\n",
       "\n",
       "    .dataframe thead th {\n",
       "        text-align: right;\n",
       "    }\n",
       "</style>\n",
       "<table border=\"1\" class=\"dataframe\">\n",
       "  <thead>\n",
       "    <tr style=\"text-align: right;\">\n",
       "      <th></th>\n",
       "      <th>date</th>\n",
       "      <th>trackID</th>\n",
       "      <th>ar_cat</th>\n",
       "      <th>start_date</th>\n",
       "      <th>end_date</th>\n",
       "      <th>duration</th>\n",
       "      <th>landslideID</th>\n",
       "      <th>landslide_lat</th>\n",
       "      <th>landslide_lon</th>\n",
       "      <th>prec</th>\n",
       "      <th>ivt</th>\n",
       "      <th>ivtdir</th>\n",
       "    </tr>\n",
       "  </thead>\n",
       "  <tbody>\n",
       "    <tr>\n",
       "      <th>0</th>\n",
       "      <td>1979-12-02</td>\n",
       "      <td>2861.0</td>\n",
       "      <td>1.0</td>\n",
       "      <td>1979-12-02 00:00:00</td>\n",
       "      <td>1979-12-02 18:00:00</td>\n",
       "      <td>18.0</td>\n",
       "      <td>NaN</td>\n",
       "      <td>NaN</td>\n",
       "      <td>NaN</td>\n",
       "      <td>13.718994</td>\n",
       "      <td>152.087860</td>\n",
       "      <td>224.91021331187994 degree</td>\n",
       "    </tr>\n",
       "    <tr>\n",
       "      <th>1</th>\n",
       "      <td>1979-12-01</td>\n",
       "      <td>2861.0</td>\n",
       "      <td>2.0</td>\n",
       "      <td>1979-12-01 00:00:00</td>\n",
       "      <td>1979-12-02 00:00:00</td>\n",
       "      <td>24.0</td>\n",
       "      <td>NaN</td>\n",
       "      <td>NaN</td>\n",
       "      <td>NaN</td>\n",
       "      <td>17.533569</td>\n",
       "      <td>245.002441</td>\n",
       "      <td>220.23760859065467 degree</td>\n",
       "    </tr>\n",
       "    <tr>\n",
       "      <th>2</th>\n",
       "      <td>1979-12-09</td>\n",
       "      <td>2871.0</td>\n",
       "      <td>1.0</td>\n",
       "      <td>1979-12-09 06:00:00</td>\n",
       "      <td>1979-12-09 18:00:00</td>\n",
       "      <td>12.0</td>\n",
       "      <td>NaN</td>\n",
       "      <td>NaN</td>\n",
       "      <td>NaN</td>\n",
       "      <td>5.676636</td>\n",
       "      <td>108.576300</td>\n",
       "      <td>231.68037841051355 degree</td>\n",
       "    </tr>\n",
       "    <tr>\n",
       "      <th>3</th>\n",
       "      <td>1979-12-08</td>\n",
       "      <td>2871.0</td>\n",
       "      <td>2.0</td>\n",
       "      <td>1979-12-08 06:00:00</td>\n",
       "      <td>1979-12-09 00:00:00</td>\n",
       "      <td>18.0</td>\n",
       "      <td>NaN</td>\n",
       "      <td>NaN</td>\n",
       "      <td>NaN</td>\n",
       "      <td>8.985474</td>\n",
       "      <td>149.770879</td>\n",
       "      <td>237.0652245325259 degree</td>\n",
       "    </tr>\n",
       "    <tr>\n",
       "      <th>4</th>\n",
       "      <td>1979-12-16</td>\n",
       "      <td>2975.0</td>\n",
       "      <td>1.0</td>\n",
       "      <td>1979-12-16 12:00:00</td>\n",
       "      <td>1979-12-17 00:00:00</td>\n",
       "      <td>12.0</td>\n",
       "      <td>NaN</td>\n",
       "      <td>NaN</td>\n",
       "      <td>NaN</td>\n",
       "      <td>NaN</td>\n",
       "      <td>69.228194</td>\n",
       "      <td>270.4320425315212 degree</td>\n",
       "    </tr>\n",
       "    <tr>\n",
       "      <th>...</th>\n",
       "      <td>...</td>\n",
       "      <td>...</td>\n",
       "      <td>...</td>\n",
       "      <td>...</td>\n",
       "      <td>...</td>\n",
       "      <td>...</td>\n",
       "      <td>...</td>\n",
       "      <td>...</td>\n",
       "      <td>...</td>\n",
       "      <td>...</td>\n",
       "      <td>...</td>\n",
       "      <td>...</td>\n",
       "    </tr>\n",
       "    <tr>\n",
       "      <th>983</th>\n",
       "      <td>2014-12-31</td>\n",
       "      <td>114196.0</td>\n",
       "      <td>3.0</td>\n",
       "      <td>2014-12-31 18:00:00</td>\n",
       "      <td>2015-01-03 12:00:00</td>\n",
       "      <td>66.0</td>\n",
       "      <td>NaN</td>\n",
       "      <td>NaN</td>\n",
       "      <td>NaN</td>\n",
       "      <td>4.890137</td>\n",
       "      <td>340.884138</td>\n",
       "      <td>240.43672607892813 degree</td>\n",
       "    </tr>\n",
       "    <tr>\n",
       "      <th>984</th>\n",
       "      <td>2015-01-03</td>\n",
       "      <td>114217.0</td>\n",
       "      <td>3.0</td>\n",
       "      <td>2015-01-03 18:00:00</td>\n",
       "      <td>2015-01-04 00:00:00</td>\n",
       "      <td>6.0</td>\n",
       "      <td>NaN</td>\n",
       "      <td>NaN</td>\n",
       "      <td>NaN</td>\n",
       "      <td>4.515137</td>\n",
       "      <td>375.217412</td>\n",
       "      <td>250.3772879757895 degree</td>\n",
       "    </tr>\n",
       "    <tr>\n",
       "      <th>985</th>\n",
       "      <td>2015-01-21</td>\n",
       "      <td>114363.0</td>\n",
       "      <td>3.0</td>\n",
       "      <td>2015-01-21 06:00:00</td>\n",
       "      <td>2015-01-22 06:00:00</td>\n",
       "      <td>24.0</td>\n",
       "      <td>NaN</td>\n",
       "      <td>NaN</td>\n",
       "      <td>NaN</td>\n",
       "      <td>NaN</td>\n",
       "      <td>61.715181</td>\n",
       "      <td>188.15285286031184 degree</td>\n",
       "    </tr>\n",
       "    <tr>\n",
       "      <th>986</th>\n",
       "      <td>2015-01-29</td>\n",
       "      <td>114402.0</td>\n",
       "      <td>3.0</td>\n",
       "      <td>2015-01-29 12:00:00</td>\n",
       "      <td>2015-01-30 18:00:00</td>\n",
       "      <td>30.0</td>\n",
       "      <td>NaN</td>\n",
       "      <td>NaN</td>\n",
       "      <td>NaN</td>\n",
       "      <td>48.576172</td>\n",
       "      <td>265.416884</td>\n",
       "      <td>277.25970342681023 degree</td>\n",
       "    </tr>\n",
       "    <tr>\n",
       "      <th>987</th>\n",
       "      <td>2015-02-27</td>\n",
       "      <td>114668.0</td>\n",
       "      <td>3.0</td>\n",
       "      <td>2015-02-27 12:00:00</td>\n",
       "      <td>2015-02-27 18:00:00</td>\n",
       "      <td>6.0</td>\n",
       "      <td>NaN</td>\n",
       "      <td>NaN</td>\n",
       "      <td>NaN</td>\n",
       "      <td>22.015625</td>\n",
       "      <td>261.823649</td>\n",
       "      <td>250.22261957816355 degree</td>\n",
       "    </tr>\n",
       "  </tbody>\n",
       "</table>\n",
       "<p>988 rows × 12 columns</p>\n",
       "</div>"
      ],
      "text/plain": [
       "           date   trackID  ar_cat          start_date            end_date  \\\n",
       "0    1979-12-02    2861.0     1.0 1979-12-02 00:00:00 1979-12-02 18:00:00   \n",
       "1    1979-12-01    2861.0     2.0 1979-12-01 00:00:00 1979-12-02 00:00:00   \n",
       "2    1979-12-09    2871.0     1.0 1979-12-09 06:00:00 1979-12-09 18:00:00   \n",
       "3    1979-12-08    2871.0     2.0 1979-12-08 06:00:00 1979-12-09 00:00:00   \n",
       "4    1979-12-16    2975.0     1.0 1979-12-16 12:00:00 1979-12-17 00:00:00   \n",
       "..          ...       ...     ...                 ...                 ...   \n",
       "983  2014-12-31  114196.0     3.0 2014-12-31 18:00:00 2015-01-03 12:00:00   \n",
       "984  2015-01-03  114217.0     3.0 2015-01-03 18:00:00 2015-01-04 00:00:00   \n",
       "985  2015-01-21  114363.0     3.0 2015-01-21 06:00:00 2015-01-22 06:00:00   \n",
       "986  2015-01-29  114402.0     3.0 2015-01-29 12:00:00 2015-01-30 18:00:00   \n",
       "987  2015-02-27  114668.0     3.0 2015-02-27 12:00:00 2015-02-27 18:00:00   \n",
       "\n",
       "     duration  landslideID  landslide_lat  landslide_lon       prec  \\\n",
       "0        18.0          NaN            NaN            NaN  13.718994   \n",
       "1        24.0          NaN            NaN            NaN  17.533569   \n",
       "2        12.0          NaN            NaN            NaN   5.676636   \n",
       "3        18.0          NaN            NaN            NaN   8.985474   \n",
       "4        12.0          NaN            NaN            NaN        NaN   \n",
       "..        ...          ...            ...            ...        ...   \n",
       "983      66.0          NaN            NaN            NaN   4.890137   \n",
       "984       6.0          NaN            NaN            NaN   4.515137   \n",
       "985      24.0          NaN            NaN            NaN        NaN   \n",
       "986      30.0          NaN            NaN            NaN  48.576172   \n",
       "987       6.0          NaN            NaN            NaN  22.015625   \n",
       "\n",
       "            ivt                     ivtdir  \n",
       "0    152.087860  224.91021331187994 degree  \n",
       "1    245.002441  220.23760859065467 degree  \n",
       "2    108.576300  231.68037841051355 degree  \n",
       "3    149.770879   237.0652245325259 degree  \n",
       "4     69.228194   270.4320425315212 degree  \n",
       "..          ...                        ...  \n",
       "983  340.884138  240.43672607892813 degree  \n",
       "984  375.217412   250.3772879757895 degree  \n",
       "985   61.715181  188.15285286031184 degree  \n",
       "986  265.416884  277.25970342681023 degree  \n",
       "987  261.823649  250.22261957816355 degree  \n",
       "\n",
       "[988 rows x 12 columns]"
      ]
     },
     "execution_count": 78,
     "metadata": {},
     "output_type": "execute_result"
    }
   ],
   "source": [
    "# normalize AR dates\n",
    "## get normalized start date for each row in the df - need this to create subset list of freezing level days\n",
    "df = merged_data.rename(columns={'start_date': 'date'})\n",
    "df = df.set_index(pd.to_datetime(df['date']))\n",
    "df = select_months_df(df, start_mon, end_mon)\n",
    "df.index = df.index.strftime(\"%Y-%m-%d\")\n",
    "df = df.rename(columns={'date': 'start_date'})\n",
    "df = df.reset_index()\n",
    "df"
   ]
  },
  {
   "cell_type": "code",
   "execution_count": 79,
   "metadata": {},
   "outputs": [
    {
     "data": {
      "text/html": [
       "<div><svg style=\"position: absolute; width: 0; height: 0; overflow: hidden\">\n",
       "<defs>\n",
       "<symbol id=\"icon-database\" viewBox=\"0 0 32 32\">\n",
       "<path d=\"M16 0c-8.837 0-16 2.239-16 5v4c0 2.761 7.163 5 16 5s16-2.239 16-5v-4c0-2.761-7.163-5-16-5z\"></path>\n",
       "<path d=\"M16 17c-8.837 0-16-2.239-16-5v6c0 2.761 7.163 5 16 5s16-2.239 16-5v-6c0 2.761-7.163 5-16 5z\"></path>\n",
       "<path d=\"M16 26c-8.837 0-16-2.239-16-5v6c0 2.761 7.163 5 16 5s16-2.239 16-5v-6c0 2.761-7.163 5-16 5z\"></path>\n",
       "</symbol>\n",
       "<symbol id=\"icon-file-text2\" viewBox=\"0 0 32 32\">\n",
       "<path d=\"M28.681 7.159c-0.694-0.947-1.662-2.053-2.724-3.116s-2.169-2.030-3.116-2.724c-1.612-1.182-2.393-1.319-2.841-1.319h-15.5c-1.378 0-2.5 1.121-2.5 2.5v27c0 1.378 1.122 2.5 2.5 2.5h23c1.378 0 2.5-1.122 2.5-2.5v-19.5c0-0.448-0.137-1.23-1.319-2.841zM24.543 5.457c0.959 0.959 1.712 1.825 2.268 2.543h-4.811v-4.811c0.718 0.556 1.584 1.309 2.543 2.268zM28 29.5c0 0.271-0.229 0.5-0.5 0.5h-23c-0.271 0-0.5-0.229-0.5-0.5v-27c0-0.271 0.229-0.5 0.5-0.5 0 0 15.499-0 15.5 0v7c0 0.552 0.448 1 1 1h7v19.5z\"></path>\n",
       "<path d=\"M23 26h-14c-0.552 0-1-0.448-1-1s0.448-1 1-1h14c0.552 0 1 0.448 1 1s-0.448 1-1 1z\"></path>\n",
       "<path d=\"M23 22h-14c-0.552 0-1-0.448-1-1s0.448-1 1-1h14c0.552 0 1 0.448 1 1s-0.448 1-1 1z\"></path>\n",
       "<path d=\"M23 18h-14c-0.552 0-1-0.448-1-1s0.448-1 1-1h14c0.552 0 1 0.448 1 1s-0.448 1-1 1z\"></path>\n",
       "</symbol>\n",
       "</defs>\n",
       "</svg>\n",
       "<style>/* CSS stylesheet for displaying xarray objects in jupyterlab.\n",
       " *\n",
       " */\n",
       "\n",
       ":root {\n",
       "  --xr-font-color0: var(--jp-content-font-color0, rgba(0, 0, 0, 1));\n",
       "  --xr-font-color2: var(--jp-content-font-color2, rgba(0, 0, 0, 0.54));\n",
       "  --xr-font-color3: var(--jp-content-font-color3, rgba(0, 0, 0, 0.38));\n",
       "  --xr-border-color: var(--jp-border-color2, #e0e0e0);\n",
       "  --xr-disabled-color: var(--jp-layout-color3, #bdbdbd);\n",
       "  --xr-background-color: var(--jp-layout-color0, white);\n",
       "  --xr-background-color-row-even: var(--jp-layout-color1, white);\n",
       "  --xr-background-color-row-odd: var(--jp-layout-color2, #eeeeee);\n",
       "}\n",
       "\n",
       "html[theme=dark],\n",
       "body.vscode-dark {\n",
       "  --xr-font-color0: rgba(255, 255, 255, 1);\n",
       "  --xr-font-color2: rgba(255, 255, 255, 0.54);\n",
       "  --xr-font-color3: rgba(255, 255, 255, 0.38);\n",
       "  --xr-border-color: #1F1F1F;\n",
       "  --xr-disabled-color: #515151;\n",
       "  --xr-background-color: #111111;\n",
       "  --xr-background-color-row-even: #111111;\n",
       "  --xr-background-color-row-odd: #313131;\n",
       "}\n",
       "\n",
       ".xr-wrap {\n",
       "  display: block !important;\n",
       "  min-width: 300px;\n",
       "  max-width: 700px;\n",
       "}\n",
       "\n",
       ".xr-text-repr-fallback {\n",
       "  /* fallback to plain text repr when CSS is not injected (untrusted notebook) */\n",
       "  display: none;\n",
       "}\n",
       "\n",
       ".xr-header {\n",
       "  padding-top: 6px;\n",
       "  padding-bottom: 6px;\n",
       "  margin-bottom: 4px;\n",
       "  border-bottom: solid 1px var(--xr-border-color);\n",
       "}\n",
       "\n",
       ".xr-header > div,\n",
       ".xr-header > ul {\n",
       "  display: inline;\n",
       "  margin-top: 0;\n",
       "  margin-bottom: 0;\n",
       "}\n",
       "\n",
       ".xr-obj-type,\n",
       ".xr-array-name {\n",
       "  margin-left: 2px;\n",
       "  margin-right: 10px;\n",
       "}\n",
       "\n",
       ".xr-obj-type {\n",
       "  color: var(--xr-font-color2);\n",
       "}\n",
       "\n",
       ".xr-sections {\n",
       "  padding-left: 0 !important;\n",
       "  display: grid;\n",
       "  grid-template-columns: 150px auto auto 1fr 20px 20px;\n",
       "}\n",
       "\n",
       ".xr-section-item {\n",
       "  display: contents;\n",
       "}\n",
       "\n",
       ".xr-section-item input {\n",
       "  display: none;\n",
       "}\n",
       "\n",
       ".xr-section-item input + label {\n",
       "  color: var(--xr-disabled-color);\n",
       "}\n",
       "\n",
       ".xr-section-item input:enabled + label {\n",
       "  cursor: pointer;\n",
       "  color: var(--xr-font-color2);\n",
       "}\n",
       "\n",
       ".xr-section-item input:enabled + label:hover {\n",
       "  color: var(--xr-font-color0);\n",
       "}\n",
       "\n",
       ".xr-section-summary {\n",
       "  grid-column: 1;\n",
       "  color: var(--xr-font-color2);\n",
       "  font-weight: 500;\n",
       "}\n",
       "\n",
       ".xr-section-summary > span {\n",
       "  display: inline-block;\n",
       "  padding-left: 0.5em;\n",
       "}\n",
       "\n",
       ".xr-section-summary-in:disabled + label {\n",
       "  color: var(--xr-font-color2);\n",
       "}\n",
       "\n",
       ".xr-section-summary-in + label:before {\n",
       "  display: inline-block;\n",
       "  content: '►';\n",
       "  font-size: 11px;\n",
       "  width: 15px;\n",
       "  text-align: center;\n",
       "}\n",
       "\n",
       ".xr-section-summary-in:disabled + label:before {\n",
       "  color: var(--xr-disabled-color);\n",
       "}\n",
       "\n",
       ".xr-section-summary-in:checked + label:before {\n",
       "  content: '▼';\n",
       "}\n",
       "\n",
       ".xr-section-summary-in:checked + label > span {\n",
       "  display: none;\n",
       "}\n",
       "\n",
       ".xr-section-summary,\n",
       ".xr-section-inline-details {\n",
       "  padding-top: 4px;\n",
       "  padding-bottom: 4px;\n",
       "}\n",
       "\n",
       ".xr-section-inline-details {\n",
       "  grid-column: 2 / -1;\n",
       "}\n",
       "\n",
       ".xr-section-details {\n",
       "  display: none;\n",
       "  grid-column: 1 / -1;\n",
       "  margin-bottom: 5px;\n",
       "}\n",
       "\n",
       ".xr-section-summary-in:checked ~ .xr-section-details {\n",
       "  display: contents;\n",
       "}\n",
       "\n",
       ".xr-array-wrap {\n",
       "  grid-column: 1 / -1;\n",
       "  display: grid;\n",
       "  grid-template-columns: 20px auto;\n",
       "}\n",
       "\n",
       ".xr-array-wrap > label {\n",
       "  grid-column: 1;\n",
       "  vertical-align: top;\n",
       "}\n",
       "\n",
       ".xr-preview {\n",
       "  color: var(--xr-font-color3);\n",
       "}\n",
       "\n",
       ".xr-array-preview,\n",
       ".xr-array-data {\n",
       "  padding: 0 5px !important;\n",
       "  grid-column: 2;\n",
       "}\n",
       "\n",
       ".xr-array-data,\n",
       ".xr-array-in:checked ~ .xr-array-preview {\n",
       "  display: none;\n",
       "}\n",
       "\n",
       ".xr-array-in:checked ~ .xr-array-data,\n",
       ".xr-array-preview {\n",
       "  display: inline-block;\n",
       "}\n",
       "\n",
       ".xr-dim-list {\n",
       "  display: inline-block !important;\n",
       "  list-style: none;\n",
       "  padding: 0 !important;\n",
       "  margin: 0;\n",
       "}\n",
       "\n",
       ".xr-dim-list li {\n",
       "  display: inline-block;\n",
       "  padding: 0;\n",
       "  margin: 0;\n",
       "}\n",
       "\n",
       ".xr-dim-list:before {\n",
       "  content: '(';\n",
       "}\n",
       "\n",
       ".xr-dim-list:after {\n",
       "  content: ')';\n",
       "}\n",
       "\n",
       ".xr-dim-list li:not(:last-child):after {\n",
       "  content: ',';\n",
       "  padding-right: 5px;\n",
       "}\n",
       "\n",
       ".xr-has-index {\n",
       "  font-weight: bold;\n",
       "}\n",
       "\n",
       ".xr-var-list,\n",
       ".xr-var-item {\n",
       "  display: contents;\n",
       "}\n",
       "\n",
       ".xr-var-item > div,\n",
       ".xr-var-item label,\n",
       ".xr-var-item > .xr-var-name span {\n",
       "  background-color: var(--xr-background-color-row-even);\n",
       "  margin-bottom: 0;\n",
       "}\n",
       "\n",
       ".xr-var-item > .xr-var-name:hover span {\n",
       "  padding-right: 5px;\n",
       "}\n",
       "\n",
       ".xr-var-list > li:nth-child(odd) > div,\n",
       ".xr-var-list > li:nth-child(odd) > label,\n",
       ".xr-var-list > li:nth-child(odd) > .xr-var-name span {\n",
       "  background-color: var(--xr-background-color-row-odd);\n",
       "}\n",
       "\n",
       ".xr-var-name {\n",
       "  grid-column: 1;\n",
       "}\n",
       "\n",
       ".xr-var-dims {\n",
       "  grid-column: 2;\n",
       "}\n",
       "\n",
       ".xr-var-dtype {\n",
       "  grid-column: 3;\n",
       "  text-align: right;\n",
       "  color: var(--xr-font-color2);\n",
       "}\n",
       "\n",
       ".xr-var-preview {\n",
       "  grid-column: 4;\n",
       "}\n",
       "\n",
       ".xr-var-name,\n",
       ".xr-var-dims,\n",
       ".xr-var-dtype,\n",
       ".xr-preview,\n",
       ".xr-attrs dt {\n",
       "  white-space: nowrap;\n",
       "  overflow: hidden;\n",
       "  text-overflow: ellipsis;\n",
       "  padding-right: 10px;\n",
       "}\n",
       "\n",
       ".xr-var-name:hover,\n",
       ".xr-var-dims:hover,\n",
       ".xr-var-dtype:hover,\n",
       ".xr-attrs dt:hover {\n",
       "  overflow: visible;\n",
       "  width: auto;\n",
       "  z-index: 1;\n",
       "}\n",
       "\n",
       ".xr-var-attrs,\n",
       ".xr-var-data {\n",
       "  display: none;\n",
       "  background-color: var(--xr-background-color) !important;\n",
       "  padding-bottom: 5px !important;\n",
       "}\n",
       "\n",
       ".xr-var-attrs-in:checked ~ .xr-var-attrs,\n",
       ".xr-var-data-in:checked ~ .xr-var-data {\n",
       "  display: block;\n",
       "}\n",
       "\n",
       ".xr-var-data > table {\n",
       "  float: right;\n",
       "}\n",
       "\n",
       ".xr-var-name span,\n",
       ".xr-var-data,\n",
       ".xr-attrs {\n",
       "  padding-left: 25px !important;\n",
       "}\n",
       "\n",
       ".xr-attrs,\n",
       ".xr-var-attrs,\n",
       ".xr-var-data {\n",
       "  grid-column: 1 / -1;\n",
       "}\n",
       "\n",
       "dl.xr-attrs {\n",
       "  padding: 0;\n",
       "  margin: 0;\n",
       "  display: grid;\n",
       "  grid-template-columns: 125px auto;\n",
       "}\n",
       "\n",
       ".xr-attrs dt,\n",
       ".xr-attrs dd {\n",
       "  padding: 0;\n",
       "  margin: 0;\n",
       "  float: left;\n",
       "  padding-right: 10px;\n",
       "  width: auto;\n",
       "}\n",
       "\n",
       ".xr-attrs dt {\n",
       "  font-weight: normal;\n",
       "  grid-column: 1;\n",
       "}\n",
       "\n",
       ".xr-attrs dt:hover span {\n",
       "  display: inline-block;\n",
       "  background: var(--xr-background-color);\n",
       "  padding-right: 10px;\n",
       "}\n",
       "\n",
       ".xr-attrs dd {\n",
       "  grid-column: 2;\n",
       "  white-space: pre-wrap;\n",
       "  word-break: break-all;\n",
       "}\n",
       "\n",
       ".xr-icon-database,\n",
       ".xr-icon-file-text2 {\n",
       "  display: inline-block;\n",
       "  vertical-align: middle;\n",
       "  width: 1em;\n",
       "  height: 1.5em !important;\n",
       "  stroke-width: 0;\n",
       "  stroke: currentColor;\n",
       "  fill: currentColor;\n",
       "}\n",
       "</style><pre class='xr-text-repr-fallback'>&lt;xarray.Dataset&gt;\n",
       "Dimensions:    (time: 988, lat: 249, lon: 259)\n",
       "Coordinates:\n",
       "  * time       (time) datetime64[ns] 1979-12-02 1979-12-01 ... 2015-02-27\n",
       "  * lat        (lat) float32 16.43 16.63 16.83 17.02 ... 55.8 55.92 56.04 56.15\n",
       "  * lon        (lon) float32 60.2 60.41 60.62 60.83 ... 113.2 113.4 113.6 113.8\n",
       "    dayofyear  (time) int64 336 335 343 342 350 351 355 ... 348 365 3 21 29 58\n",
       "Data variables:\n",
       "    z          (time, lat, lon) float64 dask.array&lt;chunksize=(1, 249, 259), meta=np.ndarray&gt;</pre><div class='xr-wrap' style='display:none'><div class='xr-header'><div class='xr-obj-type'>xarray.Dataset</div></div><ul class='xr-sections'><li class='xr-section-item'><input id='section-15037d7b-79a7-4c2f-8166-1f88b93f12e3' class='xr-section-summary-in' type='checkbox' disabled ><label for='section-15037d7b-79a7-4c2f-8166-1f88b93f12e3' class='xr-section-summary'  title='Expand/collapse section'>Dimensions:</label><div class='xr-section-inline-details'><ul class='xr-dim-list'><li><span class='xr-has-index'>time</span>: 988</li><li><span class='xr-has-index'>lat</span>: 249</li><li><span class='xr-has-index'>lon</span>: 259</li></ul></div><div class='xr-section-details'></div></li><li class='xr-section-item'><input id='section-8ba6890a-3b49-4c36-9ed0-6fb08d5ed5cb' class='xr-section-summary-in' type='checkbox'  checked><label for='section-8ba6890a-3b49-4c36-9ed0-6fb08d5ed5cb' class='xr-section-summary' >Coordinates: <span>(4)</span></label><div class='xr-section-inline-details'></div><div class='xr-section-details'><ul class='xr-var-list'><li class='xr-var-item'><div class='xr-var-name'><span class='xr-has-index'>time</span></div><div class='xr-var-dims'>(time)</div><div class='xr-var-dtype'>datetime64[ns]</div><div class='xr-var-preview xr-preview'>1979-12-02 ... 2015-02-27</div><input id='attrs-8786062e-c9de-4bea-845e-0fe4bbd34110' class='xr-var-attrs-in' type='checkbox' disabled><label for='attrs-8786062e-c9de-4bea-845e-0fe4bbd34110' title='Show/Hide attributes'><svg class='icon xr-icon-file-text2'><use xlink:href='#icon-file-text2'></use></svg></label><input id='data-4b13fbcb-78b7-4691-8f1d-61c16f87e4e4' class='xr-var-data-in' type='checkbox'><label for='data-4b13fbcb-78b7-4691-8f1d-61c16f87e4e4' title='Show/Hide data repr'><svg class='icon xr-icon-database'><use xlink:href='#icon-database'></use></svg></label><div class='xr-var-attrs'><dl class='xr-attrs'></dl></div><div class='xr-var-data'><pre>array([&#x27;1979-12-02T00:00:00.000000000&#x27;, &#x27;1979-12-01T00:00:00.000000000&#x27;,\n",
       "       &#x27;1979-12-09T00:00:00.000000000&#x27;, ..., &#x27;2015-01-21T00:00:00.000000000&#x27;,\n",
       "       &#x27;2015-01-29T00:00:00.000000000&#x27;, &#x27;2015-02-27T00:00:00.000000000&#x27;],\n",
       "      dtype=&#x27;datetime64[ns]&#x27;)</pre></div></li><li class='xr-var-item'><div class='xr-var-name'><span class='xr-has-index'>lat</span></div><div class='xr-var-dims'>(lat)</div><div class='xr-var-dtype'>float32</div><div class='xr-var-preview xr-preview'>16.43 16.63 16.83 ... 56.04 56.15</div><input id='attrs-291ae51f-91b7-495c-b73a-626c333eba2c' class='xr-var-attrs-in' type='checkbox' disabled><label for='attrs-291ae51f-91b7-495c-b73a-626c333eba2c' title='Show/Hide attributes'><svg class='icon xr-icon-file-text2'><use xlink:href='#icon-file-text2'></use></svg></label><input id='data-cf787e45-b001-4bde-a004-387c8c82552d' class='xr-var-data-in' type='checkbox'><label for='data-cf787e45-b001-4bde-a004-387c8c82552d' title='Show/Hide data repr'><svg class='icon xr-icon-database'><use xlink:href='#icon-database'></use></svg></label><div class='xr-var-attrs'><dl class='xr-attrs'></dl></div><div class='xr-var-data'><pre>array([16.428108, 16.62725 , 16.82618 , ..., 55.921158, 56.037384, 56.15326 ],\n",
       "      dtype=float32)</pre></div></li><li class='xr-var-item'><div class='xr-var-name'><span class='xr-has-index'>lon</span></div><div class='xr-var-dims'>(lon)</div><div class='xr-var-dtype'>float32</div><div class='xr-var-preview xr-preview'>60.2 60.41 60.62 ... 113.6 113.8</div><input id='attrs-51beaf69-2e66-4f85-a4bf-cf8e3339fba9' class='xr-var-attrs-in' type='checkbox' disabled><label for='attrs-51beaf69-2e66-4f85-a4bf-cf8e3339fba9' title='Show/Hide attributes'><svg class='icon xr-icon-file-text2'><use xlink:href='#icon-file-text2'></use></svg></label><input id='data-26b5a3d2-a822-41d6-a67e-4d2297f755a3' class='xr-var-data-in' type='checkbox'><label for='data-26b5a3d2-a822-41d6-a67e-4d2297f755a3' title='Show/Hide data repr'><svg class='icon xr-icon-database'><use xlink:href='#icon-database'></use></svg></label><div class='xr-var-attrs'><dl class='xr-attrs'></dl></div><div class='xr-var-data'><pre>array([ 60.203857,  60.41158 ,  60.6193  , ..., 113.3807  , 113.588425,\n",
       "       113.79614 ], dtype=float32)</pre></div></li><li class='xr-var-item'><div class='xr-var-name'><span>dayofyear</span></div><div class='xr-var-dims'>(time)</div><div class='xr-var-dtype'>int64</div><div class='xr-var-preview xr-preview'>336 335 343 342 350 ... 3 21 29 58</div><input id='attrs-c73d6243-2e3a-46e8-b914-f691c529ed70' class='xr-var-attrs-in' type='checkbox' disabled><label for='attrs-c73d6243-2e3a-46e8-b914-f691c529ed70' title='Show/Hide attributes'><svg class='icon xr-icon-file-text2'><use xlink:href='#icon-file-text2'></use></svg></label><input id='data-fb3c7dac-e686-4ad7-b483-8e01258b173e' class='xr-var-data-in' type='checkbox'><label for='data-fb3c7dac-e686-4ad7-b483-8e01258b173e' title='Show/Hide data repr'><svg class='icon xr-icon-database'><use xlink:href='#icon-database'></use></svg></label><div class='xr-var-attrs'><dl class='xr-attrs'></dl></div><div class='xr-var-data'><pre>array([336, 335, 343, 342, 350, 351, 355, 358, 358, 359, 362, 361, 364,\n",
       "         7,  15,  17,  24,  22,  25,  43,  41,  44,  49,  48,  52,  51,\n",
       "        57,  56,  13,  12,  28,  26,  33,  43,  44,  53,  57,  55, 360,\n",
       "        17,  29,  30,  33,  32,  40,  39,  45,  47,  49,  53,  56,  54,\n",
       "       341, 344,  20,  21,  25,  24,  26,  40,  59,  58, 346, 346, 350,\n",
       "       349, 364, 363,  17,  17,  19,  24, 339, 338, 361, 361, 362,  20,\n",
       "        32,  50,  51, 340, 335, 345, 355, 354,  28,  27,  28,  42,  41,\n",
       "       364, 362,   2,   8,   7,  19,  21,  26,  49,  48,  56,  55,  56,\n",
       "       336, 337, 364, 361, 358,   4,   3,  29,  34,  32,  43,  45,  46,\n",
       "        54,  50, 341, 337, 350, 349, 351,  16,  15,  20,  20,  25,  26,\n",
       "        25,  29,  28,  29,  30,  38,  35,  42,  41,  57, 353, 351, 353,\n",
       "       356, 355, 360, 363,   6,  15,  26,  24,  39,  38, 351, 345,   4,\n",
       "         1,   6,   7,  22,  30,  36,  37,  42,  41,  49,  58,  55,  58,\n",
       "        59, 339, 341, 342, 366, 364,  13,  11,  13,  14,  16,  25,  26,\n",
       "        46,  44,  55,  57,  17,  16,  24,  34,  35,  50,  51,  56, 339,\n",
       "       338, 342, 355, 354,  26,  40,  36,  41,  55,  54,  55, 340, 338,\n",
       "       347, 346, 348, 351, 349, 354, 360,  12,  13,  24,  23,  36,  37,\n",
       "        43,  53,  52,  53,  52,  53,  60,  60, 358,  18,  16,  19,  22,\n",
       "        25,  27,  43,  55,  53,  59,  58, 345, 341, 345,   7,   5,  10,\n",
       "        11,  13,  30,  29,  30,  44,  43,   2, 365,  10,  19,  20,  37,\n",
       "...\n",
       "        50,  50,  53,  53,  54,  56, 359,  14,  15,  16,  17,  22,  34,\n",
       "        38,  39,  39,  39,  44,  45,  49,  51, 348, 362, 366,   1,   1,\n",
       "        12,  13,  37,  45, 341, 346, 347, 349, 350, 360,  12,  13,  15,\n",
       "        16,  40,  46,  48,  52, 346, 348, 351, 352, 362, 362,  17,  27,\n",
       "        55, 342, 345, 347, 348,  14,  14,  31,  46,  58,  60, 357, 360,\n",
       "         7,   9, 357, 358, 359,  44,  49,  50,   1,   1,   9,   9,  48,\n",
       "        56, 355, 358, 358,  30,  49,  50,  51,  52,  52,  53, 339, 341,\n",
       "       342, 354,  11,  14,  29,  30,  38,  40,   8,  10,  12,  12,  12,\n",
       "        13,  20,  44,  46,  14,  16,  40,  41,  45, 360, 362, 335, 335,\n",
       "       338, 338, 347, 351, 362,  17,  19,  20,  48,  49,  50,  50,  54,\n",
       "        57,   6,   7,  35,  47,  55,  57, 343,  12,  15,  49,  56,  57,\n",
       "       339, 365,  16,  30,  32,  45,  57, 365,  15,  16,  16,  17,  18,\n",
       "        20,  22,  23,  23,  28,  31,  37,  38,  42,  42, 335, 365,  27,\n",
       "       350, 361,  16,  24,  30,  31,  59, 366,   2,  27,  28,  32,  33,\n",
       "        46,  47,  50,  51,  51,  52,  53, 338,  25,  59,  42,  45, 342,\n",
       "       349, 351, 352,  10,  18,  18,  19,  20,  38, 343,  44, 350, 350,\n",
       "       354,  12,  43,  47,  48,  48,  49,  50,  54,  55, 339, 340, 341,\n",
       "       342, 364, 365,  14,  48,  57, 361,   1,   8,   9,  19,  39,  47,\n",
       "        60, 365,  17,  35,  37,  37,  38,  39,  40,  53,  57, 335, 344,\n",
       "       365,  21,  21,  52,  57, 340, 347, 348, 365,   3,  21,  29,  58])</pre></div></li></ul></div></li><li class='xr-section-item'><input id='section-36567771-c0b3-4d7e-88df-a668e8b7903c' class='xr-section-summary-in' type='checkbox'  checked><label for='section-36567771-c0b3-4d7e-88df-a668e8b7903c' class='xr-section-summary' >Data variables: <span>(1)</span></label><div class='xr-section-inline-details'></div><div class='xr-section-details'><ul class='xr-var-list'><li class='xr-var-item'><div class='xr-var-name'><span>z</span></div><div class='xr-var-dims'>(time, lat, lon)</div><div class='xr-var-dtype'>float64</div><div class='xr-var-preview xr-preview'>dask.array&lt;chunksize=(1, 249, 259), meta=np.ndarray&gt;</div><input id='attrs-2318694c-c646-4fc1-9eaf-a3d72c449e66' class='xr-var-attrs-in' type='checkbox' disabled><label for='attrs-2318694c-c646-4fc1-9eaf-a3d72c449e66' title='Show/Hide attributes'><svg class='icon xr-icon-file-text2'><use xlink:href='#icon-file-text2'></use></svg></label><input id='data-4b9b5cb5-ce06-49e4-bef3-b14baff4dc48' class='xr-var-data-in' type='checkbox'><label for='data-4b9b5cb5-ce06-49e4-bef3-b14baff4dc48' title='Show/Hide data repr'><svg class='icon xr-icon-database'><use xlink:href='#icon-database'></use></svg></label><div class='xr-var-attrs'><dl class='xr-attrs'></dl></div><div class='xr-var-data'><table>\n",
       "<tr>\n",
       "<td>\n",
       "<table>\n",
       "  <thead>\n",
       "    <tr><td> </td><th> Array </th><th> Chunk </th></tr>\n",
       "  </thead>\n",
       "  <tbody>\n",
       "    <tr><th> Bytes </th><td> 509.74 MB </td> <td> 2.58 MB </td></tr>\n",
       "    <tr><th> Shape </th><td> (988, 249, 259) </td> <td> (5, 249, 259) </td></tr>\n",
       "    <tr><th> Count </th><td> 14190 Tasks </td><td> 917 Chunks </td></tr>\n",
       "    <tr><th> Type </th><td> float64 </td><td> numpy.ndarray </td></tr>\n",
       "  </tbody>\n",
       "</table>\n",
       "</td>\n",
       "<td>\n",
       "<svg width=\"173\" height=\"163\" style=\"stroke:rgb(0,0,0);stroke-width:1\" >\n",
       "\n",
       "  <!-- Horizontal lines -->\n",
       "  <line x1=\"10\" y1=\"0\" x2=\"80\" y2=\"70\" style=\"stroke-width:2\" />\n",
       "  <line x1=\"10\" y1=\"42\" x2=\"80\" y2=\"113\" style=\"stroke-width:2\" />\n",
       "\n",
       "  <!-- Vertical lines -->\n",
       "  <line x1=\"10\" y1=\"0\" x2=\"10\" y2=\"42\" style=\"stroke-width:2\" />\n",
       "  <line x1=\"13\" y1=\"3\" x2=\"13\" y2=\"46\" />\n",
       "  <line x1=\"17\" y1=\"7\" x2=\"17\" y2=\"50\" />\n",
       "  <line x1=\"20\" y1=\"10\" x2=\"20\" y2=\"53\" />\n",
       "  <line x1=\"24\" y1=\"14\" x2=\"24\" y2=\"57\" />\n",
       "  <line x1=\"27\" y1=\"17\" x2=\"27\" y2=\"60\" />\n",
       "  <line x1=\"31\" y1=\"21\" x2=\"31\" y2=\"63\" />\n",
       "  <line x1=\"34\" y1=\"24\" x2=\"34\" y2=\"67\" />\n",
       "  <line x1=\"38\" y1=\"28\" x2=\"38\" y2=\"71\" />\n",
       "  <line x1=\"42\" y1=\"32\" x2=\"42\" y2=\"75\" />\n",
       "  <line x1=\"46\" y1=\"36\" x2=\"46\" y2=\"79\" />\n",
       "  <line x1=\"50\" y1=\"40\" x2=\"50\" y2=\"83\" />\n",
       "  <line x1=\"53\" y1=\"43\" x2=\"53\" y2=\"86\" />\n",
       "  <line x1=\"57\" y1=\"47\" x2=\"57\" y2=\"90\" />\n",
       "  <line x1=\"61\" y1=\"51\" x2=\"61\" y2=\"94\" />\n",
       "  <line x1=\"65\" y1=\"55\" x2=\"65\" y2=\"98\" />\n",
       "  <line x1=\"69\" y1=\"59\" x2=\"69\" y2=\"102\" />\n",
       "  <line x1=\"73\" y1=\"63\" x2=\"73\" y2=\"106\" />\n",
       "  <line x1=\"76\" y1=\"66\" x2=\"76\" y2=\"109\" />\n",
       "  <line x1=\"80\" y1=\"70\" x2=\"80\" y2=\"113\" style=\"stroke-width:2\" />\n",
       "\n",
       "  <!-- Colored Rectangle -->\n",
       "  <polygon points=\"10.0,0.0 80.58823529411765,70.58823529411765 80.58823529411765,113.5171252412823 10.0,42.92888994716465\" style=\"fill:#8B4903A0;stroke-width:0\"/>\n",
       "\n",
       "  <!-- Horizontal lines -->\n",
       "  <line x1=\"10\" y1=\"0\" x2=\"53\" y2=\"0\" style=\"stroke-width:2\" />\n",
       "  <line x1=\"13\" y1=\"3\" x2=\"56\" y2=\"3\" />\n",
       "  <line x1=\"17\" y1=\"7\" x2=\"60\" y2=\"7\" />\n",
       "  <line x1=\"20\" y1=\"10\" x2=\"63\" y2=\"10\" />\n",
       "  <line x1=\"24\" y1=\"14\" x2=\"67\" y2=\"14\" />\n",
       "  <line x1=\"27\" y1=\"17\" x2=\"70\" y2=\"17\" />\n",
       "  <line x1=\"31\" y1=\"21\" x2=\"74\" y2=\"21\" />\n",
       "  <line x1=\"34\" y1=\"24\" x2=\"77\" y2=\"24\" />\n",
       "  <line x1=\"38\" y1=\"28\" x2=\"81\" y2=\"28\" />\n",
       "  <line x1=\"42\" y1=\"32\" x2=\"85\" y2=\"32\" />\n",
       "  <line x1=\"46\" y1=\"36\" x2=\"89\" y2=\"36\" />\n",
       "  <line x1=\"50\" y1=\"40\" x2=\"93\" y2=\"40\" />\n",
       "  <line x1=\"53\" y1=\"43\" x2=\"96\" y2=\"43\" />\n",
       "  <line x1=\"57\" y1=\"47\" x2=\"100\" y2=\"47\" />\n",
       "  <line x1=\"61\" y1=\"51\" x2=\"104\" y2=\"51\" />\n",
       "  <line x1=\"65\" y1=\"55\" x2=\"108\" y2=\"55\" />\n",
       "  <line x1=\"69\" y1=\"59\" x2=\"112\" y2=\"59\" />\n",
       "  <line x1=\"73\" y1=\"63\" x2=\"116\" y2=\"63\" />\n",
       "  <line x1=\"76\" y1=\"66\" x2=\"119\" y2=\"66\" />\n",
       "  <line x1=\"80\" y1=\"70\" x2=\"123\" y2=\"70\" style=\"stroke-width:2\" />\n",
       "\n",
       "  <!-- Vertical lines -->\n",
       "  <line x1=\"10\" y1=\"0\" x2=\"80\" y2=\"70\" style=\"stroke-width:2\" />\n",
       "  <line x1=\"53\" y1=\"0\" x2=\"123\" y2=\"70\" style=\"stroke-width:2\" />\n",
       "\n",
       "  <!-- Colored Rectangle -->\n",
       "  <polygon points=\"10.0,0.0 53.07379636199816,0.0 123.66203165611581,70.58823529411765 80.58823529411765,70.58823529411765\" style=\"fill:#8B4903A0;stroke-width:0\"/>\n",
       "\n",
       "  <!-- Horizontal lines -->\n",
       "  <line x1=\"80\" y1=\"70\" x2=\"123\" y2=\"70\" style=\"stroke-width:2\" />\n",
       "  <line x1=\"80\" y1=\"113\" x2=\"123\" y2=\"113\" style=\"stroke-width:2\" />\n",
       "\n",
       "  <!-- Vertical lines -->\n",
       "  <line x1=\"80\" y1=\"70\" x2=\"80\" y2=\"113\" style=\"stroke-width:2\" />\n",
       "  <line x1=\"123\" y1=\"70\" x2=\"123\" y2=\"113\" style=\"stroke-width:2\" />\n",
       "\n",
       "  <!-- Colored Rectangle -->\n",
       "  <polygon points=\"80.58823529411765,70.58823529411765 123.66203165611581,70.58823529411765 123.66203165611581,113.5171252412823 80.58823529411765,113.5171252412823\" style=\"fill:#ECB172A0;stroke-width:0\"/>\n",
       "\n",
       "  <!-- Text -->\n",
       "  <text x=\"102.125133\" y=\"133.517125\" font-size=\"1.0rem\" font-weight=\"100\" text-anchor=\"middle\" >259</text>\n",
       "  <text x=\"143.662032\" y=\"92.052680\" font-size=\"1.0rem\" font-weight=\"100\" text-anchor=\"middle\" transform=\"rotate(-90,143.662032,92.052680)\">249</text>\n",
       "  <text x=\"35.294118\" y=\"98.223008\" font-size=\"1.0rem\" font-weight=\"100\" text-anchor=\"middle\" transform=\"rotate(45,35.294118,98.223008)\">988</text>\n",
       "</svg>\n",
       "</td>\n",
       "</tr>\n",
       "</table></div></li></ul></div></li><li class='xr-section-item'><input id='section-b8850329-0041-41de-98cf-fb4647a37565' class='xr-section-summary-in' type='checkbox' disabled ><label for='section-b8850329-0041-41de-98cf-fb4647a37565' class='xr-section-summary'  title='Expand/collapse section'>Attributes: <span>(0)</span></label><div class='xr-section-inline-details'></div><div class='xr-section-details'><dl class='xr-attrs'></dl></div></li></ul></div></div>"
      ],
      "text/plain": [
       "<xarray.Dataset>\n",
       "Dimensions:    (time: 988, lat: 249, lon: 259)\n",
       "Coordinates:\n",
       "  * time       (time) datetime64[ns] 1979-12-02 1979-12-01 ... 2015-02-27\n",
       "  * lat        (lat) float32 16.43 16.63 16.83 17.02 ... 55.8 55.92 56.04 56.15\n",
       "  * lon        (lon) float32 60.2 60.41 60.62 60.83 ... 113.2 113.4 113.6 113.8\n",
       "    dayofyear  (time) int64 336 335 343 342 350 351 355 ... 348 365 3 21 29 58\n",
       "Data variables:\n",
       "    z          (time, lat, lon) float64 dask.array<chunksize=(1, 249, 259), meta=np.ndarray>"
      ]
     },
     "execution_count": 79,
     "metadata": {},
     "output_type": "execute_result"
    }
   ],
   "source": [
    "# get list of dates that ar is present\n",
    "ar_dates = pd.to_datetime(df['date']).values\n",
    "# subset freezing level to just ar days\n",
    "anomalies = anomalies.sel(time = ar_dates)\n",
    "anomalies"
   ]
  },
  {
   "cell_type": "code",
   "execution_count": 80,
   "metadata": {},
   "outputs": [
    {
     "name": "stdout",
     "output_type": "stream",
     "text": [
      "CPU times: user 2.31 s, sys: 575 ms, total: 2.89 s\n",
      "Wall time: 3.43 s\n"
     ]
    }
   ],
   "source": [
    "%%time\n",
    "## Calculate low freezing (x - mean < - 1.5*std)\n",
    "low_freezing = anomalies.where(anomalies.z.groupby('time.dayofyear') < clim_std.z*-1.)\n",
    "## Calculate high freezing (x - mean > 1.5*std)\n",
    "high_freezing = anomalies.where(anomalies.z.groupby('time.dayofyear') > clim_std.z*1.)"
   ]
  },
  {
   "cell_type": "code",
   "execution_count": 81,
   "metadata": {},
   "outputs": [
    {
     "name": "stdout",
     "output_type": "stream",
     "text": [
      "CPU times: user 1min 24s, sys: 59.1 s, total: 2min 23s\n",
      "Wall time: 1min 56s\n"
     ]
    },
    {
     "data": {
      "text/plain": [
       "[<xarray.Dataset>\n",
       " Dimensions:    (time: 988, lat: 29, lon: 39)\n",
       " Coordinates:\n",
       "   * time       (time) datetime64[ns] 1979-12-02 1979-12-01 ... 2015-02-27\n",
       "   * lat        (lat) float32 32.08 32.25 32.43 32.6 ... 36.37 36.54 36.7 36.87\n",
       "   * lon        (lon) float32 71.01 71.21 71.42 71.63 ... 78.28 78.48 78.69 78.9\n",
       "     dayofyear  (time) int64 336 335 343 342 350 351 355 ... 348 365 3 21 29 58\n",
       " Data variables:\n",
       "     z          (time, lat, lon) float64 nan nan nan nan nan ... nan nan nan nan,\n",
       " <xarray.Dataset>\n",
       " Dimensions:    (time: 988, lat: 19, lon: 24)\n",
       " Coordinates:\n",
       "   * time       (time) datetime64[ns] 1979-12-02 1979-12-01 ... 2015-02-27\n",
       "   * lat        (lat) float32 37.04 37.2 37.37 37.53 ... 39.48 39.64 39.8 39.96\n",
       "   * lon        (lon) float32 69.14 69.34 69.55 69.76 ... 73.29 73.5 73.71 73.91\n",
       "     dayofyear  (time) int64 336 335 343 342 350 351 355 ... 348 365 3 21 29 58\n",
       " Data variables:\n",
       "     z          (time, lat, lon) float64 nan nan nan nan nan ... nan nan nan nan,\n",
       " <xarray.Dataset>\n",
       " Dimensions:    (time: 988, lat: 33, lon: 43)\n",
       " Coordinates:\n",
       "   * time       (time) datetime64[ns] 1979-12-02 1979-12-01 ... 2015-02-27\n",
       "   * lat        (lat) float32 24.02 24.21 24.4 24.59 ... 29.4 29.58 29.76 29.94\n",
       "   * lon        (lon) float32 90.12 90.32 90.53 90.74 ... 98.22 98.42 98.63 98.84\n",
       "     dayofyear  (time) int64 336 335 343 342 350 351 355 ... 348 365 3 21 29 58\n",
       " Data variables:\n",
       "     z          (time, lat, lon) float64 nan nan -415.3 -443.8 ... nan nan nan]"
      ]
     },
     "execution_count": 81,
     "metadata": {},
     "output_type": "execute_result"
    }
   ],
   "source": [
    "%%time\n",
    "# make a ds for each subregion\n",
    "ds_low = []\n",
    "ds_high = []\n",
    "for i, dom in enumerate(domains):\n",
    "    tmp = low_freezing.sel(lon=slice(dom[0], dom[1]), lat=slice(dom[2], dom[3]))\n",
    "    ds_low.append(tmp.load())\n",
    "    tmp = high_freezing.sel(lon=slice(dom[0], dom[1]), lat=slice(dom[2], dom[3]))\n",
    "    ds_high.append(tmp.load())\n",
    "ds_low"
   ]
  },
  {
   "cell_type": "code",
   "execution_count": 82,
   "metadata": {},
   "outputs": [
    {
     "name": "stdout",
     "output_type": "stream",
     "text": [
      "CPU times: user 127 ms, sys: 18.8 ms, total: 146 ms\n",
      "Wall time: 156 ms\n"
     ]
    },
    {
     "name": "stderr",
     "output_type": "stream",
     "text": [
      "/home/sbarc/students/nash/miniconda3/envs/hasia2/lib/python3.7/site-packages/ipykernel_launcher.py:10: RuntimeWarning: Mean of empty slice\n",
      "  # Remove the CWD from sys.path while we load stuff.\n",
      "/home/sbarc/students/nash/miniconda3/envs/hasia2/lib/python3.7/site-packages/ipykernel_launcher.py:21: RuntimeWarning: Mean of empty slice\n"
     ]
    },
    {
     "data": {
      "text/html": [
       "<div>\n",
       "<style scoped>\n",
       "    .dataframe tbody tr th:only-of-type {\n",
       "        vertical-align: middle;\n",
       "    }\n",
       "\n",
       "    .dataframe tbody tr th {\n",
       "        vertical-align: top;\n",
       "    }\n",
       "\n",
       "    .dataframe thead th {\n",
       "        text-align: right;\n",
       "    }\n",
       "</style>\n",
       "<table border=\"1\" class=\"dataframe\">\n",
       "  <thead>\n",
       "    <tr style=\"text-align: right;\">\n",
       "      <th></th>\n",
       "      <th>date</th>\n",
       "      <th>trackID</th>\n",
       "      <th>ar_cat</th>\n",
       "      <th>start_date</th>\n",
       "      <th>end_date</th>\n",
       "      <th>duration</th>\n",
       "      <th>landslideID</th>\n",
       "      <th>landslide_lat</th>\n",
       "      <th>landslide_lon</th>\n",
       "      <th>prec</th>\n",
       "      <th>ivt</th>\n",
       "      <th>ivtdir</th>\n",
       "      <th>western_low</th>\n",
       "      <th>western_high</th>\n",
       "      <th>northwestern_low</th>\n",
       "      <th>northwestern_high</th>\n",
       "      <th>eastern_low</th>\n",
       "      <th>eastern_high</th>\n",
       "    </tr>\n",
       "  </thead>\n",
       "  <tbody>\n",
       "    <tr>\n",
       "      <th>0</th>\n",
       "      <td>1979-12-02</td>\n",
       "      <td>2861.0</td>\n",
       "      <td>1.0</td>\n",
       "      <td>1979-12-02 00:00:00</td>\n",
       "      <td>1979-12-02 18:00:00</td>\n",
       "      <td>18.0</td>\n",
       "      <td>NaN</td>\n",
       "      <td>NaN</td>\n",
       "      <td>NaN</td>\n",
       "      <td>13.718994</td>\n",
       "      <td>152.087860</td>\n",
       "      <td>224.91021331187994 degree</td>\n",
       "      <td>-171.727932</td>\n",
       "      <td>410.474576</td>\n",
       "      <td>-277.262466</td>\n",
       "      <td>254.583280</td>\n",
       "      <td>-556.359117</td>\n",
       "      <td>243.805053</td>\n",
       "    </tr>\n",
       "    <tr>\n",
       "      <th>1</th>\n",
       "      <td>1979-12-01</td>\n",
       "      <td>2861.0</td>\n",
       "      <td>2.0</td>\n",
       "      <td>1979-12-01 00:00:00</td>\n",
       "      <td>1979-12-02 00:00:00</td>\n",
       "      <td>24.0</td>\n",
       "      <td>NaN</td>\n",
       "      <td>NaN</td>\n",
       "      <td>NaN</td>\n",
       "      <td>17.533569</td>\n",
       "      <td>245.002441</td>\n",
       "      <td>220.23760859065467 degree</td>\n",
       "      <td>NaN</td>\n",
       "      <td>538.542225</td>\n",
       "      <td>NaN</td>\n",
       "      <td>550.066162</td>\n",
       "      <td>-687.720702</td>\n",
       "      <td>324.721934</td>\n",
       "    </tr>\n",
       "    <tr>\n",
       "      <th>2</th>\n",
       "      <td>1979-12-09</td>\n",
       "      <td>2871.0</td>\n",
       "      <td>1.0</td>\n",
       "      <td>1979-12-09 06:00:00</td>\n",
       "      <td>1979-12-09 18:00:00</td>\n",
       "      <td>12.0</td>\n",
       "      <td>NaN</td>\n",
       "      <td>NaN</td>\n",
       "      <td>NaN</td>\n",
       "      <td>5.676636</td>\n",
       "      <td>108.576300</td>\n",
       "      <td>231.68037841051355 degree</td>\n",
       "      <td>NaN</td>\n",
       "      <td>570.413285</td>\n",
       "      <td>NaN</td>\n",
       "      <td>264.630210</td>\n",
       "      <td>-638.594000</td>\n",
       "      <td>186.723207</td>\n",
       "    </tr>\n",
       "    <tr>\n",
       "      <th>3</th>\n",
       "      <td>1979-12-08</td>\n",
       "      <td>2871.0</td>\n",
       "      <td>2.0</td>\n",
       "      <td>1979-12-08 06:00:00</td>\n",
       "      <td>1979-12-09 00:00:00</td>\n",
       "      <td>18.0</td>\n",
       "      <td>NaN</td>\n",
       "      <td>NaN</td>\n",
       "      <td>NaN</td>\n",
       "      <td>8.985474</td>\n",
       "      <td>149.770879</td>\n",
       "      <td>237.0652245325259 degree</td>\n",
       "      <td>-264.049377</td>\n",
       "      <td>562.519768</td>\n",
       "      <td>NaN</td>\n",
       "      <td>525.196476</td>\n",
       "      <td>-593.690705</td>\n",
       "      <td>217.179775</td>\n",
       "    </tr>\n",
       "    <tr>\n",
       "      <th>4</th>\n",
       "      <td>1979-12-16</td>\n",
       "      <td>2975.0</td>\n",
       "      <td>1.0</td>\n",
       "      <td>1979-12-16 12:00:00</td>\n",
       "      <td>1979-12-17 00:00:00</td>\n",
       "      <td>12.0</td>\n",
       "      <td>NaN</td>\n",
       "      <td>NaN</td>\n",
       "      <td>NaN</td>\n",
       "      <td>NaN</td>\n",
       "      <td>69.228194</td>\n",
       "      <td>270.4320425315212 degree</td>\n",
       "      <td>-232.334706</td>\n",
       "      <td>151.812409</td>\n",
       "      <td>NaN</td>\n",
       "      <td>528.596253</td>\n",
       "      <td>-659.495027</td>\n",
       "      <td>NaN</td>\n",
       "    </tr>\n",
       "    <tr>\n",
       "      <th>...</th>\n",
       "      <td>...</td>\n",
       "      <td>...</td>\n",
       "      <td>...</td>\n",
       "      <td>...</td>\n",
       "      <td>...</td>\n",
       "      <td>...</td>\n",
       "      <td>...</td>\n",
       "      <td>...</td>\n",
       "      <td>...</td>\n",
       "      <td>...</td>\n",
       "      <td>...</td>\n",
       "      <td>...</td>\n",
       "      <td>...</td>\n",
       "      <td>...</td>\n",
       "      <td>...</td>\n",
       "      <td>...</td>\n",
       "      <td>...</td>\n",
       "      <td>...</td>\n",
       "    </tr>\n",
       "    <tr>\n",
       "      <th>983</th>\n",
       "      <td>2014-12-31</td>\n",
       "      <td>114196.0</td>\n",
       "      <td>3.0</td>\n",
       "      <td>2014-12-31 18:00:00</td>\n",
       "      <td>2015-01-03 12:00:00</td>\n",
       "      <td>66.0</td>\n",
       "      <td>NaN</td>\n",
       "      <td>NaN</td>\n",
       "      <td>NaN</td>\n",
       "      <td>4.890137</td>\n",
       "      <td>340.884138</td>\n",
       "      <td>240.43672607892813 degree</td>\n",
       "      <td>-181.423361</td>\n",
       "      <td>NaN</td>\n",
       "      <td>NaN</td>\n",
       "      <td>NaN</td>\n",
       "      <td>-153.051697</td>\n",
       "      <td>620.529686</td>\n",
       "    </tr>\n",
       "    <tr>\n",
       "      <th>984</th>\n",
       "      <td>2015-01-03</td>\n",
       "      <td>114217.0</td>\n",
       "      <td>3.0</td>\n",
       "      <td>2015-01-03 18:00:00</td>\n",
       "      <td>2015-01-04 00:00:00</td>\n",
       "      <td>6.0</td>\n",
       "      <td>NaN</td>\n",
       "      <td>NaN</td>\n",
       "      <td>NaN</td>\n",
       "      <td>4.515137</td>\n",
       "      <td>375.217412</td>\n",
       "      <td>250.3772879757895 degree</td>\n",
       "      <td>-266.148849</td>\n",
       "      <td>NaN</td>\n",
       "      <td>-270.614868</td>\n",
       "      <td>NaN</td>\n",
       "      <td>-153.740778</td>\n",
       "      <td>740.600011</td>\n",
       "    </tr>\n",
       "    <tr>\n",
       "      <th>985</th>\n",
       "      <td>2015-01-21</td>\n",
       "      <td>114363.0</td>\n",
       "      <td>3.0</td>\n",
       "      <td>2015-01-21 06:00:00</td>\n",
       "      <td>2015-01-22 06:00:00</td>\n",
       "      <td>24.0</td>\n",
       "      <td>NaN</td>\n",
       "      <td>NaN</td>\n",
       "      <td>NaN</td>\n",
       "      <td>NaN</td>\n",
       "      <td>61.715181</td>\n",
       "      <td>188.15285286031184 degree</td>\n",
       "      <td>-535.461933</td>\n",
       "      <td>NaN</td>\n",
       "      <td>-215.308616</td>\n",
       "      <td>NaN</td>\n",
       "      <td>-140.994532</td>\n",
       "      <td>221.152453</td>\n",
       "    </tr>\n",
       "    <tr>\n",
       "      <th>986</th>\n",
       "      <td>2015-01-29</td>\n",
       "      <td>114402.0</td>\n",
       "      <td>3.0</td>\n",
       "      <td>2015-01-29 12:00:00</td>\n",
       "      <td>2015-01-30 18:00:00</td>\n",
       "      <td>30.0</td>\n",
       "      <td>NaN</td>\n",
       "      <td>NaN</td>\n",
       "      <td>NaN</td>\n",
       "      <td>48.576172</td>\n",
       "      <td>265.416884</td>\n",
       "      <td>277.25970342681023 degree</td>\n",
       "      <td>-658.230455</td>\n",
       "      <td>NaN</td>\n",
       "      <td>-452.952213</td>\n",
       "      <td>NaN</td>\n",
       "      <td>-149.184701</td>\n",
       "      <td>NaN</td>\n",
       "    </tr>\n",
       "    <tr>\n",
       "      <th>987</th>\n",
       "      <td>2015-02-27</td>\n",
       "      <td>114668.0</td>\n",
       "      <td>3.0</td>\n",
       "      <td>2015-02-27 12:00:00</td>\n",
       "      <td>2015-02-27 18:00:00</td>\n",
       "      <td>6.0</td>\n",
       "      <td>NaN</td>\n",
       "      <td>NaN</td>\n",
       "      <td>NaN</td>\n",
       "      <td>22.015625</td>\n",
       "      <td>261.823649</td>\n",
       "      <td>250.22261957816355 degree</td>\n",
       "      <td>-536.228934</td>\n",
       "      <td>NaN</td>\n",
       "      <td>-1121.743124</td>\n",
       "      <td>NaN</td>\n",
       "      <td>-138.967002</td>\n",
       "      <td>257.131102</td>\n",
       "    </tr>\n",
       "  </tbody>\n",
       "</table>\n",
       "<p>988 rows × 18 columns</p>\n",
       "</div>"
      ],
      "text/plain": [
       "           date   trackID  ar_cat          start_date            end_date  \\\n",
       "0    1979-12-02    2861.0     1.0 1979-12-02 00:00:00 1979-12-02 18:00:00   \n",
       "1    1979-12-01    2861.0     2.0 1979-12-01 00:00:00 1979-12-02 00:00:00   \n",
       "2    1979-12-09    2871.0     1.0 1979-12-09 06:00:00 1979-12-09 18:00:00   \n",
       "3    1979-12-08    2871.0     2.0 1979-12-08 06:00:00 1979-12-09 00:00:00   \n",
       "4    1979-12-16    2975.0     1.0 1979-12-16 12:00:00 1979-12-17 00:00:00   \n",
       "..          ...       ...     ...                 ...                 ...   \n",
       "983  2014-12-31  114196.0     3.0 2014-12-31 18:00:00 2015-01-03 12:00:00   \n",
       "984  2015-01-03  114217.0     3.0 2015-01-03 18:00:00 2015-01-04 00:00:00   \n",
       "985  2015-01-21  114363.0     3.0 2015-01-21 06:00:00 2015-01-22 06:00:00   \n",
       "986  2015-01-29  114402.0     3.0 2015-01-29 12:00:00 2015-01-30 18:00:00   \n",
       "987  2015-02-27  114668.0     3.0 2015-02-27 12:00:00 2015-02-27 18:00:00   \n",
       "\n",
       "     duration  landslideID  landslide_lat  landslide_lon       prec  \\\n",
       "0        18.0          NaN            NaN            NaN  13.718994   \n",
       "1        24.0          NaN            NaN            NaN  17.533569   \n",
       "2        12.0          NaN            NaN            NaN   5.676636   \n",
       "3        18.0          NaN            NaN            NaN   8.985474   \n",
       "4        12.0          NaN            NaN            NaN        NaN   \n",
       "..        ...          ...            ...            ...        ...   \n",
       "983      66.0          NaN            NaN            NaN   4.890137   \n",
       "984       6.0          NaN            NaN            NaN   4.515137   \n",
       "985      24.0          NaN            NaN            NaN        NaN   \n",
       "986      30.0          NaN            NaN            NaN  48.576172   \n",
       "987       6.0          NaN            NaN            NaN  22.015625   \n",
       "\n",
       "            ivt                     ivtdir  western_low  western_high  \\\n",
       "0    152.087860  224.91021331187994 degree  -171.727932    410.474576   \n",
       "1    245.002441  220.23760859065467 degree          NaN    538.542225   \n",
       "2    108.576300  231.68037841051355 degree          NaN    570.413285   \n",
       "3    149.770879   237.0652245325259 degree  -264.049377    562.519768   \n",
       "4     69.228194   270.4320425315212 degree  -232.334706    151.812409   \n",
       "..          ...                        ...          ...           ...   \n",
       "983  340.884138  240.43672607892813 degree  -181.423361           NaN   \n",
       "984  375.217412   250.3772879757895 degree  -266.148849           NaN   \n",
       "985   61.715181  188.15285286031184 degree  -535.461933           NaN   \n",
       "986  265.416884  277.25970342681023 degree  -658.230455           NaN   \n",
       "987  261.823649  250.22261957816355 degree  -536.228934           NaN   \n",
       "\n",
       "     northwestern_low  northwestern_high  eastern_low  eastern_high  \n",
       "0         -277.262466         254.583280  -556.359117    243.805053  \n",
       "1                 NaN         550.066162  -687.720702    324.721934  \n",
       "2                 NaN         264.630210  -638.594000    186.723207  \n",
       "3                 NaN         525.196476  -593.690705    217.179775  \n",
       "4                 NaN         528.596253  -659.495027           NaN  \n",
       "..                ...                ...          ...           ...  \n",
       "983               NaN                NaN  -153.051697    620.529686  \n",
       "984       -270.614868                NaN  -153.740778    740.600011  \n",
       "985       -215.308616                NaN  -140.994532    221.152453  \n",
       "986       -452.952213                NaN  -149.184701           NaN  \n",
       "987      -1121.743124                NaN  -138.967002    257.131102  \n",
       "\n",
       "[988 rows x 18 columns]"
      ]
     },
     "execution_count": 82,
     "metadata": {},
     "output_type": "execute_result"
    }
   ],
   "source": [
    "%%time\n",
    "## this version takes the average value in the subregion\n",
    "for i, region in enumerate(region_name):\n",
    "    ## compute low freezing level\n",
    "    x = ds_low[i].z.values\n",
    "    # flatten array to 2D so it is ntimes, nlat*nlon\n",
    "    ntimes, nlats, nlons = x.shape\n",
    "    x = x.reshape(ntimes, nlats*nlons)\n",
    "    \n",
    "    # calculate mean, skipping nans\n",
    "    low = np.nanmean(x, axis=1)\n",
    "    colname = region + '_low'\n",
    "    df[colname] = low\n",
    "\n",
    "    ## compute high freezing level\n",
    "    x = ds_high[i].z.values\n",
    "    # flatten array to 2D so it is ntimes, nlat*nlon\n",
    "    ntimes, nlats, nlons = x.shape\n",
    "    x = x.reshape(ntimes, nlats*nlons)\n",
    "\n",
    "    # count number of True for each time step\n",
    "    high = np.nanmean(x, axis=1)\n",
    "    colname = region + '_high'\n",
    "    df[colname] = high\n",
    "\n",
    "\n",
    "df"
   ]
  },
  {
   "cell_type": "code",
   "execution_count": 83,
   "metadata": {},
   "outputs": [
    {
     "name": "stdout",
     "output_type": "stream",
     "text": [
      "CPU times: user 52.9 ms, sys: 5.34 ms, total: 58.2 ms\n",
      "Wall time: 55 ms\n"
     ]
    },
    {
     "data": {
      "text/html": [
       "<div>\n",
       "<style scoped>\n",
       "    .dataframe tbody tr th:only-of-type {\n",
       "        vertical-align: middle;\n",
       "    }\n",
       "\n",
       "    .dataframe tbody tr th {\n",
       "        vertical-align: top;\n",
       "    }\n",
       "\n",
       "    .dataframe thead th {\n",
       "        text-align: right;\n",
       "    }\n",
       "</style>\n",
       "<table border=\"1\" class=\"dataframe\">\n",
       "  <thead>\n",
       "    <tr style=\"text-align: right;\">\n",
       "      <th></th>\n",
       "      <th>date</th>\n",
       "      <th>trackID</th>\n",
       "      <th>ar_cat</th>\n",
       "      <th>start_date</th>\n",
       "      <th>end_date</th>\n",
       "      <th>duration</th>\n",
       "      <th>landslideID</th>\n",
       "      <th>landslide_lat</th>\n",
       "      <th>landslide_lon</th>\n",
       "      <th>prec</th>\n",
       "      <th>...</th>\n",
       "      <th>ivtdir</th>\n",
       "      <th>western_low</th>\n",
       "      <th>western_high</th>\n",
       "      <th>northwestern_low</th>\n",
       "      <th>northwestern_high</th>\n",
       "      <th>eastern_low</th>\n",
       "      <th>eastern_high</th>\n",
       "      <th>western_freeze</th>\n",
       "      <th>northwestern_freeze</th>\n",
       "      <th>eastern_freeze</th>\n",
       "    </tr>\n",
       "  </thead>\n",
       "  <tbody>\n",
       "    <tr>\n",
       "      <th>0</th>\n",
       "      <td>1979-12-02</td>\n",
       "      <td>2861.0</td>\n",
       "      <td>1.0</td>\n",
       "      <td>1979-12-02 00:00:00</td>\n",
       "      <td>1979-12-02 18:00:00</td>\n",
       "      <td>18.0</td>\n",
       "      <td>NaN</td>\n",
       "      <td>NaN</td>\n",
       "      <td>NaN</td>\n",
       "      <td>13.718994</td>\n",
       "      <td>...</td>\n",
       "      <td>224.91021331187994 degree</td>\n",
       "      <td>-171.727932</td>\n",
       "      <td>410.474576</td>\n",
       "      <td>-277.262466</td>\n",
       "      <td>254.583280</td>\n",
       "      <td>-556.359117</td>\n",
       "      <td>243.805053</td>\n",
       "      <td>1</td>\n",
       "      <td>1</td>\n",
       "      <td>-1</td>\n",
       "    </tr>\n",
       "    <tr>\n",
       "      <th>1</th>\n",
       "      <td>1979-12-01</td>\n",
       "      <td>2861.0</td>\n",
       "      <td>2.0</td>\n",
       "      <td>1979-12-01 00:00:00</td>\n",
       "      <td>1979-12-02 00:00:00</td>\n",
       "      <td>24.0</td>\n",
       "      <td>NaN</td>\n",
       "      <td>NaN</td>\n",
       "      <td>NaN</td>\n",
       "      <td>17.533569</td>\n",
       "      <td>...</td>\n",
       "      <td>220.23760859065467 degree</td>\n",
       "      <td>NaN</td>\n",
       "      <td>538.542225</td>\n",
       "      <td>NaN</td>\n",
       "      <td>550.066162</td>\n",
       "      <td>-687.720702</td>\n",
       "      <td>324.721934</td>\n",
       "      <td>1</td>\n",
       "      <td>1</td>\n",
       "      <td>-1</td>\n",
       "    </tr>\n",
       "    <tr>\n",
       "      <th>2</th>\n",
       "      <td>1979-12-09</td>\n",
       "      <td>2871.0</td>\n",
       "      <td>1.0</td>\n",
       "      <td>1979-12-09 06:00:00</td>\n",
       "      <td>1979-12-09 18:00:00</td>\n",
       "      <td>12.0</td>\n",
       "      <td>NaN</td>\n",
       "      <td>NaN</td>\n",
       "      <td>NaN</td>\n",
       "      <td>5.676636</td>\n",
       "      <td>...</td>\n",
       "      <td>231.68037841051355 degree</td>\n",
       "      <td>NaN</td>\n",
       "      <td>570.413285</td>\n",
       "      <td>NaN</td>\n",
       "      <td>264.630210</td>\n",
       "      <td>-638.594000</td>\n",
       "      <td>186.723207</td>\n",
       "      <td>1</td>\n",
       "      <td>1</td>\n",
       "      <td>-1</td>\n",
       "    </tr>\n",
       "    <tr>\n",
       "      <th>3</th>\n",
       "      <td>1979-12-08</td>\n",
       "      <td>2871.0</td>\n",
       "      <td>2.0</td>\n",
       "      <td>1979-12-08 06:00:00</td>\n",
       "      <td>1979-12-09 00:00:00</td>\n",
       "      <td>18.0</td>\n",
       "      <td>NaN</td>\n",
       "      <td>NaN</td>\n",
       "      <td>NaN</td>\n",
       "      <td>8.985474</td>\n",
       "      <td>...</td>\n",
       "      <td>237.0652245325259 degree</td>\n",
       "      <td>-264.049377</td>\n",
       "      <td>562.519768</td>\n",
       "      <td>NaN</td>\n",
       "      <td>525.196476</td>\n",
       "      <td>-593.690705</td>\n",
       "      <td>217.179775</td>\n",
       "      <td>1</td>\n",
       "      <td>1</td>\n",
       "      <td>-1</td>\n",
       "    </tr>\n",
       "    <tr>\n",
       "      <th>4</th>\n",
       "      <td>1979-12-16</td>\n",
       "      <td>2975.0</td>\n",
       "      <td>1.0</td>\n",
       "      <td>1979-12-16 12:00:00</td>\n",
       "      <td>1979-12-17 00:00:00</td>\n",
       "      <td>12.0</td>\n",
       "      <td>NaN</td>\n",
       "      <td>NaN</td>\n",
       "      <td>NaN</td>\n",
       "      <td>NaN</td>\n",
       "      <td>...</td>\n",
       "      <td>270.4320425315212 degree</td>\n",
       "      <td>-232.334706</td>\n",
       "      <td>151.812409</td>\n",
       "      <td>NaN</td>\n",
       "      <td>528.596253</td>\n",
       "      <td>-659.495027</td>\n",
       "      <td>NaN</td>\n",
       "      <td>1</td>\n",
       "      <td>1</td>\n",
       "      <td>-1</td>\n",
       "    </tr>\n",
       "    <tr>\n",
       "      <th>...</th>\n",
       "      <td>...</td>\n",
       "      <td>...</td>\n",
       "      <td>...</td>\n",
       "      <td>...</td>\n",
       "      <td>...</td>\n",
       "      <td>...</td>\n",
       "      <td>...</td>\n",
       "      <td>...</td>\n",
       "      <td>...</td>\n",
       "      <td>...</td>\n",
       "      <td>...</td>\n",
       "      <td>...</td>\n",
       "      <td>...</td>\n",
       "      <td>...</td>\n",
       "      <td>...</td>\n",
       "      <td>...</td>\n",
       "      <td>...</td>\n",
       "      <td>...</td>\n",
       "      <td>...</td>\n",
       "      <td>...</td>\n",
       "      <td>...</td>\n",
       "    </tr>\n",
       "    <tr>\n",
       "      <th>983</th>\n",
       "      <td>2014-12-31</td>\n",
       "      <td>114196.0</td>\n",
       "      <td>3.0</td>\n",
       "      <td>2014-12-31 18:00:00</td>\n",
       "      <td>2015-01-03 12:00:00</td>\n",
       "      <td>66.0</td>\n",
       "      <td>NaN</td>\n",
       "      <td>NaN</td>\n",
       "      <td>NaN</td>\n",
       "      <td>4.890137</td>\n",
       "      <td>...</td>\n",
       "      <td>240.43672607892813 degree</td>\n",
       "      <td>-181.423361</td>\n",
       "      <td>NaN</td>\n",
       "      <td>NaN</td>\n",
       "      <td>NaN</td>\n",
       "      <td>-153.051697</td>\n",
       "      <td>620.529686</td>\n",
       "      <td>-1</td>\n",
       "      <td>0</td>\n",
       "      <td>1</td>\n",
       "    </tr>\n",
       "    <tr>\n",
       "      <th>984</th>\n",
       "      <td>2015-01-03</td>\n",
       "      <td>114217.0</td>\n",
       "      <td>3.0</td>\n",
       "      <td>2015-01-03 18:00:00</td>\n",
       "      <td>2015-01-04 00:00:00</td>\n",
       "      <td>6.0</td>\n",
       "      <td>NaN</td>\n",
       "      <td>NaN</td>\n",
       "      <td>NaN</td>\n",
       "      <td>4.515137</td>\n",
       "      <td>...</td>\n",
       "      <td>250.3772879757895 degree</td>\n",
       "      <td>-266.148849</td>\n",
       "      <td>NaN</td>\n",
       "      <td>-270.614868</td>\n",
       "      <td>NaN</td>\n",
       "      <td>-153.740778</td>\n",
       "      <td>740.600011</td>\n",
       "      <td>-1</td>\n",
       "      <td>-1</td>\n",
       "      <td>1</td>\n",
       "    </tr>\n",
       "    <tr>\n",
       "      <th>985</th>\n",
       "      <td>2015-01-21</td>\n",
       "      <td>114363.0</td>\n",
       "      <td>3.0</td>\n",
       "      <td>2015-01-21 06:00:00</td>\n",
       "      <td>2015-01-22 06:00:00</td>\n",
       "      <td>24.0</td>\n",
       "      <td>NaN</td>\n",
       "      <td>NaN</td>\n",
       "      <td>NaN</td>\n",
       "      <td>NaN</td>\n",
       "      <td>...</td>\n",
       "      <td>188.15285286031184 degree</td>\n",
       "      <td>-535.461933</td>\n",
       "      <td>NaN</td>\n",
       "      <td>-215.308616</td>\n",
       "      <td>NaN</td>\n",
       "      <td>-140.994532</td>\n",
       "      <td>221.152453</td>\n",
       "      <td>-1</td>\n",
       "      <td>-1</td>\n",
       "      <td>1</td>\n",
       "    </tr>\n",
       "    <tr>\n",
       "      <th>986</th>\n",
       "      <td>2015-01-29</td>\n",
       "      <td>114402.0</td>\n",
       "      <td>3.0</td>\n",
       "      <td>2015-01-29 12:00:00</td>\n",
       "      <td>2015-01-30 18:00:00</td>\n",
       "      <td>30.0</td>\n",
       "      <td>NaN</td>\n",
       "      <td>NaN</td>\n",
       "      <td>NaN</td>\n",
       "      <td>48.576172</td>\n",
       "      <td>...</td>\n",
       "      <td>277.25970342681023 degree</td>\n",
       "      <td>-658.230455</td>\n",
       "      <td>NaN</td>\n",
       "      <td>-452.952213</td>\n",
       "      <td>NaN</td>\n",
       "      <td>-149.184701</td>\n",
       "      <td>NaN</td>\n",
       "      <td>-1</td>\n",
       "      <td>-1</td>\n",
       "      <td>-1</td>\n",
       "    </tr>\n",
       "    <tr>\n",
       "      <th>987</th>\n",
       "      <td>2015-02-27</td>\n",
       "      <td>114668.0</td>\n",
       "      <td>3.0</td>\n",
       "      <td>2015-02-27 12:00:00</td>\n",
       "      <td>2015-02-27 18:00:00</td>\n",
       "      <td>6.0</td>\n",
       "      <td>NaN</td>\n",
       "      <td>NaN</td>\n",
       "      <td>NaN</td>\n",
       "      <td>22.015625</td>\n",
       "      <td>...</td>\n",
       "      <td>250.22261957816355 degree</td>\n",
       "      <td>-536.228934</td>\n",
       "      <td>NaN</td>\n",
       "      <td>-1121.743124</td>\n",
       "      <td>NaN</td>\n",
       "      <td>-138.967002</td>\n",
       "      <td>257.131102</td>\n",
       "      <td>-1</td>\n",
       "      <td>-1</td>\n",
       "      <td>-1</td>\n",
       "    </tr>\n",
       "  </tbody>\n",
       "</table>\n",
       "<p>988 rows × 21 columns</p>\n",
       "</div>"
      ],
      "text/plain": [
       "           date   trackID  ar_cat          start_date            end_date  \\\n",
       "0    1979-12-02    2861.0     1.0 1979-12-02 00:00:00 1979-12-02 18:00:00   \n",
       "1    1979-12-01    2861.0     2.0 1979-12-01 00:00:00 1979-12-02 00:00:00   \n",
       "2    1979-12-09    2871.0     1.0 1979-12-09 06:00:00 1979-12-09 18:00:00   \n",
       "3    1979-12-08    2871.0     2.0 1979-12-08 06:00:00 1979-12-09 00:00:00   \n",
       "4    1979-12-16    2975.0     1.0 1979-12-16 12:00:00 1979-12-17 00:00:00   \n",
       "..          ...       ...     ...                 ...                 ...   \n",
       "983  2014-12-31  114196.0     3.0 2014-12-31 18:00:00 2015-01-03 12:00:00   \n",
       "984  2015-01-03  114217.0     3.0 2015-01-03 18:00:00 2015-01-04 00:00:00   \n",
       "985  2015-01-21  114363.0     3.0 2015-01-21 06:00:00 2015-01-22 06:00:00   \n",
       "986  2015-01-29  114402.0     3.0 2015-01-29 12:00:00 2015-01-30 18:00:00   \n",
       "987  2015-02-27  114668.0     3.0 2015-02-27 12:00:00 2015-02-27 18:00:00   \n",
       "\n",
       "     duration  landslideID  landslide_lat  landslide_lon       prec  ...  \\\n",
       "0        18.0          NaN            NaN            NaN  13.718994  ...   \n",
       "1        24.0          NaN            NaN            NaN  17.533569  ...   \n",
       "2        12.0          NaN            NaN            NaN   5.676636  ...   \n",
       "3        18.0          NaN            NaN            NaN   8.985474  ...   \n",
       "4        12.0          NaN            NaN            NaN        NaN  ...   \n",
       "..        ...          ...            ...            ...        ...  ...   \n",
       "983      66.0          NaN            NaN            NaN   4.890137  ...   \n",
       "984       6.0          NaN            NaN            NaN   4.515137  ...   \n",
       "985      24.0          NaN            NaN            NaN        NaN  ...   \n",
       "986      30.0          NaN            NaN            NaN  48.576172  ...   \n",
       "987       6.0          NaN            NaN            NaN  22.015625  ...   \n",
       "\n",
       "                        ivtdir western_low  western_high  northwestern_low  \\\n",
       "0    224.91021331187994 degree -171.727932    410.474576       -277.262466   \n",
       "1    220.23760859065467 degree         NaN    538.542225               NaN   \n",
       "2    231.68037841051355 degree         NaN    570.413285               NaN   \n",
       "3     237.0652245325259 degree -264.049377    562.519768               NaN   \n",
       "4     270.4320425315212 degree -232.334706    151.812409               NaN   \n",
       "..                         ...         ...           ...               ...   \n",
       "983  240.43672607892813 degree -181.423361           NaN               NaN   \n",
       "984   250.3772879757895 degree -266.148849           NaN       -270.614868   \n",
       "985  188.15285286031184 degree -535.461933           NaN       -215.308616   \n",
       "986  277.25970342681023 degree -658.230455           NaN       -452.952213   \n",
       "987  250.22261957816355 degree -536.228934           NaN      -1121.743124   \n",
       "\n",
       "     northwestern_high  eastern_low  eastern_high  western_freeze  \\\n",
       "0           254.583280  -556.359117    243.805053               1   \n",
       "1           550.066162  -687.720702    324.721934               1   \n",
       "2           264.630210  -638.594000    186.723207               1   \n",
       "3           525.196476  -593.690705    217.179775               1   \n",
       "4           528.596253  -659.495027           NaN               1   \n",
       "..                 ...          ...           ...             ...   \n",
       "983                NaN  -153.051697    620.529686              -1   \n",
       "984                NaN  -153.740778    740.600011              -1   \n",
       "985                NaN  -140.994532    221.152453              -1   \n",
       "986                NaN  -149.184701           NaN              -1   \n",
       "987                NaN  -138.967002    257.131102              -1   \n",
       "\n",
       "     northwestern_freeze  eastern_freeze  \n",
       "0                      1              -1  \n",
       "1                      1              -1  \n",
       "2                      1              -1  \n",
       "3                      1              -1  \n",
       "4                      1              -1  \n",
       "..                   ...             ...  \n",
       "983                    0               1  \n",
       "984                   -1               1  \n",
       "985                   -1               1  \n",
       "986                   -1              -1  \n",
       "987                   -1              -1  \n",
       "\n",
       "[988 rows x 21 columns]"
      ]
     },
     "execution_count": 83,
     "metadata": {},
     "output_type": "execute_result"
    }
   ],
   "source": [
    "%%time\n",
    "for i, region in enumerate(region_name):\n",
    "    ## compute low freezing level\n",
    "    x = ds_low[i].z.values\n",
    "    # flatten array to 2D so it is ntimes, nlat*nlon\n",
    "    ntimes, nlats, nlons = x.shape\n",
    "    x = x.reshape(ntimes, nlats*nlons)\n",
    "\n",
    "    # mark True if value is not nan\n",
    "    a = ~np.isnan(x)\n",
    "    # # mark True if any value for each time step is True (aka not nan)\n",
    "    # z = np.any(a, axis=1)\n",
    "    \n",
    "    # count number of True for each time step\n",
    "    low = np.count_nonzero(a, axis=1)\n",
    "    df['low'] = low\n",
    "\n",
    "    ## compute high freezing level\n",
    "    x = ds_high[i].z.values\n",
    "    # flatten array to 2D so it is ntimes, nlat*nlon\n",
    "    ntimes, nlats, nlons = x.shape\n",
    "    x = x.reshape(ntimes, nlats*nlons)\n",
    "\n",
    "    # mark True if value is not nan\n",
    "    a = ~np.isnan(x)\n",
    "    # # mark True if any value for each time step is True (aka not nan)\n",
    "    # z = np.any(a, axis=1)\n",
    "    \n",
    "    # count number of True for each time step\n",
    "    high = np.count_nonzero(a, axis=1)\n",
    "    df['high'] = high\n",
    "    \n",
    "    colname = region + '_freeze'\n",
    "    df[colname] = 0\n",
    "    df.loc[df['low'] > df['high'], colname] = -1\n",
    "    df.loc[df['low'] < df['high'], colname] = 1\n",
    "    \n",
    "    # drop low and high columns\n",
    "    df = df.drop(columns=['low', 'high'])\n",
    "\n",
    "\n",
    "df"
   ]
  },
  {
   "cell_type": "code",
   "execution_count": 84,
   "metadata": {},
   "outputs": [],
   "source": [
    "# Export dataframes as csv\n",
    "df.to_csv(path_to_out + 'DJF_ivt_ar_types_freezing_level_max_prec_new.csv')"
   ]
  }
 ],
 "metadata": {
  "kernelspec": {
   "display_name": "Python (hasia2)",
   "language": "python",
   "name": "hasia2"
  },
  "language_info": {
   "codemirror_mode": {
    "name": "ipython",
    "version": 3
   },
   "file_extension": ".py",
   "mimetype": "text/x-python",
   "name": "python",
   "nbconvert_exporter": "python",
   "pygments_lexer": "ipython3",
   "version": "3.7.10"
  }
 },
 "nbformat": 4,
 "nbformat_minor": 4
}
